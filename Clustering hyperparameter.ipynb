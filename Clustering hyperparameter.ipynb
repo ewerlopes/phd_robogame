{
 "cells": [
  {
   "cell_type": "markdown",
   "metadata": {},
   "source": [
    "## Clustering"
   ]
  },
  {
   "cell_type": "code",
   "execution_count": 48,
   "metadata": {
    "collapsed": false
   },
   "outputs": [
    {
     "name": "stdout",
     "output_type": "stream",
     "text": [
      "Populating the interactive namespace from numpy and matplotlib\n"
     ]
    },
    {
     "name": "stderr",
     "output_type": "stream",
     "text": [
      "WARNING: pylab import has clobbered these variables: ['dist', 'sample', 'f', 'title']\n",
      "`%matplotlib` prevents importing * from pylab and numpy\n"
     ]
    }
   ],
   "source": [
    "from __future__ import division\n",
    "%matplotlib inline\n",
    "%pylab inline\n",
    "import csv\n",
    "import sys\n",
    "import os\n",
    "import traceback\n",
    "import json\n",
    "import pickle\n",
    "import numpy as np\n",
    "import pandas as pd\n",
    "import scipy.io as sio\n",
    "from sklearn.externals import joblib\n",
    "from matplotlib import pyplot as plt\n",
    "from collections import defaultdict, Counter\n",
    "from helper_functions import getListOfFiles, getCSV, getStatistics, remap_interval"
   ]
  },
  {
   "cell_type": "markdown",
   "metadata": {},
   "source": [
    "## Load decomposed segments from matlab"
   ]
  },
  {
   "cell_type": "code",
   "execution_count": null,
   "metadata": {
    "collapsed": false
   },
   "outputs": [],
   "source": [
    "mat_dir = \"./symbolization_mat\"\n",
    "files = getListOfFiles(mat_dir, \".mat\")\n",
    "print \">> {} mat Files found:\\n\".format(len(files))\n",
    "print json.dumps(files)\n",
    "print\n",
    "original_files = []\n",
    "for f in files:\n",
    "    original_files.append('.'.join(f.split('.')[0:2]))\n",
    "\n",
    "print \">> {} Original CSV Files:\\n\".format(len(original_files))\n",
    "print json.dumps(original_files)"
   ]
  },
  {
   "cell_type": "code",
   "execution_count": 3,
   "metadata": {
    "collapsed": false,
    "scrolled": false
   },
   "outputs": [
    {
     "name": "stdout",
     "output_type": "stream",
     "text": [
      "N. of segments 613\n",
      "Min. sample size of 50\n"
     ]
    }
   ],
   "source": [
    "segments = []\n",
    "count = 0\n",
    "min_length = float('inf')\n",
    "for f in files:\n",
    "    mat_content = sio.loadmat(os.path.join(mat_dir, f))\n",
    "    #print mat_content\n",
    "    data = mat_content['c_sym']\n",
    "    #print data.tolist()[0]\n",
    "    for d in data.tolist()[0]:\n",
    "        if d[0].size == 0:\n",
    "            pass\n",
    "        else:\n",
    "            count += 1\n",
    "            sample = [i[0] for i in d.tolist()]\n",
    "            if len(sample) < min_length:\n",
    "                min_length = len(sample)\n",
    "            segments.append(sample)\n",
    "\n",
    "assert (len(segments) == count)\n",
    "print 'N. of segments {}'.format(count)\n",
    "print 'Min. sample size of {}'.format(min_length)"
   ]
  },
  {
   "cell_type": "markdown",
   "metadata": {},
   "source": [
    "## Turning into list of strings"
   ]
  },
  {
   "cell_type": "code",
   "execution_count": null,
   "metadata": {
    "collapsed": false
   },
   "outputs": [],
   "source": [
    "for l in range(len(segments)):\n",
    "    segments[l] = ''.join(map(str, segments[l]))\n",
    "\n",
    "pre_view = 5\n",
    "print 'First {} symbolized strings are:\\n{}'.format(pre_view,segments[:pre_view])"
   ]
  },
  {
   "cell_type": "markdown",
   "metadata": {},
   "source": [
    "## Exporting to csv"
   ]
  },
  {
   "cell_type": "code",
   "execution_count": null,
   "metadata": {
    "collapsed": false
   },
   "outputs": [],
   "source": [
    "#file_name = \"segments.csv\"\n",
    "#output_filename = open(file_name, 'wa')\n",
    "#csv_writer = csv.writer(output_filename)\n",
    "#for i in segments:\n",
    "#    csv_writer.writerow(i)"
   ]
  },
  {
   "cell_type": "markdown",
   "metadata": {},
   "source": [
    "## Clustering"
   ]
  },
  {
   "cell_type": "code",
   "execution_count": null,
   "metadata": {
    "collapsed": false
   },
   "outputs": [],
   "source": [
    "from leven import levenshtein       \n",
    "import numpy as np\n",
    "from sklearn.cluster import dbscan\n",
    "#data = [\"1234567\", \"11222333444\", \"22222\", \"22122\", '0000']\n",
    "data = segments\n",
    "def lev_metric(x, y):\n",
    "    i, j = int(x[0]), int(y[0])     # extract indices\n",
    "    return levenshtein(data[i], data[j])\n",
    "\n",
    "X = np.arange(len(data)).reshape(-1, 1)\n",
    "#print X\n",
    "res = dbscan(X, metric=lev_metric, eps=10, min_samples=5)\n",
    "num_of_clusters = set(res[1])\n",
    "print num_of_clusters\n",
    "print len(num_of_clusters)\n",
    "###### NOTE: THE FIRST OUTPUT ARRAY LISTS ONLY VECTOR INDEXES THAT BELONG TO SOME CLUSTER, THUS, NOISE\n",
    "#POINTS ARE NOT SHOWN. THE SECOND OUTPUT ARRAY DISPLAYS THE CLUSTERS, WERE -1 IS THE NOISE (NOT A CLUSTER)."
   ]
  },
  {
   "cell_type": "markdown",
   "metadata": {},
   "source": [
    "## Searching for good DBSCAN epsilon"
   ]
  },
  {
   "cell_type": "code",
   "execution_count": null,
   "metadata": {
    "collapsed": false,
    "scrolled": false
   },
   "outputs": [],
   "source": [
    "stride = 100\n",
    "test_eps = np.linspace(1,50,stride)\n",
    "assignments_per_eps = []    # DBSCAN non-noise samples (as X indexes)\n",
    "n_assignments_per_eps = []  # Number of non-noise per eps\n",
    "clusters = []               # DBSCAN clusters\n",
    "n_clusters_per_eps = []     # Number of clusters per pes\n",
    "data_size = len(X)\n",
    "for ind,e in enumerate(test_eps):\n",
    "    \n",
    "    print '-- running test {} of {}. Eps={} ...'.format(ind,stride,e)\n",
    "    result = dbscan(X, metric=lev_metric, eps=e, min_samples=5)\n",
    "    \n",
    "    assignments_per_eps.append(result[0])\n",
    "    clusters.append(result[1])\n",
    "    num_of_assigments = len(result[0])\n",
    "    n_assignments_per_eps.append(num_of_assigments)\n",
    "    num_of_clusters = len(set(result[1]))\n",
    "    n_clusters_per_eps.append(num_of_clusters)\n",
    "\n",
    "    print '-- DONE! Result -- assign:{}/{} clusters:{}'.format(num_of_assigments, data_size,num_of_clusters)"
   ]
  },
  {
   "cell_type": "markdown",
   "metadata": {},
   "source": [
    "## Searching for good min_samples"
   ]
  },
  {
   "cell_type": "code",
   "execution_count": null,
   "metadata": {
    "collapsed": false
   },
   "outputs": [],
   "source": [
    "stride = 20\n",
    "test_min_samples = np.linspace(1,20,stride)\n",
    "e = 41   #epsilon\n",
    "assignments_per_eps = []    # DBSCAN non-noise samples (as X indexes)\n",
    "n_assignments_per_eps = []  # Number of non-noise per eps\n",
    "clusters = []               # DBSCAN clusters\n",
    "n_clusters_per_eps = []     # Number of clusters per pes\n",
    "data_size = len(X)\n",
    "\n",
    "for ind,s in enumerate(test_min_samples):    \n",
    "    print '-- running test {} of {}. Eps={:.2f} min_samples={:.2f} ...'.format(ind,stride,e,s)\n",
    "    result = dbscan(X, metric=lev_metric, eps=e, min_samples=s)\n",
    "    \n",
    "    assignments_per_eps.append(result[0])\n",
    "    clusters.append(result[1])\n",
    "    num_of_assigments = len(result[0])\n",
    "    n_assignments_per_eps.append(num_of_assigments)\n",
    "    num_of_clusters = len(set(result[1]))\n",
    "    n_clusters_per_eps.append(num_of_clusters)\n",
    "\n",
    "    print '-- DONE! Result -- assign:{}/{} clusters:{}'.format(num_of_assigments, data_size,num_of_clusters)"
   ]
  },
  {
   "cell_type": "markdown",
   "metadata": {},
   "source": [
    "### Plotting results"
   ]
  },
  {
   "cell_type": "code",
   "execution_count": null,
   "metadata": {
    "collapsed": false
   },
   "outputs": [],
   "source": [
    "figsize(12,8)\n",
    "plt.title('MaxD: 10, MinL=50, nBin=8, seqLen=30, stride=1. Epsilon=41',fontsize=20)\n",
    "plt.plot(test_min_samples,n_assignments_per_eps, label='#assignments')\n",
    "plt.plot(test_min_samples,n_clusters_per_eps, label='#clusters')\n",
    "plt.xlabel('DBSCAN min_samples')\n",
    "#plt.xticks(np.linspace(1,100,25))\n",
    "plt.yscale('log')\n",
    "plt.legend()\n",
    "plt.grid()"
   ]
  },
  {
   "cell_type": "markdown",
   "metadata": {},
   "source": [
    "## Save to pickle"
   ]
  },
  {
   "cell_type": "code",
   "execution_count": null,
   "metadata": {
    "collapsed": false
   },
   "outputs": [],
   "source": [
    "# open the file for writing\n",
    "pickle_dir = './exp_pickle'\n",
    "test_prefix = 'MD_X_MinL_X_B_X_SL_X_S_X__'\n",
    "to_pickle = ['assignments_per_eps', 'n_assignments_per_eps', 'clusters','n_clusters_per_eps']\n",
    "for v in to_pickle:\n",
    "    print '-- Pickling variable {}'.format(v)\n",
    "    file_name = test_prefix + v\n",
    "    file_object = open(os.path.join(pickle_dir,file_name),'wb')\n",
    "    pickle.dump(eval(v),file_object)\n",
    "    file_object.close()\n",
    "print 'pickle DONE!'"
   ]
  },
  {
   "cell_type": "markdown",
   "metadata": {},
   "source": [
    "## Loading from pickle"
   ]
  },
  {
   "cell_type": "code",
   "execution_count": 54,
   "metadata": {
    "collapsed": false
   },
   "outputs": [
    {
     "name": "stdout",
     "output_type": "stream",
     "text": [
      "['MD_10_MinL_50_B_8_SL_30_S_1__assignments_per_eps', 'MD_10_MinL_50_B_8_SL_30_S_1__clusters', 'MD_10_MinL_50_B_8_SL_30_S_1__n_assignments_per_eps', 'MD_10_MinL_50_B_8_SL_30_S_1__n_clusters_per_eps']\n"
     ]
    }
   ],
   "source": [
    "# folder from where to load\n",
    "pickle_dir = './exp_pickle'\n",
    "files = getListOfFiles(pickle_dir, \"\")\n",
    "print files"
   ]
  },
  {
   "cell_type": "code",
   "execution_count": 58,
   "metadata": {
    "collapsed": false
   },
   "outputs": [],
   "source": [
    "saved_pickles = getListOfFiles(pickle_dir, \"\")\n",
    "fileObject = open(os.path.join(pickle_dir,'MD_10_MinL_50_B_8_SL_30_S_1__n_assignments_per_eps'),'r')  \n",
    "# load the object from the file into var b\n",
    "n_assignments_per_eps = pickle.load(fileObject)\n",
    "fileObject.close()\n",
    "fileObject = open(os.path.join(pickle_dir,'MD_10_MinL_50_B_8_SL_30_S_1__n_clusters_per_eps'),'r')  \n",
    "n_clusters_per_eps = pickle.load(fileObject)\n",
    "fileObject.close()"
   ]
  },
  {
   "cell_type": "markdown",
   "metadata": {},
   "source": [
    "### Plotting results"
   ]
  },
  {
   "cell_type": "code",
   "execution_count": 60,
   "metadata": {
    "collapsed": false
   },
   "outputs": [
    {
     "data": {
      "image/png": "[encoded data removed]",
      "text/plain": [
       "<matplotlib.figure.Figure at 0x117096d10>"
      ]
     },
     "metadata": {},
     "output_type": "display_data"
    }
   ],
   "source": [
    "test_eps = np.linspace(1,100,100)\n",
    "\n",
    "figsize(12,8)\n",
    "plt.title('MaxD: 10, MinL=50, nBin=8, seqLen=30, stride=1',fontsize=20)\n",
    "plt.plot(test_eps,n_assignments_per_eps, label='#assignments')\n",
    "plt.plot(test_eps,n_clusters_per_eps, label='#clusters')\n",
    "plt.xlabel('DBSCAN epsilon')\n",
    "#plt.xticks(np.linspace(1,100,25))\n",
    "plt.yscale('log')\n",
    "plt.legend()\n",
    "plt.grid()"
   ]
  }
 ],
 "metadata": {
  "kernelspec": {
   "display_name": "Python 2",
   "language": "python",
   "name": "python2"
  },
  "language_info": {
   "codemirror_mode": {
    "name": "ipython",
    "version": 2
   },
   "file_extension": ".py",
   "mimetype": "text/x-python",
   "name": "python",
   "nbconvert_exporter": "python",
   "pygments_lexer": "ipython2",
   "version": "2.7.11"
  }
 },
 "nbformat": 4,
 "nbformat_minor": 0
}
