{
 "cells": [
  {
   "cell_type": "markdown",
   "metadata": {},
   "source": [
    "# Experiments\n",
    "___"
   ]
  },
  {
   "cell_type": "markdown",
   "metadata": {},
   "source": [
    "Let's use the Flappy-bird game as a simple environment. [Isaksen et al. 2015](http://game.engineering.nyu.edu/wp-content/uploads/2015/04/exploring-game-space-FDG2015.pdf) used such game in order to show how to use Survival Analysis to explore game space. In order to anchor our research, we use essentially the same difficulty space proposed by the authors, but imposing a slight change on some parameters as well as crossing out others."
   ]
  },
  {
   "cell_type": "markdown",
   "metadata": {},
   "source": [
    "## Difficulty settings"
   ]
  },
  {
   "cell_type": "markdown",
   "metadata": {},
   "source": [
    "Following [Isaksen et al. 2015](http://game.engineering.nyu.edu/wp-content/uploads/2015/04/exploring-game-space-FDG2015.pdf), we define:\n",
    "```\n",
    "    group_pipe_separation : More distance between pipes is easier to play,\n",
    "                            giving more time to react to changing gap locations. Change distance\n",
    "                            between each group of 3 pipes\n",
    "\n",
    "    pipe_gap        : The distance between the upper pipe and the lower pipe.\n",
    "                      Narrower gaps are more difficult as the bird has less room to\n",
    "                      maneuver, requiring better motor skills.\n",
    "\n",
    "    pipe_width      : Wider pipes increase difficulty as the bird spends more time in the narrow pipe gap.\n",
    "\n",
    "    pipe_gap_loc_range : The pipe gap locations are uniformly randomly distributed in a range somewhere\n",
    "                         between the ceiling and the floor. Larger ranges are harder because there is\n",
    "                         more distance to travel between a high gap and a low gap.\n",
    "\n",
    "    gravity           : Acceleration of the bird in the y direction, subtracted from the bird's y velocity\n",
    "                          each frame. Higher gravity causes the bird to drop faster, lowering the margin of\n",
    "                          error.\n",
    "\n",
    "    jump_vel           : When the bird flaps, its vertical velocity is set to jump_vel, making it jump upward.\n",
    "                          Higher velocity makes higher jumps.\n",
    "\n",
    "    bird_vel           : Speed at which the bird travels to the right (alternately, the speed at which pipes\n",
    "                            travel to the left).\n",
    "\n",
    "    world_width        : Screen width. In Flappy Bird, this is defined by the display resolution.\n",
    "\n",
    "    world_height       : Distance between ceiling and floor. In Flappy Bird, this is defined by the\n",
    "                          display resolution.\n",
    "\n",
    "    bird_width         : width of the bird's hit box. The wider and taller the bird, the harder it\n",
    "                        will be to jump through gaps.\n",
    "\n",
    "    bird_height        : height of the bird's hit box. The wider and taller the bird, the harder it\n",
    "                        will be to jump through gaps.\n",
    "```"
   ]
  },
  {
   "cell_type": "markdown",
   "metadata": {},
   "source": [
    "## Analysis"
   ]
  },
  {
   "cell_type": "markdown",
   "metadata": {},
   "source": [
    "Apart from other works, we allow only a subset of the difficulty settings to vary. The reason for that is that certain parameters are rarely considered as part of the difficulty space. For instance, `world_width` and `word_height` are often kept fixed and dependent on the display resolution.\n",
    "\n",
    "The following variables are allowed to change in our scenario:\n",
    "\n",
    "* group_pipe_separation\n",
    "* pipe_gap\n",
    "* gravity\n",
    "* jump_vel\n",
    "* bird_vel\n"
   ]
  },
  {
   "cell_type": "markdown",
   "metadata": {
    "collapsed": true
   },
   "source": [
    "### Setup\n",
    "___"
   ]
  },
  {
   "cell_type": "markdown",
   "metadata": {},
   "source": [
    "* Run each agent on a given flappy bird setting (difficulty) for 1000 iterations or 1 hour.\n",
    "* For training, we use [Evolution Strategies as a Scalable Alternative to Reinforcement Learning](https://blog.openai.com/evolution-strategies/), based on the [flappybird-es](https://github.com/alirezamika/flappybird-es) repository."
   ]
  },
  {
   "cell_type": "markdown",
   "metadata": {},
   "source": [
    "#### Learning parameters"
   ]
  },
  {
   "cell_type": "markdown",
   "metadata": {},
   "source": [
    "```\n",
    "AGENT_HISTORY_LENGTH = 1\n",
    "NUM_OF_ACTIONS = 2\n",
    "POPULATION_SIZE = 15\n",
    "EPS_AVG = 1\n",
    "SIGMA = 0.1\n",
    "LEARNING_RATE = 0.03\n",
    "INITIAL_EXPLORATION = 0.0\n",
    "FINAL_EXPLORATION = 0.0\n",
    "EXPLORATION_DEC_STEPS = 100000\n",
    "```"
   ]
  },
  {
   "cell_type": "markdown",
   "metadata": {},
   "source": [
    "#### Trained:  varying bird and jump vel"
   ]
  },
  {
   "cell_type": "markdown",
   "metadata": {},
   "source": [
    "```\n",
    "group_pipe_separation # increments of 50\n",
    "gravity               # increments of 1.1\n",
    "jump_vel              # increments of 2\n",
    "bird_vel              # increments of 1\n",
    "pipe_gap              # increments of 20\n",
    "```"
   ]
  },
  {
   "cell_type": "markdown",
   "metadata": {},
   "source": [
    "###### ModelA.pkl:\n",
    "```\n",
    "group_pipe_separation=150\n",
    "gravity=1.1\n",
    "jump_vel=7\n",
    "bird_vel=4.0\n",
    "pipe_gap=150\n",
    "```"
   ]
  },
  {
   "cell_type": "markdown",
   "metadata": {
    "collapsed": true
   },
   "source": [
    "###### ModelB.pkl:\n",
    "\n",
    "* difficulty:\n",
    "```\n",
    "group_pipe_separation=150,        # increments of 50\n",
    "gravity=1.1,                      # increments of 1.1\n",
    "jump_vel=9,                       # increments of 2\n",
    "bird_vel=4,                       # increments of 1\n",
    "pipe_gap=150)                     # increments of 20\n",
    "```"
   ]
  },
  {
   "cell_type": "markdown",
   "metadata": {},
   "source": [
    "###### ModelC.pkl:\n",
    "\n",
    "* difficulty:\n",
    "```\n",
    "group_pipe_separation=150,        # increments of 50\n",
    "gravity=1.1,                      # increments of 1.1\n",
    "jump_vel=11,                       # increments of 2\n",
    "bird_vel=4,                       # increments of 1\n",
    "pipe_gap=150)                     # increments of 20\n",
    "```"
   ]
  },
  {
   "cell_type": "code",
   "execution_count": null,
   "metadata": {},
   "outputs": [],
   "source": []
  }
 ],
 "metadata": {
  "kernelspec": {
   "display_name": "Python 2",
   "language": "python",
   "name": "python2"
  },
  "language_info": {
   "codemirror_mode": {
    "name": "ipython",
    "version": 2
   },
   "file_extension": ".py",
   "mimetype": "text/x-python",
   "name": "python",
   "nbconvert_exporter": "python",
   "pygments_lexer": "ipython2",
   "version": "2.7.12"
  }
 },
 "nbformat": 4,
 "nbformat_minor": 2
}
