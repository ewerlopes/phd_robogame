{
 "cells": [
  {
   "cell_type": "code",
   "execution_count": 1,
   "metadata": {
    "collapsed": true
   },
   "outputs": [],
   "source": [
    "from __future__ import division\n",
    "%matplotlib inline\n",
    "import numpy as np\n",
    "import scipy.io as sio\n",
    "import itertools\n",
    "from matplotlib import pyplot as plt\n",
    "import meta_features as mf\n",
    "from scipy import interp\n",
    "from sklearn.metrics import classification_report, roc_curve,  confusion_matrix\n",
    "from sklearn.model_selection import cross_val_score, train_test_split\n",
    "from sklearn.externals import joblib\n",
    "from collections import Counter"
   ]
  },
  {
   "cell_type": "markdown",
   "metadata": {},
   "source": [
    "## Load data"
   ]
  },
  {
   "cell_type": "code",
   "execution_count": 2,
   "metadata": {
    "collapsed": false
   },
   "outputs": [
    {
     "name": "stdout",
     "output_type": "stream",
     "text": [
      "[[ 0.31612362  0.51076294  1.         ...,  1.19060919  3.42123432  1.        ]\n",
      " [ 0.23859909  0.30645777  1.         ...,  0.63196545  3.77933016  1.        ]\n",
      " [ 0.49870963  2.14520436  4.         ...,  6.29437589  2.68336024  3.        ]\n",
      " ..., \n",
      " [ 0.49741322  3.27630447  6.         ...,  8.36395936  2.01679775  3.        ]\n",
      " [ 0.36464193  1.33099869  3.         ...,  3.3898593   2.84611253  2.        ]\n",
      " [ 0.57603441  2.45722835  4.         ...,  5.65549558  2.22981438  3.        ]]\n"
     ]
    }
   ],
   "source": [
    "data = sio.loadmat('../data/num_data_aug.mat')['data']\n",
    "# Remove not tagged instances (e.g., Enrico's low frequency gameplay)\n",
    "# 0 is the code for not tagged data. \n",
    "data = data[data[:,-1] != 0]\n",
    "print data"
   ]
  },
  {
   "cell_type": "code",
   "execution_count": 3,
   "metadata": {
    "collapsed": true
   },
   "outputs": [],
   "source": [
    "X = data[:,:-3]  # Load X.\n",
    "y = data[:,-1]   # Load y\n",
    "\n",
    "#label remap\n",
    "labels = {1: 'locally_moving', 2:'walk/dodging', 3:'running'}"
   ]
  },
  {
   "cell_type": "code",
   "execution_count": 139,
   "metadata": {
    "collapsed": true
   },
   "outputs": [],
   "source": [
    "res = joblib.load('matches.pkl')\n",
    "ci_prox = joblib.load('ci_proximity.pkl')\n",
    "clf = joblib.load('classifier.pkl') "
   ]
  },
  {
   "cell_type": "markdown",
   "metadata": {},
   "source": [
    "## Testing the activity formula"
   ]
  },
  {
   "cell_type": "code",
   "execution_count": 147,
   "metadata": {
    "collapsed": false
   },
   "outputs": [
    {
     "name": "stdout",
     "output_type": "stream",
     "text": [
      "Interval: [87, 88, 89, 90, 91, 92, 93, 94, 95, 96]\n"
     ]
    }
   ],
   "source": [
    "start = 87\n",
    "end   = 96\n",
    "interval = range(start,end+1,1)\n",
    "print \"Interval: {}\".format(interval)\n",
    "\n",
    "X_test = X[start:end]\n",
    "y_test = y[start:end]"
   ]
  },
  {
   "cell_type": "code",
   "execution_count": 148,
   "metadata": {
    "collapsed": false
   },
   "outputs": [],
   "source": [
    "n_classes = 3\n",
    "omega = [1, 30, 60]\n",
    "#assert np.sum(omega) == 1"
   ]
  },
  {
   "cell_type": "code",
   "execution_count": 149,
   "metadata": {
    "collapsed": false,
    "scrolled": false
   },
   "outputs": [
    {
     "name": "stdout",
     "output_type": "stream",
     "text": [
      "Interval number: 87\n",
      "Starts at: 0.0\n",
      "Ends at: 0.920014347202\n",
      "Prediction [[ 0.   0.9  0.1]]\n",
      "Energy: 0.271205405983\n",
      "Activity_level: 8.95\n",
      "\n",
      "Interval number: 88\n",
      "Starts at: 1.12446197991\n",
      "Ends at: 3.57783357245\n",
      "Prediction [[ 0.  0.  1.]]\n",
      "Energy: 0.364489116154\n",
      "Activity_level: 21.87\n",
      "\n",
      "Interval number: 89\n",
      "Starts at: 4.3956241033\n",
      "Ends at: 4.60007173601\n",
      "Prediction [[ 1.  0.  0.]]\n",
      "Energy: 0.0586553936076\n",
      "Activity_level: 0.06\n",
      "\n",
      "Interval number: 90\n",
      "Starts at: 4.90674318508\n",
      "Ends at: 7.05344332855\n",
      "Prediction [[ 0.  1.  0.]]\n",
      "Energy: 0.182308981529\n",
      "Activity_level: 5.47\n",
      "\n",
      "Interval number: 91\n",
      "Starts at: 8.17790530846\n",
      "Ends at: 10.0179340029\n",
      "Prediction [[ 0.   0.1  0.9]]\n",
      "Energy: 0.32243344591\n",
      "Activity_level: 18.38\n",
      "\n",
      "Interval number: 92\n",
      "Starts at: 10.7335007174\n",
      "Ends at: 14.0046628407\n",
      "Prediction [[ 0.  0.  1.]]\n",
      "Energy: 0.376406440657\n",
      "Activity_level: 22.58\n",
      "\n",
      "Interval number: 93\n",
      "Starts at: 14.2091104735\n",
      "Ends at: 20.1380918221\n",
      "Prediction [[ 0.   0.9  0.1]]\n",
      "Energy: 0.23476521804\n",
      "Activity_level: 7.75\n",
      "\n",
      "Interval number: 94\n",
      "Starts at: 20.7514347202\n",
      "Ends at: 21.4670014347\n",
      "Prediction [[ 0.9  0.1  0. ]]\n",
      "Energy: 0.0874317944261\n",
      "Activity_level: 0.34\n",
      "\n",
      "Interval number: 95\n",
      "Starts at: 22.5914634146\n",
      "Ends at: 25.1470588235\n",
      "Prediction [[ 0.1  0.9  0. ]]\n",
      "Energy: 0.136864813239\n",
      "Activity_level: 3.71\n",
      "\n",
      "Interval number: 96\n",
      "Starts at: 25.7604017217\n",
      "Ends at: 27.293758967\n",
      "Prediction [[ 0.3  0.7  0. ]]\n",
      "Energy: 0.112140134612\n",
      "Activity_level: 2.39\n",
      "\n"
     ]
    },
    {
     "data": {
      "image/png": "[encoded data removed]",
      "text/plain": [
       "<matplotlib.figure.Figure at 0x11040fc90>"
      ]
     },
     "metadata": {},
     "output_type": "display_data"
    },
    {
     "data": {
      "image/png": "[encoded data removed]",
      "text/plain": [
       "<matplotlib.figure.Figure at 0x110c995d0>"
      ]
     },
     "metadata": {},
     "output_type": "display_data"
    }
   ],
   "source": [
    "import matplotlib.patches as patches\n",
    "preds = []\n",
    "act_level = []\n",
    "sums = []\n",
    "begins = []\n",
    "ends = []\n",
    "for i in interval:\n",
    "    print 'Interval number: {}'.format(i)\n",
    "    print 'Starts at: {}'.format(res[i]['dt_samples'][0])\n",
    "    begins.append(res[i]['dt_samples'][0])\n",
    "    print 'Ends at: {}'.format(res[i]['dt_samples'][-1])\n",
    "    ends.append(res[i]['dt_samples'][-1])\n",
    "    pred = clf.predict_proba(X[i].reshape(1,-1))\n",
    "    print 'Prediction {}'.format(pred)\n",
    "    preds.append(pred)\n",
    "    summation = 0\n",
    "    epsilon = mf.energy(res[i]['act'])\n",
    "    print 'Energy: {}'.format(epsilon)\n",
    "    for j in range(n_classes):\n",
    "        summation += omega[j]*pred[0][j]*epsilon\n",
    "    if len(sums) == 0:\n",
    "        sums.append(summation)\n",
    "    else:\n",
    "        sums.append(sums[-1]+summation)\n",
    "    act_level.append(summation)\n",
    "    print 'Activity_level: {:.2f}'.format(summation)\n",
    "    print\n",
    "\n",
    "fig = plt.figure(figsize=(8,4))\n",
    "ax = fig.add_subplot(121)\n",
    "ax.plot(sums)\n",
    "ax.set_yticks(range(0,200,25))\n",
    "ax.set_xticks(range(len(sums)))\n",
    "ax.grid()\n",
    "ax.set_title('Cumulative activity score')\n",
    "\n",
    "ax2 = fig.add_subplot(122)\n",
    "dev = np.diff(sums)\n",
    "ax2.plot(dev)\n",
    "ax2.set_xticks(range(len(sums)))\n",
    "ax2.grid()\n",
    "ax2.set_title('Activity score derivative')\n",
    "plt.show()\n",
    "\n",
    "\n",
    "fig = plt.figure()\n",
    "ax3 = fig.add_subplot(111, aspect='equal')\n",
    "\n",
    "for i, (b,e) in enumerate(zip(begins,ends)):\n",
    "    xs = np.linspace(b,e,100)\n",
    "    ys = np.ones_like(xs) * act_level[i]\n",
    "    \n",
    "    p = patches.Rectangle(\n",
    "        (xs[0], 0), e-b, act_level[i], facecolor=\"red\", #fill=False,\n",
    "        linewidth=None,      # Default\n",
    "    )\n",
    "    ax3.plot(xs,ys)\n",
    "    ax3.add_patch(p)\n",
    "plt.xlabel('time')\n",
    "plt.ylabel('activity level')\n",
    "plt.grid()\n",
    "plt.show()"
   ]
  },
  {
   "cell_type": "markdown",
   "metadata": {},
   "source": [
    "## Fuzzy"
   ]
  },
  {
   "cell_type": "code",
   "execution_count": 146,
   "metadata": {
    "collapsed": false
   },
   "outputs": [
    {
     "name": "stdout",
     "output_type": "stream",
     "text": [
      "0.259482758621\n"
     ]
    },
    {
     "data": {
      "image/png": "[encoded data removed]",
      "text/plain": [
       "<matplotlib.figure.Figure at 0x110f9d510>"
      ]
     },
     "metadata": {},
     "output_type": "display_data"
    }
   ],
   "source": [
    "import numpy as np\n",
    "import skfuzzy as fuzz\n",
    "from skfuzzy import control as ctrl\n",
    "\n",
    "# New Antecedent/Consequent objects hold universe variables and membership\n",
    "# functions\n",
    "ci = ctrl.Antecedent(np.arange(0, 1.1, .1), 'ci')\n",
    "proximity = ctrl.Antecedent(np.arange(0, 1.1, .1), 'proximity')\n",
    "interaction_level = ctrl.Consequent(np.arange(0, 1.1, .1), 'interaction_level')\n",
    "\n",
    "# membership function population\n",
    "ci['low'] = fuzz.trapmf(ci.universe, [0,0,.1,.5])\n",
    "ci['medium'] = fuzz.trimf(ci.universe, [.1, .5, .9])\n",
    "ci['high'] = fuzz.trapmf(ci.universe, [.5, .9, 1, 1])\n",
    "proximity['low'] = fuzz.trapmf(proximity.universe, [0,0,.1,.5])\n",
    "proximity['medium'] = fuzz.trimf(proximity.universe, [.1, .5, .9])\n",
    "proximity['high'] = fuzz.trapmf(proximity.universe, [.5, .9, 1, 1])\n",
    "\n",
    "# Custom membership functions can be built interactively with a familiar,\n",
    "# Pythonic API\n",
    "interaction_level['low'] = fuzz.trapmf(interaction_level.universe, [0,0,0,0])\n",
    "interaction_level['medium'] = fuzz.trapmf(interaction_level.universe, [.5, .5, .5,.5])\n",
    "interaction_level['high'] = fuzz.trimf(interaction_level.universe, [1, 1, 1])\n",
    "\n",
    "rule1 = ctrl.Rule(ci['low'] & proximity['low'], interaction_level['low'])\n",
    "rule2 = ctrl.Rule(ci['medium'] & proximity['medium'], interaction_level['medium'])\n",
    "rule3 = ctrl.Rule(ci['high'] & proximity['high'], interaction_level['high'])\n",
    "rule4 = ctrl.Rule(ci['low'] & proximity['high'], interaction_level['medium'])\n",
    "rule5 = ctrl.Rule(ci['high'] & proximity['low'], interaction_level['medium'])\n",
    "rule6 = ctrl.Rule(ci['low'] & proximity['medium'], interaction_level['low'])\n",
    "rule7 = ctrl.Rule(ci['medium'] & proximity['low'], interaction_level['low'])\n",
    "rule8 = ctrl.Rule(ci['medium'] & proximity['high'], interaction_level['high'])\n",
    "rule9 = ctrl.Rule(ci['high'] & proximity['medium'], interaction_level['high'])\n",
    "\n",
    "\n",
    "interaction_ctrl = ctrl.ControlSystem([rule1, rule2, rule3, rule4, rule5, rule6, rule7, rule8, rule9])\n",
    "interaction_out = ctrl.ControlSystemSimulation(interaction_ctrl)\n",
    "# Pass inputs to the ControlSystem using Antecedent labels with Pythonic API\n",
    "# Note: if you like passing many inputs all at once, use .inputs(dict_of_data)\n",
    "interaction_out.input['ci'] = 0.2\n",
    "interaction_out.input['proximity'] = .2\n",
    "\n",
    "# Crunch the numbers\n",
    "interaction_out.compute()\n",
    "\n",
    "print interaction_out.output['interaction_level']\n",
    "interaction_level.view(sim=interaction_out)"
   ]
  },
  {
   "cell_type": "code",
   "execution_count": null,
   "metadata": {
    "collapsed": true
   },
   "outputs": [],
   "source": []
  }
 ],
 "metadata": {
  "kernelspec": {
   "display_name": "Python 2",
   "language": "python",
   "name": "python2"
  },
  "language_info": {
   "codemirror_mode": {
    "name": "ipython",
    "version": 2
   },
   "file_extension": ".py",
   "mimetype": "text/x-python",
   "name": "python",
   "nbconvert_exporter": "python",
   "pygments_lexer": "ipython2",
   "version": "2.7.11"
  },
  "widgets": {
   "state": {},
   "version": "1.1.1"
  }
 },
 "nbformat": 4,
 "nbformat_minor": 0
}
