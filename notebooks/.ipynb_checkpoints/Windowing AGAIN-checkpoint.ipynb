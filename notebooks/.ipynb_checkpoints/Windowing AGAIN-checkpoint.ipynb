{
 "cells": [
  {
   "cell_type": "markdown",
   "metadata": {},
   "source": [
    "## Export recomposed signals to matlab"
   ]
  },
  {
   "cell_type": "code",
   "execution_count": 2,
   "metadata": {
    "collapsed": true
   },
   "outputs": [],
   "source": [
    "from __future__ import division\n",
    "%matplotlib inline\n",
    "import csv\n",
    "import sys\n",
    "import os\n",
    "import traceback\n",
    "import json\n",
    "import learn_utils\n",
    "import meta_features as mf\n",
    "import numpy as np\n",
    "import pandas as pd\n",
    "import scipy.io as sio\n",
    "from scipy.signal import butter, lfilter, filtfilt\n",
    "from tabulate import tabulate\n",
    "from matplotlib import pyplot as plt\n",
    "from collections import defaultdict, Counter\n",
    "\n",
    "\n",
    "import scipy.signal as signal\n",
    "import matplotlib.pyplot as plt\n",
    "\n",
    "from helper_functions import getListOfFiles, getCSV, getStatistics, remap_interval"
   ]
  },
  {
   "cell_type": "markdown",
   "metadata": {},
   "source": [
    "## Loading files names"
   ]
  },
  {
   "cell_type": "code",
   "execution_count": 3,
   "metadata": {
    "collapsed": true
   },
   "outputs": [],
   "source": [
    "def loadFile(file_name, verbose=False):\n",
    "    ##NOTE: IF \"TOO MANY VALUES TO UNPACK\" ERROR IN THE getCSV METHOD, RESTART THE KERNEL. SOMETHING MUST BE WRONG WITH\n",
    "    # THE KERNEL INITIALIZATION. MUST BE CHECKED! (LOW-PRIORITY)\n",
    "\n",
    "    csv_data = None          # the variable where the loaded csv data is stored.\n",
    "    num_windows = 0          # the number of windows loaded.\n",
    "    windows = []             # the list of windows data. Each element is a pandas dataframe \n",
    "                             #  corresponding to the windows. The list is of size 'num_windows'.\n",
    "\n",
    "    #print '-- Processing: \"{}\"'.format(file_name)\n",
    "\n",
    "    # load the data, abort in case of error.\n",
    "    try:\n",
    "        num_windows, csv_data = getCSV(os.path.join(csv_dir, file_name))\n",
    "    except ValueError as e:\n",
    "        print traceback.format_exc()\n",
    "        sys.exit(-1)\n",
    "\n",
    "    for w in range(num_windows):\n",
    "        win_data = {}\n",
    "        for k in csv_data.keys():\n",
    "            # consider the data only if it is not in the ignore list.\n",
    "            if k not in ignore_col_list:\n",
    "                if  csv_data[k][w] == []:\n",
    "                    raise ValueError(\"\\tFile has empty tagged windows. Skipping...\")\n",
    "                win_data[feature_name_map[k]] = csv_data[k][w]\n",
    "                \n",
    "        # convert dictionary to dataframe and save it to list of all windows data for the file.\n",
    "        windows.append(pd.DataFrame.from_dict(win_data))\n",
    "    \n",
    "    #print '-- Retrieved {} windows in {}'.format(num_windows, file_name)\n",
    "    \n",
    "    if verbose:\n",
    "        overlap_reference = 50\n",
    "        try:\n",
    "            _, n_windows, sample_info, avg_overlap, avg_diff = getStatistics(csv_data, compareWith=overlap_reference)\n",
    "            print \"LOAD SUMMARY:\"\n",
    "            print tabulate([[n_windows,\"{:.2f}\".format(avg_overlap),\"{:.2f}\".format(avg_diff)]],\n",
    "                               headers=[\"#Win\", \"Avg. Overlap\", \"Avg. dev. from ref.\"])\n",
    "        except ValueError as e:\n",
    "            print traceback.format_exc()\n",
    "            return None\n",
    "    return windows"
   ]
  },
  {
   "cell_type": "code",
   "execution_count": 4,
   "metadata": {
    "collapsed": false
   },
   "outputs": [
    {
     "name": "stdout",
     "output_type": "stream",
     "text": [
      ">> 34 CSV Files found:\n",
      "\n",
      "[\"_2016-11-23-18-49-13_exp1_Player.csv\", \"_2016-11-23-18-49-13_exp2_Player.csv\", \"_2016-11-23-18-49-13_exp3_Player.csv\", \"_2016-11-23-18-49-13_exp4_Player.csv\", \"_2016-11-23-18-49-13_exp5_Player.csv\", \"_2016-11-24-15-43-37_exp1d_Player.csv\", \"_2016-11-24-15-43-37_exp2d_Player.csv\", \"_2016-11-24-15-43-37_exp3d_Player.csv\", \"_2016-11-24-15-43-37_exp4d_Player.csv\", \"_2016-11-24-15-43-37_exp5d_Player.csv\", \"_2016-11-24-15-43-37_exp6d_Player.csv\", \"_2016-11-24-16-23-29_expa_Player.csv\", \"_2016-11-24-16-23-29_expb_Player.csv\", \"_2016-11-24-16-23-29_expc_Player.csv\", \"_2016-11-24-16-23-29_expd_Player.csv\", \"_2016-11-24-16-48-48_exp1d_Player.csv\", \"_2016-11-24-16-48-48_exp2d_Player.csv\", \"_2016-11-24-16-48-48_exp3d_Player.csv\", \"_2016-11-24-17-15-38_expa_Player.csv\", \"_2016-11-24-17-15-38_expb_Player.csv\", \"_2016-11-24-17-15-38_expc_Player.csv\", \"_2016-11-24-17-40-06_expb_Player.csv\", \"_2016-11-26-15-42-51_exp1d_Player.csv\", \"_2016-11-26-16-05-47_exp1d_Player.csv\", \"_2016-11-26-16-35-21_exp1d_Player.csv\", \"_2016-11-26-16-49-44_exp1d_Player.csv\", \"_2016-11-26-17-15-53_exp2_Player.csv\", \"_2016-11-26-17-15-53_exp3_Player.csv\", \"_2016-11-26-17-15-53_exp4_Player.csv\", \"_2016-11-26-17-15-53_fixed_exp1d_Player.csv\", \"_2016-11-26-17-15-53_fixed_exp2d_Player.csv\", \"_2016-11-26-17-38-21_fixed_exp1d_Player.csv\", \"_2016-11-26-18-36-15_expa_Player.csv\", \"_2016-11-26-18-36-15_expb_Player.csv\"]\n"
     ]
    }
   ],
   "source": [
    "csv_dir = \"../data/annotated_csv/\"\n",
    "files = getListOfFiles(csv_dir, \".csv\")\n",
    "print \">> {} CSV Files found:\\n\".format(len(files))\n",
    "print json.dumps(files)"
   ]
  },
  {
   "cell_type": "code",
   "execution_count": 5,
   "metadata": {
    "collapsed": false
   },
   "outputs": [
    {
     "name": "stdout",
     "output_type": "stream",
     "text": [
      "List of ignored topics: []\n"
     ]
    }
   ],
   "source": [
    "# variable for storing the loaded feature names.\n",
    "feature_name_map = {\n",
    "  \"time\" : \"time\",\n",
    "  \"Control\": \"control\",\n",
    "  \"High_level\": \"high_level\",\n",
    "  \"Expectation\": \"expectation\",\n",
    "  \"Activity\": \"activity\",\n",
    "  \"/kinect_features/.ci\": \"ci\",\n",
    "  \"/kinect_features/.distance\": \"distance\",\n",
    "  \"/kinect_features/.proximity\": \"proximity\",\n",
    "  \"robogame/imu_state.gyro.x\": \"gyroX\",\n",
    "  \"robogame/imu_state.gyro.y\": \"gyroY\",\n",
    "  \"robogame/imu_state.gyro.z\": \"gyroZ\",\n",
    "  \"robogame/imu_state.linear_acc.x\": \"accX\",\n",
    "  \"robogame/imu_state.linear_acc.y\": \"accY\",\n",
    "  \"robogame/imu_state.linear_acc.z\": \"accZ\"\n",
    "}\n",
    "\n",
    "ignore_col_list = [k for k,v in feature_name_map.items() if v is \"\"]\n",
    "print \"List of ignored topics: {}\".format(ignore_col_list)"
   ]
  },
  {
   "cell_type": "code",
   "execution_count": 6,
   "metadata": {
    "collapsed": true
   },
   "outputs": [],
   "source": [
    "def accmag(data, suptitle=\"Magnitude of accelerometer signal\", feature='activity', plt_win_func=False):\n",
    "    \"\"\"Plots the data in a grid of plots.\n",
    "    Args:\n",
    "        data (list): the list of data to be used.\n",
    "        title (str): grid title.\n",
    "        columnToPlot: the column in the data to be plotted.\n",
    "    \"\"\"\n",
    "    \n",
    "    grid_side_size = int(round(np.sqrt(len(data))))\n",
    "    fig, axes = plt.subplots(grid_side_size, grid_side_size, figsize=(18,12))\n",
    "\n",
    "    count = 0\n",
    "    for i, row in enumerate(axes):\n",
    "        for j in range(grid_side_size):\n",
    "            if count >= len(data):\n",
    "                fig.delaxes(row[j])\n",
    "            else:\n",
    "                ## According to the MPU-6050 datasheet, page 13, you can convert the raw accelerometer\n",
    "                # data into multiples of g (9.8 m/s^2) by dividing by a factor of 16384. \n",
    "                norm_dataX = [x/16384.0 for x in data[count][\"accX\"].dropna()]\n",
    "                norm_dataY = [y/16384.0 for y in data[count][\"accY\"].dropna()]\n",
    "                norm_dataZ = [z/16384.0 for z in data[count][\"accZ\"].dropna()]\n",
    "\n",
    "                mag = []\n",
    "                for i in range(len(norm_dataX)):\n",
    "                    mag.append(np.sqrt(norm_dataX[i]**2 + norm_dataY[i]**2 + norm_dataZ[i]**2))\n",
    "\n",
    "                windowFunction = np.hanning(len(mag))\n",
    "                #if use_win_func:\n",
    "                #    mag = mag * np.hanning(len(mag))\n",
    "\n",
    "                row[j].set_title(\"W={}. {}={} \".format(count, feature, data[count][feature][0]), fontsize=8, fontweight=\"bold\")\n",
    "                row[j].set_ylabel('Vector magnitude')\n",
    "                row[j].plot(mag, label=str(data[count][feature][0]))\n",
    "                row[j].plot(windowFunction, label=\"hanning\")\n",
    "                row[j].grid()\n",
    "                if plt_win_func:\n",
    "                    row[j].plot(mag * np.hanning(len(mag)), label=\"combined\")\n",
    "                count += 1\n",
    "                row[j].legend(loc='upper center', bbox_to_anchor=(0.5, 1.45), ncol=3, fontsize=8, fancybox=True, shadow=True)\n",
    "    \n",
    "    fig.suptitle(suptitle, fontsize=21)\n",
    "    fig.subplots_adjust(hspace=0.7, wspace= 0.5)\n",
    "    plt.draw()\n",
    "\n",
    "def running_mean(l, N):\n",
    "    # Also works for the(strictly invalid) cases when N is even.\n",
    "    if (N//2)*2 == N:\n",
    "        N = N - 1\n",
    "    front = np.zeros(N//2)\n",
    "    back = np.zeros(N//2)\n",
    "\n",
    "    for i in range(1, (N//2)*2, 2):\n",
    "        front[i//2] = np.convolve(l[:i], np.ones((i,))/i, mode = 'valid')\n",
    "    for i in range(1, (N//2)*2, 2):\n",
    "        back[i//2] = np.convolve(l[-i:], np.ones((i,))/i, mode = 'valid')\n",
    "    return np.concatenate([front, np.convolve(l, np.ones((N,))/N, mode = 'valid'), back[::-1]])\n",
    "\n",
    "def compute_runavg_acc(data, showPlot= False, suptitle=\"Running average smoothing\", feature='activity', N=4):\n",
    "    \"\"\"Running average as smoothing\"\"\"\n",
    "    \n",
    "\n",
    "    ## According to the MPU-6050 datasheet, page 13, you can convert the raw accelerometer\n",
    "    # data into multiples of g (9.8 m/s^2) by dividing by a factor of 16384. \n",
    "    norm_dataX = running_mean(data, N)\n",
    "    \n",
    "    if showPlot:\n",
    "        fig, ax = plt.subplots(1,1, figsize=(18,8))\n",
    "        N_samps = len(norm_dataX)\n",
    "        Fs = N_samps/time_interval\n",
    "        print \"Time interval: \", str(time_interval)\n",
    "        # the period represents the oscilation. It's  the sample time, the time after which each data come.\n",
    "        T = 1./Fs\n",
    "        print \"Period: {}\".format(T)\n",
    "\n",
    "        t  = np.linspace(0,N_samps*T,N_samps) # N_samps*T (#samples x sample period) is the signal time.\n",
    "\n",
    "        ax.set_ylabel('g\\'s (9.8 m/s^2)')\n",
    "        ax.plot(norm_dataX)\n",
    "        ax.grid()\n",
    "        #ax.legend(loc='upper center', bbox_to_anchor=(0.5, 1.45), ncol=3, fontsize=8, fancybox=True, shadow=True)\n",
    "\n",
    "        plt.draw()\n",
    "    \n",
    "    return norm_dataX"
   ]
  },
  {
   "cell_type": "code",
   "execution_count": 7,
   "metadata": {
    "collapsed": false,
    "scrolled": false
   },
   "outputs": [
    {
     "name": "stdout",
     "output_type": "stream",
     "text": [
      "DONE!\n"
     ]
    }
   ],
   "source": [
    "##NOTE: IF \"TOO MANY VALUES TO UNPACK\" ERROR IN THE getCSV METHOD, RESTART THE KERNEL. SOMETHING MUST BE WRONG WITH\n",
    "# THE KERNEL INITIALIZATION. MUST BE CHECKED! (LOW-PRIORITY)\n",
    "failed_files = []\n",
    "frequences = []\n",
    "\n",
    "datasetX = []\n",
    "datasetY = []\n",
    "datasetZ = []\n",
    "\n",
    "for f in files:\n",
    "    csv_filename = f\n",
    "    file_data = []             # the list of windows data. Each element is a pandas dataframe \n",
    "                             #  corresponding to the windows. The list is of size 'num_windows'.\n",
    "\n",
    "    #print 'Processing: \"{}\"'.format(csv_filename)\n",
    "\n",
    "    # load the data, abort in case of error.\n",
    "    try:\n",
    "        file_data = loadFile(csv_filename)\n",
    "    except ValueError as e:\n",
    "        #print traceback.format_exc()\n",
    "        failed_files.append(csv_filename)\n",
    "        continue\n",
    "\n",
    "    #### Normalize to g's accelerometer axis ####\n",
    "    allAccX = []\n",
    "    allAccY = []\n",
    "    allAccZ = []\n",
    "    time_interval = 0\n",
    "    #print '-- Normalizing accelerometer data...'\n",
    "    for i, w in enumerate(file_data):\n",
    "        if i==0:\n",
    "            for x, y, z in zip(w['accX'].dropna().as_matrix(), w['accY'].dropna().as_matrix(), w['accZ'].dropna().as_matrix()):\n",
    "                allAccX.append(x/16384.0)\n",
    "                allAccY.append(y/16384.0)\n",
    "                allAccZ.append(z/16384.0)\n",
    "        else:\n",
    "            values = list(set(w['time']) - set(file_data[i-1]['time']))\n",
    "            time_interval = w['time'].iloc[-1]\n",
    "            result = w[w['time'].isin(values)]\n",
    "            for x, y, z in zip(result['accX'].dropna().as_matrix(), result['accY'].dropna().as_matrix(), result['accZ'].dropna().as_matrix()):\n",
    "                allAccX.append(x/16384.0)\n",
    "                allAccY.append(y/16384.0)\n",
    "                allAccZ.append(z/16384.0)\n",
    "    \n",
    "    \n",
    "    N_samps = len(allAccX)\n",
    "    Fs = N_samps/time_interval\n",
    "    frequences.append(Fs)\n",
    "    \n",
    "    ##### COMPUTING THE AC COMPONENT  (Transformation I: Offset Translation) ####\n",
    "    dataX_AC = np.array(allAccX) - np.mean(allAccX)\n",
    "    dataY_AC = np.array(allAccY) - np.mean(allAccY)\n",
    "    dataZ_AC = np.array(allAccZ) - np.mean(allAccZ)\n",
    "    ####\n",
    "    \n",
    "    #### Transformation II: Amplitude Scaling ####\n",
    "    dataX_Scaled = (dataX_AC - np.mean(dataX_AC)) / np.std(dataX_AC)\n",
    "    dataY_Scaled = (dataY_AC - np.mean(dataY_AC)) / np.std(dataY_AC)\n",
    "    dataZ_Scaled = (dataZ_AC - np.mean(dataZ_AC)) / np.std(dataZ_AC)\n",
    "    \n",
    "    ##### SMOOTH USING BUTTERWORTH FILTER #####\n",
    "    # Butterworth filter properties\n",
    "    # Correct the cutoff frequency for the number of passes in the filter\n",
    "    C = 0.802\n",
    "    freq = Fs   # Calculating frequency\n",
    "    b, a = butter(3, (5/C)/(freq/2), btype = 'low') # BF order 3\n",
    "    # applying butterworth filter for x axis, filter with phase shift correction\n",
    "    dataX_filtered = filtfilt(b, a, dataX_Scaled)\n",
    "    dataY_filtered = filtfilt(b, a, dataY_Scaled)\n",
    "    dataZ_filtered = filtfilt(b, a, dataZ_Scaled)\n",
    "    ####\n",
    "\n",
    "    #### COMPUTE MAGNITUDE VECTOR #####\n",
    "    #mag = []\n",
    "    #for i in range(len(norm_dataX)): #all tree axis data are the same length\n",
    "    #    mag.append(np.sqrt(norm_dataX[i]**2 + norm_dataY[i]**2 + norm_dataZ[i]**2))\n",
    "    \n",
    "    ##### SMOOTH MAGNITUDE USING RUNNING AVERAGE #####\n",
    "    #vect = compute_runavg_acc(vect, N=12)\n",
    "    \n",
    "    ##### computing jerk #####\n",
    "    #jerk = []\n",
    "    #for i in range(len(vect)):\n",
    "    #    if i-1 < 0:\n",
    "    #        jerk.append(vect[i])\n",
    "    #    else:\n",
    "    #        jerk.append(vect[i] - vect[i-1])\n",
    "            \n",
    "    ##### SMOOTH MAGNITUDE USING RUNNING AVERAGE #####\n",
    "    #jerk = compute_runavg_acc(jerk, N=8)\n",
    "    \n",
    "    ### PLOTTING SIGNAL ####\n",
    "    #print \"-- Time interval: \", str(time_interval)\n",
    "    ## the period represents the oscilation. It's  the sample time, the time after which each data come.\n",
    "    #T = 1./Fs\n",
    "    #t  = np.linspace(0,N_samps*T,N_samps) # N_samps*T (#samples x sample period) is the signal time.\n",
    "    #fig, ax = plt.subplots(1,1, figsize=(18,8))\n",
    "    #ax.plot(t,dataX_Scaled, c='g', label='Scaled')\n",
    "    #ax.plot(t,dataX_AC, c='r', label='AC')\n",
    "    #ax.plot(t,dataX_filtered, c='m', label='Filtered')\n",
    "    #ax.plot(t,allAccX, c='b', label='Original')\n",
    "    #ax.plot(t,norm_dataZ, c='r', label='Z')\n",
    "    #ax.set_ylabel(\"g's\")\n",
    "    #ax.set_ylim(0,0.05)\n",
    "    #ax.set_xlabel('Time (secs)')\n",
    "    #plt.title(\"Magnitude of the accelerometer for {} file\".format(csv_filename))\n",
    "    #plt.legend()\n",
    "    #plt.yscale('log')\n",
    "    #plt.draw()\n",
    "\n",
    "    \n",
    "    #sys.exit(0)\n",
    "    \n",
    "    #### SAVE TO .MAT #####\n",
    "    #save_to_dir = './mat_xyz_files_preprocessed'\n",
    "    #name_to_save = os.path.join(save_to_dir,'{}.mat'.format(csv_filename))\n",
    "    #print '-- Saving to: {}'.format(name_to_save)\n",
    "    #sio.savemat(name_to_save, {'x_axis':dataX_filtered,'y_axis':dataY_filtered,'z_axis':dataZ_filtered})\n",
    "    #print\n",
    "    datasetX.append((list(dataX_filtered),csv_filename))\n",
    "    datasetY.append((list(dataY_filtered),csv_filename))\n",
    "    datasetZ.append((list(dataZ_filtered),csv_filename))\n",
    "\n",
    "print 'DONE!'\n",
    "#print 'Files average frequency of {} with std. deviation of {}'.format(np.mean(frequences),np.std(frequences))"
   ]
  },
  {
   "cell_type": "markdown",
   "metadata": {},
   "source": [
    "## Framing"
   ]
  },
  {
   "cell_type": "code",
   "execution_count": 8,
   "metadata": {
    "collapsed": false
   },
   "outputs": [],
   "source": [
    "dic = {'x'   :[x[0] for x in datasetX],\n",
    "       'y'   :[y[0] for y in datasetY],\n",
    "       'z'   :[z[0] for z in datasetZ],\n",
    "       'file':[f[1] for f in datasetX],} \n",
    "df = pd.DataFrame(dic, columns=['x','y','z','file'])"
   ]
  },
  {
   "cell_type": "markdown",
   "metadata": {},
   "source": [
    "#### Plotting"
   ]
  },
  {
   "cell_type": "code",
   "execution_count": 9,
   "metadata": {
    "collapsed": false
   },
   "outputs": [
    {
     "data": {
      "image/png": "[encoded data removed]",
      "text/plain": [
       "<matplotlib.figure.Figure at 0x10e0ca250>"
      ]
     },
     "metadata": {},
     "output_type": "display_data"
    }
   ],
   "source": [
    "plt.plot(df.loc[0]['x'], label='x')\n",
    "plt.plot(df.loc[0]['y'], label='y')\n",
    "plt.plot(df.loc[0]['z'], label='z')\n",
    "plt.legend(loc='best', frameon=False)\n",
    "plt.show()"
   ]
  },
  {
   "cell_type": "markdown",
   "metadata": {},
   "source": [
    "## Windows details"
   ]
  },
  {
   "cell_type": "code",
   "execution_count": 93,
   "metadata": {
    "collapsed": false
   },
   "outputs": [],
   "source": [
    "segment_len = 64   # WINDOWS SIZE\n",
    "slide_len = 4      # WINDOWS OVERLAP\n",
    "\n",
    "### windowing function\n",
    "window_rads = np.linspace(0, np.pi, segment_len)\n",
    "window = np.sin(window_rads)**2\n",
    "plt.plot(window)\n",
    "plt.show()"
   ]
  },
  {
   "cell_type": "code",
   "execution_count": 111,
   "metadata": {
    "collapsed": false
   },
   "outputs": [
    {
     "name": "stdout",
     "output_type": "stream",
     "text": [
      "Produced 854 waveform segments\n"
     ]
    }
   ],
   "source": [
    "f_number = 1\n",
    "\n",
    "axis = 'x'\n",
    "\n",
    "x_segments = []\n",
    "x_energies = []\n",
    "y_segments = []\n",
    "y_energies = []\n",
    "z_segments = []\n",
    "z_energies = []\n",
    "\n",
    "x_means = []\n",
    "y_means = []\n",
    "z_means = []\n",
    "\n",
    "correlationxy = []\n",
    "correlationxz = []\n",
    "correlationzy = []\n",
    "#for i in range(df.shape[0]):\n",
    "the_data_x = df['x'].tolist()[f_number]\n",
    "the_data_y = df['y'].tolist()[f_number]\n",
    "the_data_z = df['z'].tolist()[f_number]\n",
    "for start_pos in range(0, len(the_data_x), slide_len):\n",
    "    end_pos = start_pos + segment_len\n",
    "    # make a copy so changes to 'segments' doesn't modify the original ekg_data\n",
    "    x_segment = np.copy(the_data_x[start_pos:end_pos])\n",
    "    y_segment = np.copy(the_data_y[start_pos:end_pos])\n",
    "    z_segment = np.copy(the_data_z[start_pos:end_pos])\n",
    "    # if we're at the end and we've got a truncated segment, drop it\n",
    "    if len(x_segment) != segment_len:\n",
    "        continue\n",
    "    \n",
    "    ## MULTIPLY BY WINDOWING FUNCTION TO ATTENUATE WINDOWS ENDPOINTS.\n",
    "    x_segment = x_segment * window\n",
    "    y_segment = y_segment * window\n",
    "    z_segment = z_segment * window\n",
    "    \n",
    "    x_segments.append(x_segment)     \n",
    "    x_energies.append(mf.energy(x_segment))\n",
    "    x_means.append(mf.mad(x_segment))\n",
    "    y_segments.append(y_segment)     ## MULTIPLY BY WINDOWING FUNCTION TO ATTENUATE WINDOWS ENDPOINTS.\n",
    "    y_energies.append(mf.energy(y_segment))\n",
    "    y_means.append(mf.mad(y_segment))\n",
    "    z_segments.append(z_segment)     ## MULTIPLY BY WINDOWING FUNCTION TO ATTENUATE WINDOWS ENDPOINTS.\n",
    "    z_energies.append(mf.energy(z_segment))\n",
    "    z_means.append(mf.mad(z_segment))\n",
    "    \n",
    "    correlationxy.append(mf.correlation(x_segment,y_segment))\n",
    "    correlationzy.append(mf.correlation(z_segment,y_segment))\n",
    "    correlationxz.append(mf.correlation(x_segment,z_segment))\n",
    "\n",
    "print(\"Produced %d waveform segments\" % len(segments))"
   ]
  },
  {
   "cell_type": "code",
   "execution_count": 107,
   "metadata": {
    "collapsed": false
   },
   "outputs": [
    {
     "data": {
      "image/png": "[encoded data removed]",
      "text/plain": [
       "<matplotlib.figure.Figure at 0x1199eb710>"
      ]
     },
     "metadata": {},
     "output_type": "display_data"
    }
   ],
   "source": [
    "%matplotlib inline\n",
    "learn_utils.plot_waves(x_segments, step=5)"
   ]
  },
  {
   "cell_type": "markdown",
   "metadata": {},
   "source": [
    "## Visualizing"
   ]
  },
  {
   "cell_type": "code",
   "execution_count": 112,
   "metadata": {
    "collapsed": false
   },
   "outputs": [],
   "source": [
    "#print (len(the_data)/4) -8\n",
    "a = range(0,len(the_data_x),4)\n",
    "x = a[:len(x_energies)]\n",
    "y = a[:len(y_energies)]\n",
    "z = a[:len(z_energies)]"
   ]
  },
  {
   "cell_type": "code",
   "execution_count": 113,
   "metadata": {
    "collapsed": false
   },
   "outputs": [],
   "source": [
    "plt.figure(figsize=(19,4))\n",
    "plt.plot(the_data_x, label='x')\n",
    "#plt.plot(x,energies, label='energy')\n",
    "plt.plot(the_data_y, label='y')\n",
    "#plt.plot(y,y_energies, label='y_energy')\n",
    "plt.plot(the_data_z, label='z')\n",
    "#plt.plot(z,z_energies, label='z_energy')\n",
    "combined = [i+j+k for i,j,k in zip(x_energies,y_energies,z_energies)]\n",
    "plt.plot(z,combined, label='combined')\n",
    "plt.legend(loc='lower right', frameon=False, fontsize=14)\n",
    "plt.xlabel('samples')\n",
    "plt.ylabel('energy')\n",
    "plt.xlim(0,plt.xlim()[1])\n",
    "plt.legend(loc='best', frameon=False, fontsize=14)\n",
    "\n",
    "plt.show()"
   ]
  },
  {
   "cell_type": "code",
   "execution_count": 114,
   "metadata": {
    "collapsed": false
   },
   "outputs": [
    {
     "name": "stdout",
     "output_type": "stream",
     "text": [
      "Using matplotlib backend: MacOSX\n"
     ]
    }
   ],
   "source": [
    "%matplotlib\n",
    "from mpl_toolkits.mplot3d import Axes3D\n",
    "\n",
    "fig = plt.figure()\n",
    "ax = Axes3D(fig)\n",
    "\n",
    "ax.scatter(x_energies,correlationxy, x_means, c='r', label='xy')\n",
    "ax.scatter(y_energies,correlationzy, y_means, c='g', label='zy')\n",
    "ax.scatter(z_energies,correlationxz, z_means, c='b', label='xz')\n",
    "\n",
    "#plt.figure(figsize=(19,4))\n",
    "#plt.plot(z,correlationxy, label='xy')\n",
    "#plt.plot(z,correlationzy, label='zy')\n",
    "#plt.plot(z,correlationxz, label='xz')\n",
    "#plt.legend()\n",
    "plt.show()"
   ]
  },
  {
   "cell_type": "code",
   "execution_count": null,
   "metadata": {
    "collapsed": true
   },
   "outputs": [],
   "source": []
  }
 ],
 "metadata": {
  "kernelspec": {
   "display_name": "Python 2",
   "language": "python",
   "name": "python2"
  },
  "language_info": {
   "codemirror_mode": {
    "name": "ipython",
    "version": 2
   },
   "file_extension": ".py",
   "mimetype": "text/x-python",
   "name": "python",
   "nbconvert_exporter": "python",
   "pygments_lexer": "ipython2",
   "version": "2.7.11"
  },
  "widgets": {
   "state": {},
   "version": "1.1.1"
  }
 },
 "nbformat": 4,
 "nbformat_minor": 0
}
