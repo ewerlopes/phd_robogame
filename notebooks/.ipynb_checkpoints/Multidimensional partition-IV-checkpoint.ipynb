{
 "cells": [
  {
   "cell_type": "code",
   "execution_count": 4,
   "metadata": {
    "collapsed": false
   },
   "outputs": [
    {
     "name": "stdout",
     "output_type": "stream",
     "text": [
      "Populating the interactive namespace from numpy and matplotlib\n"
     ]
    },
    {
     "name": "stderr",
     "output_type": "stream",
     "text": [
      "WARNING: pylab import has clobbered these variables: ['scatter']\n",
      "`%matplotlib` prevents importing * from pylab and numpy\n"
     ]
    }
   ],
   "source": [
    "from __future__ import division\n",
    "%matplotlib inline\n",
    "%pylab inline\n",
    "import csv\n",
    "import sys\n",
    "import os\n",
    "import traceback\n",
    "import json\n",
    "import pickle\n",
    "import random\n",
    "import numpy as np\n",
    "import pandas as pd\n",
    "import scipy.io as sio\n",
    "import seaborn as sns\n",
    "from scipy import stats\n",
    "from scipy.signal import argrelextrema\n",
    "import itertools\n",
    "import scipy.fftpack as fft\n",
    "from scipy.stats import norm, skew, kurtosis\n",
    "from scipy.signal import butter, lfilter, filtfilt\n",
    "from sklearn.externals import joblib\n",
    "from sklearn.feature_extraction.text import CountVectorizer\n",
    "from sklearn.manifold import TSNE\n",
    "from matplotlib import pyplot as plt\n",
    "from collections import defaultdict, Counter, OrderedDict\n",
    "from helper_functions import getListOfFiles, getCSV, getStatistics, remap_interval\n",
    "from operator import itemgetter\n",
    "from detect_peaks import detect_peaks\n",
    "from gaussian_kde import gaussian_kde\n",
    "import mean_shift as ms\n",
    "import mean_shift_utils as ms_utils\n",
    "import meta_features"
   ]
  },
  {
   "cell_type": "code",
   "execution_count": 2,
   "metadata": {
    "collapsed": false
   },
   "outputs": [
    {
     "name": "stdout",
     "output_type": "stream",
     "text": [
      ">> 87 mat Files found!\n"
     ]
    }
   ],
   "source": [
    "acc_axes = ['x','y','z']\n",
    "mat_dir = '../data/multi_split'\n",
    "sym_dir = os.path.join(mat_dir)#, 'symbolization')\n",
    "files = [f.split('__')[1] for f in getListOfFiles(sym_dir, \".mat\")]\n",
    "print \">> {} mat Files found!\".format(len(files))"
   ]
  },
  {
   "cell_type": "code",
   "execution_count": 3,
   "metadata": {
    "collapsed": false,
    "scrolled": false
   },
   "outputs": [
    {
     "name": "stdout",
     "output_type": "stream",
     "text": [
      ">> 29 files loaded\n"
     ]
    }
   ],
   "source": [
    "dataset = OrderedDict()\n",
    "previous_files = None\n",
    "\n",
    "for ind, current_file in enumerate(files):\n",
    "    file_data = {}\n",
    "    for axis in acc_axes:\n",
    "        ## load correspoding data structure\n",
    "        mat_content = sio.loadmat(os.path.join(sym_dir, axis+'__'+current_file))\n",
    "        data = mat_content['exp']\n",
    "        val = data[0,0]\n",
    "\n",
    "        ## grab the data\n",
    "        ts = [x[0] for x in val['sig_data']]\n",
    "        splitpoints = val['split_cand'][0].tolist()\n",
    "        weights =  val['weights'][0].tolist()\n",
    "\n",
    "        # structuring individual axis data\n",
    "        file_data[axis+'.ts'] = ts\n",
    "        file_data[axis+'.splits'] = splitpoints[:-1]\n",
    "        file_data[axis+'.weights'] = weights[:-1]\n",
    "    dataset[current_file] = file_data\n",
    "print '>> {} files loaded'.format(len(dataset.keys()))"
   ]
  },
  {
   "cell_type": "code",
   "execution_count": null,
   "metadata": {
    "collapsed": false
   },
   "outputs": [],
   "source": [
    "figsize(20,6)\n",
    "file_number = 0\n",
    "figsize(16,3)\n",
    "markers = ['v', '^', '*']\n",
    "for i,axis in enumerate(acc_axes):\n",
    "    plt.plot(dataset[files[file_number]][axis+'.ts'], label= axis)\n",
    "    y = np.random.rand(1,len(dataset[files[file_number]][axis+'.splits']))\n",
    "    plt.scatter(dataset[files[file_number]][axis+'.splits'],y, marker=markers[i], label=axis+' split points')\n",
    "plt.title('Data for ' + files[file_number])\n",
    "plt.xlim(0,plt.xlim()[1])\n",
    "plt.ylim(-5,5)\n",
    "plt.legend()\n",
    "plt.show()"
   ]
  },
  {
   "cell_type": "markdown",
   "metadata": {},
   "source": [
    "## getting the separation points"
   ]
  },
  {
   "cell_type": "code",
   "execution_count": null,
   "metadata": {
    "collapsed": false,
    "scrolled": false
   },
   "outputs": [],
   "source": [
    "ma_mi_list = {}\n",
    "cluster_centers = {}\n",
    "tau = 1\n",
    "for ind, current_file in enumerate(dataset.keys()):\n",
    "    fig=figure(figsize=(15,8))\n",
    "    ax1=fig.add_subplot(311)\n",
    "    \n",
    "    split_cand_list = []\n",
    "    weigth_list = []\n",
    "    data = dataset[current_file]\n",
    "    for axis in acc_axes:\n",
    "        split_cand_list += [(s,axis) for s in data[axis+'.splits']]\n",
    "        weigth_list     += [(w,axis) for w in data[axis+'.weights']]\n",
    "\n",
    "    weights = np.array([w[0] for w in weigth_list], np.float)\n",
    "    samples = np.array([s[0] for s in split_cand_list])\n",
    "\n",
    "    min, max = 0,len(data['x.ts'])\n",
    "    x = np.linspace(min, max, max)\n",
    "\n",
    "    clusters = []\n",
    "\n",
    "    #Construct a KDE and plot it\n",
    "    bws = [0.03]#0.01, 0.02, 0.03, 0.06, 0.1]\n",
    "    ma = None\n",
    "    mi = None\n",
    "    for bw in bws:\n",
    "        pdf = gaussian_kde(samples, bw_method=bw, weights=weights)\n",
    "        y = pdf(x)\n",
    "        ax1.plot(x, y, label='weighted kde, bw='+ str(bw))\n",
    "        # mi = list of minimum indices in y.\n",
    "        # ma = list of maximum indices in y.\n",
    "        mi, ma = argrelextrema(y, np.less)[0], argrelextrema(y, np.greater)[0]\n",
    "        #print \"Minima:\", x[mi]\n",
    "        #print \"Maxima:\", x[ma]\n",
    "\n",
    "        samples2 = []\n",
    "        for s,w in zip(split_cand_list,weigth_list):\n",
    "            samples2.append((s[0],w[0],s[1]))\n",
    "        samples2 = np.array(samples2)\n",
    "\n",
    "        for xc in x[mi]:\n",
    "            ax1.axvline(x=xc, color='k', linestyle='-.')\n",
    "\n",
    "        ## Get clusters by considering each one as a region between minimas. \n",
    "        # Count the itens for each cluster region. O(K), where K are regions defined by minimas.\n",
    "        for m in range(len(mi)):\n",
    "            if m == 0:\n",
    "                clusters.append(samples2[samples < x[mi[m]]].tolist())\n",
    "            else:\n",
    "                clusters.append(samples2[(samples >= x[mi[m-1]]) * (samples <= x[mi[m]])].tolist())\n",
    "\n",
    "        ax1.plot(x[ma], y[ma], 'g^',x[mi], y[mi], 'rv')\n",
    "\n",
    "    ## Saving maxima e minima\n",
    "    ma_mi_list[current_file] = {'mi': mi, 'ma': ma}\n",
    "    \n",
    "    energies = []\n",
    "    total_energy = 0\n",
    "    for ind,c in enumerate(clusters):\n",
    "        accumulator = 0\n",
    "        for elem in c:\n",
    "            accumulator += float(elem[1])\n",
    "        total_energy += accumulator\n",
    "        energies.append((accumulator,ind))\n",
    "\n",
    "    #energies = [(e/total_energy,ind) for inx,e in enumerate(energies)]\n",
    "\n",
    "    #print 'Total energy: {}'.format(total_energy)\n",
    "    #print 'Total energy after normalization: {}'.format(sum([e[0] for e in energies]))\n",
    "    energies.sort(reverse=True, key=lambda tup: tup[0])\n",
    "\n",
    "    #Plot the split candidates\n",
    "    markers = ['o','x','^']\n",
    "    colors = ['b', 'r','m']\n",
    "    for i,axis in enumerate(acc_axes):\n",
    "        ax1.scatter(data[axis+'.splits'], np.zeros_like(data[axis+'.splits']),\n",
    "                    label='Split candidate for {}'.format(axis),\n",
    "                    marker=markers[i], color='m')\n",
    "\n",
    "    #Boiler plate\n",
    "    plt.xticks([s[0] for s in split_cand_list],rotation = 90, fontsize=8)\n",
    "    ax1.set_title('Split point gaussian kernel density estimation for {}'.format(current_file))\n",
    "    ax1.set_xlabel('Variable')\n",
    "    ax1.set_ylabel('Density')\n",
    "    plt.legend(loc='best', frameon=False)\n",
    "\n",
    "    final_clusters = []\n",
    "    accumulator = 0\n",
    "    for e in energies:\n",
    "        accumulator += e[0]\n",
    "        if accumulator > tau*total_energy:\n",
    "            break\n",
    "        else:\n",
    "            final_clusters.append(e[1])\n",
    "\n",
    "    #print 'Total: {}, Accumulator: {}, Threshold: {}'.format(total_energy,accumulator,tau*total_energy)\n",
    "    cluster_centers[current_file] = x[ma[final_clusters]]\n",
    "\n",
    "    ax2 = fig.add_subplot(312, sharex=ax1)\n",
    "    ax2.plot(x, y, label='weighted kde, bw='+ str(bw))\n",
    "    for xc in x[ma[final_clusters]]:\n",
    "            ax2.axvline(x=xc, color='k', linestyle='-.')\n",
    "    ax2.set_ylim(-0.0003,ax2.get_ylim()[1])\n",
    "    plt.xticks([s[0] for s in split_cand_list],rotation = 90, fontsize=8)\n",
    "    plt.legend(loc='best', frameon=False)\n",
    "\n",
    "    ax3 = fig.add_subplot(313, sharex=ax1)\n",
    "    for axis in acc_axes:\n",
    "        ax3.plot(data[axis+'.ts'], label=axis)\n",
    "\n",
    "    for xc in x[ma[final_clusters]]:\n",
    "        ax3.axvline(x=xc, color='k', linestyle='-.')     \n",
    "\n",
    "    plt.xticks(x[ma[final_clusters]],rotation = 90, fontsize=8)\n",
    "    plt.legend(loc='best', frameon=False)\n",
    "    plt.tight_layout()\n",
    "    #plt.ylim(-0.0003,plt.ylim()[1])\n",
    "    plt.xlim(min,max)\n",
    "    plt.show()"
   ]
  },
  {
   "cell_type": "markdown",
   "metadata": {
    "collapsed": true
   },
   "source": [
    "## Getting the segments"
   ]
  },
  {
   "cell_type": "code",
   "execution_count": null,
   "metadata": {
    "collapsed": false,
    "scrolled": false
   },
   "outputs": [],
   "source": [
    "def get_segments(filename,maximas):\n",
    "    data = dataset[filename]\n",
    "    x_segments = []\n",
    "    y_segments = []\n",
    "    z_segments = []\n",
    "    alignments = []\n",
    "    \n",
    "    min, max = 0,len(data['x.ts'])\n",
    "    x = np.linspace(min, max, max)\n",
    "    \n",
    "    centers = [int(i) for i in sorted(cluster_centers[filename])]\n",
    "    x_data = np.array(data['x.ts'])\n",
    "    y_data = np.array(data['y.ts'])\n",
    "    z_data = np.array(data['z.ts'])\n",
    "    for i in range(len(centers)):\n",
    "            if i == 0:\n",
    "                x_segments.append(x_data[:int(centers[i])])\n",
    "                y_segments.append(y_data[:int(centers[i])])   \n",
    "                z_segments.append(z_data[:int(centers[i])])\n",
    "                alignments.append(0)\n",
    "            elif i == (len(centers)-1):\n",
    "                x_segments.append(x_data[int(centers[i-1]):int(centers[i])].tolist())\n",
    "                x_segments.append(x_data[int(centers[i]):].tolist())\n",
    "                y_segments.append(y_data[int(centers[i-1]):int(centers[i])].tolist())\n",
    "                y_segments.append(y_data[int(centers[i]):].tolist())\n",
    "                z_segments.append(z_data[int(centers[i-1]):int(centers[i])].tolist())\n",
    "                z_segments.append(z_data[int(centers[i]):].tolist())\n",
    "\n",
    "                alignments.append(centers[i-1])\n",
    "                alignments.append(centers[i])\n",
    "            else:\n",
    "                x_segments.append(x_data[int(centers[i-1]):int(centers[i])].tolist())\n",
    "                y_segments.append(y_data[int(centers[i-1]):int(centers[i])].tolist())\n",
    "                z_segments.append(z_data[int(centers[i-1]):int(centers[i])].tolist())\n",
    "                alignments.append(centers[i-1])\n",
    "    return x_segments, y_segments, z_segments, alignments"
   ]
  },
  {
   "cell_type": "markdown",
   "metadata": {},
   "source": [
    "## Checking data segments equality with original time series."
   ]
  },
  {
   "cell_type": "code",
   "execution_count": null,
   "metadata": {
    "collapsed": false
   },
   "outputs": [],
   "source": [
    "x_segments = []\n",
    "y_segments = []\n",
    "z_segments = []\n",
    "alignments = []\n",
    "file_map_list   = []\n",
    "\n",
    "for f in dataset.keys():\n",
    "    x_seg, y_seg, z_seg, aligns = get_segments(f,ma_mi_list[f]['ma'])\n",
    "    ### testing equality\n",
    "    try:\n",
    "        assert list(itertools.chain.from_iterable(x_seg)) == dataset[f]['x.ts']\n",
    "        assert list(itertools.chain.from_iterable(y_seg)) == dataset[f]['y.ts']\n",
    "        assert list(itertools.chain.from_iterable(z_seg)) == dataset[f]['z.ts']\n",
    "    except AssertionError:\n",
    "        _, _, tb = sys.exc_info()\n",
    "        traceback.print_tb(tb) # Fixed format\n",
    "        tb_info = traceback.extract_tb(tb)\n",
    "        filename, line, func, text = tb_info[-1]\n",
    "        print('An error occurred on line {} in statement {}'.format(line, text))\n",
    "        print('Equivalence test failed for file {}. ABORTING'.format(f))\n",
    "        break\n",
    "    \n",
    "    for i in range(len(x_seg)):\n",
    "        x_segments.append(x_seg[i])\n",
    "        y_segments.append(y_seg[i])\n",
    "        z_segments.append(z_seg[i])\n",
    "        alignments.append(aligns[i])\n",
    "        file_map_list.append('.'.join(f.split('.')[:-1]))\n",
    "    \n",
    "print 'ALL files PASSED on equivalence tests. This means the segmentation does not lose data!'"
   ]
  },
  {
   "cell_type": "markdown",
   "metadata": {},
   "source": [
    "## Framming corpus"
   ]
  },
  {
   "cell_type": "code",
   "execution_count": null,
   "metadata": {
    "collapsed": false,
    "scrolled": false
   },
   "outputs": [],
   "source": [
    "df = {\n",
    "      'x'    : x_segments,\n",
    "      'y'    : y_segments,\n",
    "      'z'    : z_segments,\n",
    "      'align' : alignments,\n",
    "      'file' : file_map_list\n",
    "     }\n",
    "\n",
    "frame = pd.DataFrame(df, index = [range(len(file_map_list))] , columns = ['x','y','z','align','file'])"
   ]
  },
  {
   "cell_type": "markdown",
   "metadata": {},
   "source": [
    "## Exporting model to pickle."
   ]
  },
  {
   "cell_type": "code",
   "execution_count": null,
   "metadata": {
    "collapsed": false
   },
   "outputs": [],
   "source": [
    "# open the file for writing\n",
    "pkl_file_name = 'segments.pkl'\n",
    "file_object = open(pkl_file_name,'wb')\n",
    "pickle.dump(frame,file_object)\n",
    "file_object.close()\n",
    "print 'pickle DONE!'"
   ]
  },
  {
   "cell_type": "markdown",
   "metadata": {},
   "source": [
    "## Plot by segment"
   ]
  },
  {
   "cell_type": "code",
   "execution_count": null,
   "metadata": {
    "collapsed": false
   },
   "outputs": [],
   "source": [
    "figure(figsize=(15,3))\n",
    "filename = dataset.keys()[0]\n",
    "for xc in cluster_centers[filename]:\n",
    "    plt.axvline(x=xc, color='m', linestyle='-.')\n",
    "\n",
    "x = list(itertools.chain.from_iterable(frame.loc[frame['file'] == '.'.join(filename.split('.')[:-1])]['x'].tolist()))\n",
    "y = list(itertools.chain.from_iterable(frame.loc[frame['file'] == '.'.join(filename.split('.')[:-1])]['y'].tolist()))\n",
    "z = list(itertools.chain.from_iterable(frame.loc[frame['file'] == '.'.join(filename.split('.')[:-1])]['z'].tolist()))\n",
    "plt.plot(x,'-', label='x')\n",
    "plt.plot(y, '-', label='y')\n",
    "plt.plot(z, '-', label='z')\n",
    "plt.title(\"Reconstructed file {}\".format(filename))\n",
    "plt.legend()\n",
    "plt.xticks(cluster_centers[filename], rotation = 90)\n",
    "#plt.ylim(-6,6)\n",
    "plt.show()"
   ]
  },
  {
   "cell_type": "markdown",
   "metadata": {},
   "source": [
    "____"
   ]
  },
  {
   "cell_type": "markdown",
   "metadata": {},
   "source": [
    "## Bandwith selection"
   ]
  },
  {
   "cell_type": "code",
   "execution_count": null,
   "metadata": {
    "collapsed": false
   },
   "outputs": [],
   "source": [
    "ma_mi_list = {}\n",
    "cluster_centers = {}\n",
    "tau = 1#0.95\n",
    "current_file = dataset.keys()[0]\n",
    "fig=figure(figsize=(15,10))\n",
    "ax1=fig.add_subplot(311)\n",
    "\n",
    "split_cand_list = []\n",
    "weigth_list = []\n",
    "data = dataset[current_file]\n",
    "for axis in acc_axes:\n",
    "    split_cand_list += [(s,axis) for s in data[axis+'.splits']]\n",
    "    weigth_list     += [(w,axis) for w in data[axis+'.weights']]\n",
    "\n",
    "weights = np.array([w[0] for w in weigth_list], np.float)\n",
    "samples = np.array([s[0] for s in split_cand_list])\n",
    "\n",
    "min, max = 0,len(data['x.ts'])\n",
    "x = np.linspace(min, max, max)\n",
    "\n",
    "clusters = []\n",
    "\n",
    "#Construct a KDE and plot it\n",
    "bws = [0.03,0.01, 0.02, 0.03, 0.06]\n",
    "for bw in bws:\n",
    "    pdf = gaussian_kde(samples, bw_method=bw, weights=weights)\n",
    "    y = pdf(x)\n",
    "    ax1.plot(x, y, label='weighted kde, bw='+ str(bw))\n",
    "\n",
    "\n",
    "#Plot the split candidates\n",
    "markers = ['o','x','^']\n",
    "colors = ['b', 'r','m']\n",
    "for i,axis in enumerate(acc_axes):\n",
    "    ax1.scatter(data[axis+'.splits'], np.zeros_like(data[axis+'.splits']),\n",
    "                label='Split candidate for {}'.format(axis),\n",
    "                marker=markers[i], color='m')\n",
    "\n",
    "#Boiler plate\n",
    "plt.xticks([s[0] for s in split_cand_list],rotation = 90, fontsize=8)\n",
    "ax1.set_title('Split point gaussian kernel density estimation for {}'.format(current_file))\n",
    "ax1.set_xlabel('Cutting point')\n",
    "ax1.set_ylabel('Density')\n",
    "plt.legend(loc='best', frameon=False)\n",
    "\n",
    "ax3 = fig.add_subplot(312, sharex=ax1)\n",
    "for axis in acc_axes:\n",
    "    ax3.plot(data[axis+'.ts'], label=axis)   \n",
    "\n",
    "plt.legend(loc='best', frameon=False)\n",
    "plt.tight_layout()\n",
    "ax1.set_xlabel('Acceleration')\n",
    "ax1.set_ylabel('Cutting point')\n",
    "plt.xlim(min,max)\n",
    "plt.show()"
   ]
  },
  {
   "cell_type": "markdown",
   "metadata": {
    "collapsed": true
   },
   "source": [
    "# Loading pickle"
   ]
  },
  {
   "cell_type": "code",
   "execution_count": 5,
   "metadata": {
    "collapsed": false
   },
   "outputs": [
    {
     "data": {
      "text/plain": [
       "(571, 6)"
      ]
     },
     "execution_count": 5,
     "metadata": {},
     "output_type": "execute_result"
    }
   ],
   "source": [
    "resframe = []\n",
    "with open(\"../pickle/annotation.pkl\",'r') as f:\n",
    "    resframe = pickle.load(f)\n",
    "resframe.shape"
   ]
  },
  {
   "cell_type": "code",
   "execution_count": 6,
   "metadata": {
    "collapsed": false
   },
   "outputs": [
    {
     "name": "stdout",
     "output_type": "stream",
     "text": [
      "Supervised dataset dim: (286, 6)\n",
      "Columns: ['x', 'y', 'z', 'align', 'file', 'tag']\n",
      "(455, 286)\n",
      "(455, 286)\n",
      "(455, 286)\n"
     ]
    }
   ],
   "source": [
    "x_df = None\n",
    "y_df = None\n",
    "z_df = None\n",
    "sup_resframe = resframe[resframe['tag'] !=\"\"]\n",
    "print 'Supervised dataset dim: {}'.format(sup_resframe.shape)\n",
    "print 'Columns: {}'.format(sup_resframe.columns.tolist())\n",
    "for df in sup_resframe.itertuples():\n",
    "    x = pd.DataFrame({df[0]:df[1]})\n",
    "    y = pd.DataFrame({df[0]:df[2]})\n",
    "    z = pd.DataFrame({df[0]:df[3]})\n",
    "    if df[0] == 0:\n",
    "        x_df = x\n",
    "        y_df = y\n",
    "        z_df = z\n",
    "    else:\n",
    "        x_df = pd.concat([x_df,x], ignore_index=True, axis=1)\n",
    "        y_df = pd.concat([y_df,y], ignore_index=True, axis=1)\n",
    "        z_df = pd.concat([z_df,z], ignore_index=True, axis=1)\n",
    "#x_df = pd.concat([x_df,sup_resframe.loc[:,'file':'tag']], ignore_index=True, axis=1)\n",
    "#x_df.columns = x_df.columns[:-2].tolist() + ['file','tag']\n",
    "#y_df = pd.concat([y_df,sup_resframe.loc[:,'file':'tag']], ignore_index=True, axis=1)\n",
    "#y_df.columns = y_df.columns[:-2].tolist() + ['file','tag']\n",
    "#z_df = pd.concat([z_df,sup_resframe.loc[:,'file':'tag']], ignore_index=True, axis=1)\n",
    "#z_df.columns = z_df.columns[:-2].tolist() + ['file','tag']\n",
    "print x_df.shape #all x's + file, tag\n",
    "print y_df.shape #all y's + file, tag\n",
    "print z_df.shape #all z's + file, tag\n"
   ]
  },
  {
   "cell_type": "code",
   "execution_count": 7,
   "metadata": {
    "collapsed": false
   },
   "outputs": [
    {
     "name": "stdout",
     "output_type": "stream",
     "text": [
      "Supervised: (286, 6)\n"
     ]
    }
   ],
   "source": [
    "supervised = resframe[resframe['tag'] !=\"\"]\n",
    "print 'Supervised: {}'.format(supervised.shape)"
   ]
  },
  {
   "cell_type": "code",
   "execution_count": 8,
   "metadata": {
    "collapsed": false,
    "scrolled": true
   },
   "outputs": [
    {
     "name": "stdout",
     "output_type": "stream",
     "text": [
      "Unsupervised: (285, 6)\n"
     ]
    }
   ],
   "source": [
    "unsupervised = resframe[resframe['tag'] ==\"\"]\n",
    "print 'Unsupervised: {}'.format(unsupervised.shape)"
   ]
  },
  {
   "cell_type": "markdown",
   "metadata": {},
   "source": [
    "## Visualizing the distribution"
   ]
  },
  {
   "cell_type": "markdown",
   "metadata": {},
   "source": [
    "#### loading metafeatures dispatcher"
   ]
  },
  {
   "cell_type": "code",
   "execution_count": null,
   "metadata": {
    "collapsed": false
   },
   "outputs": [],
   "source": [
    "reload(meta_features)"
   ]
  },
  {
   "cell_type": "code",
   "execution_count": 9,
   "metadata": {
    "collapsed": true
   },
   "outputs": [],
   "source": [
    "function_dispatcher = {\n",
    "    \"mean\"     : meta_features.mean,\n",
    "    \"std\"      : meta_features.std,\n",
    "    \"max\"      : meta_features.max_value,\n",
    "    \"min\"      : meta_features.min_value,\n",
    "    \"mad\"      : meta_features.mad,\n",
    "    \"sma\"      : meta_features.sma,\n",
    "    \"iqr\"      : meta_features.iqr,\n",
    "    \"energy\"   : meta_features.energy,\n",
    "    \"fft_energy\"   : meta_features.fft_energy,\n",
    "    \"maxInds\"  : meta_features.maxInds,\n",
    "    \"meanFreq\" : meta_features.meanFreq,\n",
    "    \"skewness\" : meta_features.skewness,\n",
    "    \"kurtosis\" : meta_features.kurtos,\n",
    "    \"freq_skewness\" : meta_features.freq_skewness,\n",
    "    \"freq_kurtosis\" : meta_features.freq_kurtos,\n",
    "    \"num_peaks\"     : meta_features.num_peaks,\n",
    "    \"moving_rmsV1\"  : meta_features.moving_rmsV1,\n",
    "    \"rms\"           : meta_features.rms,\n",
    "    \"max_min\"       : meta_features.max_min,\n",
    "    \"pse\"           : meta_features.pse\n",
    "}"
   ]
  },
  {
   "cell_type": "code",
   "execution_count": 10,
   "metadata": {
    "collapsed": true
   },
   "outputs": [],
   "source": [
    "def get_metafeat_vector(segment, sensor_name, mf=[\"mean\",\"std\",\"max\",\"min\",\"mad\",\"sma\",\n",
    "                                        \"iqr\",\"energy\",\"maxInds\",\"meanFreq\",\"skewness\",\"kurtosis\"]):\n",
    "    \"\"\"\n",
    "        Compute metafeatures from segment data.\n",
    "    \n",
    "        segment : the time series segment\n",
    "        mf      : list of metafeatures functions to be computed on the segment data.\n",
    "    \"\"\"\n",
    "    \n",
    "    meta_vector = OrderedDict()\n",
    "\n",
    "    for f in mf:\n",
    "        try:\n",
    "            func = function_dispatcher[f]          # retrieve function\n",
    "            meta_vector[sensor_name+'_'+f] = func(segment)    # compute function on segment.\n",
    "        except KeyError:\n",
    "            raise ValueError('Invalid function: {}'.format(f))\n",
    "\n",
    "    return meta_vector"
   ]
  },
  {
   "cell_type": "code",
   "execution_count": 110,
   "metadata": {
    "collapsed": false
   },
   "outputs": [],
   "source": [
    "segment_len = 128   # WINDOWS SIZE\n",
    "slide_len = 64      # WINDOWS OVERLAP\n",
    "\n",
    "### windowing function\n",
    "def win_function(data):\n",
    "    window_rads = np.linspace(0, np.pi, len(data))\n",
    "    window = np.sin(window_rads)**2\n",
    "    return data * window"
   ]
  },
  {
   "cell_type": "markdown",
   "metadata": {},
   "source": [
    "#### Loading the corresponding data"
   ]
  },
  {
   "cell_type": "code",
   "execution_count": 111,
   "metadata": {
    "collapsed": false,
    "scrolled": false
   },
   "outputs": [
    {
     "name": "stdout",
     "output_type": "stream",
     "text": [
      "Number of segments: 26\n",
      "Number of segments: 6\n",
      "Number of segments: 37\n",
      "Number of segments: 45\n",
      "Number of segments: 9\n",
      "Number of segments: 8\n",
      "Number of segments: 7\n"
     ]
    }
   ],
   "source": [
    "##### LOADING THE DATA ################\n",
    "topics = [\"{u'High_level': u'Blocking-Dodging'}\",    #30\n",
    "          \"{u'High_level': u'Inactive'}\",            #7\n",
    "          \"{u'High_level': u'Locally-Moving'}\",      #78\n",
    "          \"{u'High_level': u'Running'}\",             #73\n",
    "          \"{u'High_level': u'Sprinting'}\",           #27\n",
    "          \"{u'High_level': u'Stop-Running'}\",        #36\n",
    "          \"{u'High_level': u'Walking'}\"]             #35\n",
    "\n",
    "#topics = [topics[4]]\n",
    "\n",
    "data = None\n",
    "\n",
    "for topic in topics:\n",
    "    topic_data_x = resframe[resframe['tag']== topic]['x'].tolist()\n",
    "    topic_data_y = resframe[resframe['tag']== topic]['y'].tolist()\n",
    "    topic_data_z = resframe[resframe['tag']== topic]['z'].tolist()\n",
    "    \n",
    "    x_sig_segments = []\n",
    "    y_sig_segments = []\n",
    "    z_sig_segments = []\n",
    "    \n",
    "    for i in range(len(topic_data_x)):     \n",
    "        for start_pos in range(0, len(topic_data_x[i]), slide_len):\n",
    "            end_pos = start_pos + segment_len\n",
    "            # make a copy so changes to 'segments' doesn't modify the original ekg_data\n",
    "            x_segment = np.copy(topic_data_x[i][start_pos:end_pos])\n",
    "            y_segment = np.copy(topic_data_y[i][start_pos:end_pos])\n",
    "            z_segment = np.copy(topic_data_z[i][start_pos:end_pos])\n",
    "            \n",
    "            # if we're at the end and we've got a truncated segment, drop it\n",
    "            if len(x_segment) != segment_len:\n",
    "                continue\n",
    "\n",
    "            ##apply windowing function\n",
    "            x_sig_segments.append(win_function(x_segment))\n",
    "            y_sig_segments.append(win_function(y_segment))\n",
    "            z_sig_segments.append(win_function(z_segment))\n",
    "\n",
    "    ##### COMPUTING METAFEATURES ###########\n",
    "    ## metafeatures list to be computed\n",
    "    #to_compute = [\"mean\",\"std\",\"max\",\"min\",\"fft_energy\",\"pse\",\"mad\",\"iqr\",\"rms\",\"maxInds\",\"skewness\",\"kurtosis\",\"freq_skewness\",\"freq_kurtosis\"]\n",
    "    #to_compute = [\"mean\",\"std\",\"mad\",\"sma\",\"iqr\",\"skewness\",\"kurtosis\",\"maxInds\",\"rms\",\"num_peaks\"]\n",
    "    to_compute = [\"fft_energy\", \"pse\", \"max_min\",\"rms\",\"num_peaks\"]\n",
    "\n",
    "    print 'Number of segments: {}'.format(len(x_sig_segments))\n",
    "    assert len(x_sig_segments) == len(y_sig_segments) == len(z_sig_segments)\n",
    "    for s in range(len(z_sig_segments)):\n",
    "        x_meta_fts = get_metafeat_vector(x_sig_segments[s],'x',mf=to_compute).values()\n",
    "        y_meta_fts = get_metafeat_vector(y_sig_segments[s],'y',mf=to_compute).values()\n",
    "        z_meta_fts = get_metafeat_vector(z_sig_segments[s],'z',mf=to_compute).values()\n",
    "        \n",
    "        xy_corr     = meta_features.correlation(x_sig_segments[s], y_sig_segments[s])\n",
    "        xz_corr     = meta_features.correlation(x_sig_segments[s], z_sig_segments[s])\n",
    "        yz_corr     = meta_features.correlation(y_sig_segments[s], z_sig_segments[s])\n",
    "        \n",
    "        X = pd.DataFrame(np.array([x_meta_fts]), columns=['x_'+tc for tc in to_compute])\n",
    "        Y = pd.DataFrame(np.array([y_meta_fts]), columns=['y_'+tc for tc in to_compute])\n",
    "        Z = pd.DataFrame(np.array([z_meta_fts]), columns=['z_'+tc for tc in to_compute])\n",
    "        corr = pd.DataFrame(np.array([[xy_corr,xz_corr,yz_corr]]), columns = ['xy_corr','xz_corr','yz_corr,'])\n",
    "        top = pd.DataFrame([[topic]], columns = ['target'])\n",
    "        if data is None:\n",
    "            data = pd.concat([X, Y, Z, corr, top], axis=1, join_axes=[X.index])\n",
    "        else:\n",
    "            result = pd.concat([X, Y, Z, corr, top], axis=1, join_axes=[X.index])\n",
    "            data = pd.concat([data,result])"
   ]
  },
  {
   "cell_type": "code",
   "execution_count": 113,
   "metadata": {
    "collapsed": false,
    "scrolled": false
   },
   "outputs": [],
   "source": [
    "# That's an impressive list of imports.\n",
    "import numpy as np\n",
    "from numpy import linalg\n",
    "from numpy.linalg import norm\n",
    "from scipy.spatial.distance import squareform, pdist\n",
    "\n",
    "# We import sklearn.\n",
    "import sklearn\n",
    "from sklearn.manifold import TSNE\n",
    "from sklearn.datasets import load_digits\n",
    "from sklearn.preprocessing import scale\n",
    "\n",
    "# We'll hack a bit with the t-SNE code in sklearn 0.15.2.\n",
    "from sklearn.metrics.pairwise import pairwise_distances\n",
    "from sklearn.manifold.t_sne import (_joint_probabilities,\n",
    "                                    _kl_divergence)\n",
    "from sklearn.utils.extmath import _ravel\n",
    "# Random state.\n",
    "RS = 20160101\n",
    "\n",
    "# We'll use matplotlib for graphics.\n",
    "import matplotlib.pyplot as plt\n",
    "import matplotlib.patheffects as PathEffects\n",
    "import matplotlib\n",
    "%matplotlib inline\n",
    "\n",
    "# We import seaborn to make nice plots.\n",
    "import seaborn as sns\n",
    "sns.set_style('darkgrid')\n",
    "sns.set_palette('muted')\n",
    "sns.set_context(\"notebook\", font_scale=1.5,\n",
    "                rc={\"lines.linewidth\": 2.5})"
   ]
  },
  {
   "cell_type": "code",
   "execution_count": 114,
   "metadata": {
    "collapsed": false
   },
   "outputs": [],
   "source": [
    "# We first reorder the data points according to the handwritten numbers.\n",
    "X = np.vstack([data[data.target==t].ix[:, data.columns != 'target']\n",
    "               for t in topics])\n",
    "y = np.hstack([data[data.target==t]['target']\n",
    "               for t in topics])"
   ]
  },
  {
   "cell_type": "code",
   "execution_count": 118,
   "metadata": {
    "collapsed": false
   },
   "outputs": [],
   "source": [
    "#data_proj = TSNE(random_state=RS).fit_transform(X)\n",
    "data_proj = TSNE().fit_transform(X)"
   ]
  },
  {
   "cell_type": "code",
   "execution_count": 119,
   "metadata": {
    "collapsed": false
   },
   "outputs": [],
   "source": [
    "topic_colors = {\"{u'High_level': u'Blocking-Dodging'}\": 0,    #30\n",
    "          \"{u'High_level': u'Inactive'}\": 1,            #7\n",
    "          \"{u'High_level': u'Locally-Moving'}\": 2,      #78\n",
    "          \"{u'High_level': u'Running'}\": 3,             #73\n",
    "          \"{u'High_level': u'Sprinting'}\": 4,           #27\n",
    "          \"{u'High_level': u'Stop-Running'}\": 5,        #36\n",
    "          \"{u'High_level': u'Walking'}\": 6}\n",
    "\n",
    "def scatter(x, colors):\n",
    "    # We choose a color palette with seaborn.\n",
    "    palette = np.array(sns.color_palette(\"hls\", 8))\n",
    "\n",
    "    all_colors = np.array([topic_colors[c] for c in colors])\n",
    "    \n",
    "    assert len(all_colors) == len(colors) == len(x)\n",
    "\n",
    "    # We create a scatter plot.\n",
    "    f = plt.figure(figsize=(8, 8))\n",
    "    ax = plt.subplot(aspect='equal')\n",
    "    sc = ax.scatter(x[:,0], x[:,1], lw=0, s=40, c=palette[all_colors.astype(np.int)], cmap=plt.cm.get_cmap(\"jet\", 8))\n",
    "    #plt.colorbar(ticks=range(8))\n",
    "    #plt.xlim(-25, 25)\n",
    "    #plt.ylim(-25, 25)\n",
    "    ax.axis('on')\n",
    "    ax.axis('tight')\n",
    "\n",
    "    return f, ax, sc"
   ]
  },
  {
   "cell_type": "code",
   "execution_count": 120,
   "metadata": {
    "collapsed": false
   },
   "outputs": [
    {
     "data": {
      "image/png": "[encoded data removed]",
      "text/plain": [
       "<matplotlib.figure.Figure at 0x11559cd50>"
      ]
     },
     "metadata": {},
     "output_type": "display_data"
    }
   ],
   "source": [
    "scatter(data_proj, y)\n",
    "#plt.savefig(title+'.png')\n",
    "plt.show()"
   ]
  },
  {
   "cell_type": "code",
   "execution_count": null,
   "metadata": {
    "collapsed": true
   },
   "outputs": [],
   "source": []
  }
 ],
 "metadata": {
  "kernelspec": {
   "display_name": "Python 2",
   "language": "python",
   "name": "python2"
  },
  "language_info": {
   "codemirror_mode": {
    "name": "ipython",
    "version": 2
   },
   "file_extension": ".py",
   "mimetype": "text/x-python",
   "name": "python",
   "nbconvert_exporter": "python",
   "pygments_lexer": "ipython2",
   "version": "2.7.11"
  },
  "widgets": {
   "state": {},
   "version": "1.1.1"
  }
 },
 "nbformat": 4,
 "nbformat_minor": 0
}
