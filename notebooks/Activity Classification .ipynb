{
 "cells": [
  {
   "cell_type": "markdown",
   "metadata": {},
   "source": [
    "## Activity Classification "
   ]
  },
  {
   "cell_type": "code",
   "execution_count": 1,
   "metadata": {
    "collapsed": false
   },
   "outputs": [],
   "source": [
    "from __future__ import division\n",
    "%matplotlib inline\n",
    "import numpy as np\n",
    "import scipy.io as sio\n",
    "import itertools\n",
    "from matplotlib import pyplot as plt\n",
    "from scipy import interp\n",
    "from sklearn.metrics import classification_report, roc_curve,  confusion_matrix\n",
    "from sklearn.model_selection import cross_val_score, train_test_split"
   ]
  },
  {
   "cell_type": "code",
   "execution_count": 2,
   "metadata": {
    "collapsed": true
   },
   "outputs": [],
   "source": [
    "def plot_confusion_matrix(cm, classes,\n",
    "                          normalize=False,\n",
    "                          title='Confusion matrix',\n",
    "                          cmap=plt.cm.jet):\n",
    "    \"\"\"\n",
    "    This function prints and plots the confusion matrix.\n",
    "    Normalization can be applied by setting `normalize=True`.\n",
    "    \"\"\"\n",
    "    plt.imshow(cm, interpolation='nearest', cmap=cmap)\n",
    "    plt.title(title)\n",
    "    plt.colorbar()\n",
    "    tick_marks = np.arange(len(classes))\n",
    "    plt.xticks(tick_marks, classes, rotation=90)\n",
    "    plt.yticks(tick_marks, classes)\n",
    "\n",
    "    if normalize:\n",
    "        cm = cm.astype('float') / cm.sum(axis=1)[:, np.newaxis]\n",
    "        print(\"Normalized confusion matrix\")\n",
    "    else:\n",
    "        print('Confusion matrix, without normalization')\n",
    "\n",
    "    #print(cm)\n",
    "\n",
    "    thresh = cm.max() / 2.\n",
    "    for i, j in itertools.product(range(cm.shape[0]), range(cm.shape[1])):\n",
    "        plt.text(j, i, cm[i, j],\n",
    "                 horizontalalignment=\"center\",\n",
    "                 color=\"white\" if cm[i, j] > thresh else \"black\")\n",
    "\n",
    "    plt.tight_layout()\n",
    "    plt.ylabel('True label')\n",
    "    plt.xlabel('Predicted label')\n",
    "\n",
    "\n",
    "def plot_multi_ROC(y_test_enc, y_scores, class_map=None, lw=2, figsize=(8,6)):\n",
    "    \"\"\"\n",
    "    Plot the ROC curve for the multi_class classification problem\n",
    "    y_test_enc   : one hot encoder matrix for the target variable.\n",
    "    y_scores     : classification problem or decision boundary\n",
    "    n_classes    : class labels dictionary mapping each column of y_test_enc to a label\n",
    "    lw           : line width\n",
    "    figsize      : figure size\n",
    "    \"\"\"\n",
    "    # number of classes\n",
    "    n_classes = y_test_enc.shape[1]\n",
    "    \n",
    "    # Compute ROC curve and ROC area for each class\n",
    "    fpr = dict()\n",
    "    tpr = dict()\n",
    "    roc_auc = dict()\n",
    "    for i in range(n_classes):\n",
    "        fpr[i], tpr[i], _ = roc_curve(y_test_enc[:, i], y_scores[:, i])\n",
    "        roc_auc[i] = auc(fpr[i], tpr[i])\n",
    "    \n",
    "    # Compute micro-average ROC curve and ROC area\n",
    "    fpr[\"micro\"], tpr[\"micro\"], _ = roc_curve(y_test_enc.ravel(), y_scores.ravel())\n",
    "    roc_auc[\"micro\"] = auc(fpr[\"micro\"], tpr[\"micro\"])\n",
    "\n",
    "    # Compute macro-average ROC curve and ROC area\n",
    "\n",
    "    # First aggregate all false positive rates\n",
    "    all_fpr = np.unique(np.concatenate([fpr[i] for i in range(n_classes)]))\n",
    "\n",
    "    # Then interpolate all ROC curves at this points\n",
    "    mean_tpr = np.zeros_like(all_fpr)\n",
    "    for i in range(n_classes):\n",
    "        mean_tpr += interp(all_fpr, fpr[i], tpr[i])\n",
    "\n",
    "    # Finally average it and compute AUC\n",
    "    mean_tpr /= n_classes\n",
    "\n",
    "    fpr[\"macro\"] = all_fpr\n",
    "    tpr[\"macro\"] = mean_tpr\n",
    "    roc_auc[\"macro\"] = auc(fpr[\"macro\"], tpr[\"macro\"])\n",
    "\n",
    "    \n",
    "    \n",
    "    # Plot all ROC curves\n",
    "    plt.figure(figsize=figsize)\n",
    "    plt.plot(fpr[\"micro\"], tpr[\"micro\"],\n",
    "             label='micro-average ROC curve (area = {0:0.2f})'\n",
    "                   ''.format(roc_auc[\"micro\"]),\n",
    "             color='deeppink', linestyle=':', linewidth=4)\n",
    "\n",
    "    plt.plot(fpr[\"macro\"], tpr[\"macro\"],\n",
    "             label='macro-average ROC curve (area = {0:0.2f})'\n",
    "                   ''.format(roc_auc[\"macro\"]),\n",
    "             color='navy', linestyle=':', linewidth=4)\n",
    "\n",
    "    colors = itertools.cycle(['aqua', 'darkorange', 'cornflowerblue'])\n",
    "    \n",
    "    if class_map is None:\n",
    "        for i, color in zip(range(n_classes), colors):\n",
    "            plt.plot(fpr[i], tpr[i], color=color, lw=lw,\n",
    "                     label='ROC curve of class {0} (area = {1:0.2f})'\n",
    "                     ''.format(i, roc_auc[i]))\n",
    "    else:\n",
    "        for i, color in zip(range(n_classes), colors):\n",
    "            plt.plot(fpr[i], tpr[i], color=color, lw=lw,\n",
    "                     label='ROC curve of class {} (area = {:.2f})'\n",
    "                     ''.format(class_map[i], roc_auc[i]))\n",
    "\n",
    "    plt.plot([0, 1], [0, 1], 'k--', lw=lw)\n",
    "    plt.xlim([0.0, 1.0])\n",
    "    plt.ylim([0.0, 1.05])\n",
    "    plt.xlabel('False Positive Rate')\n",
    "    plt.ylabel('True Positive Rate')\n",
    "    plt.title('Receiver operating characteristic')\n",
    "    plt.legend(loc=\"lower right\")\n",
    "    plt.show()"
   ]
  },
  {
   "cell_type": "markdown",
   "metadata": {},
   "source": [
    "### Load data"
   ]
  },
  {
   "cell_type": "markdown",
   "metadata": {},
   "source": [
    "Considered features: sample_mean, time_of_data_variation (secs), max_peak, num_peaks, mean_of_peaks, pse."
   ]
  },
  {
   "cell_type": "code",
   "execution_count": 12,
   "metadata": {
    "collapsed": false
   },
   "outputs": [
    {
     "name": "stdout",
     "output_type": "stream",
     "text": [
      "[[ 0.31612362  0.51076294  1.         ...,  1.19060919  3.42123432  1.        ]\n",
      " [ 0.23859909  0.30645777  1.         ...,  0.63196545  3.77933016  1.        ]\n",
      " [ 0.49870963  2.14520436  4.         ...,  6.29437589  2.68336024  3.        ]\n",
      " ..., \n",
      " [ 0.49741322  3.27630447  6.         ...,  8.36395936  2.01679775  3.        ]\n",
      " [ 0.36464193  1.33099869  3.         ...,  3.3898593   2.84611253  2.        ]\n",
      " [ 0.57603441  2.45722835  4.         ...,  5.65549558  2.22981438  3.        ]]\n"
     ]
    }
   ],
   "source": [
    "data = sio.loadmat('../data/num_data_aug.mat')['data']\n",
    "# Remove not tagged instances (e.g., Enrico's low frequency gameplay)\n",
    "# 0 is the code for not tagged data. \n",
    "data = data[data[:,-1] != 0]\n",
    "print data"
   ]
  },
  {
   "cell_type": "code",
   "execution_count": 13,
   "metadata": {
    "collapsed": false
   },
   "outputs": [],
   "source": [
    "X = data[:,:-2]  # Load X.\n",
    "y = data[:,-1]   # Load y\n",
    "\n",
    "#label remap\n",
    "labels = {1: 'locally_moving', 2:'walk/dodging', 3:'running'}"
   ]
  },
  {
   "cell_type": "markdown",
   "metadata": {},
   "source": [
    "## Machine Learning approach\n",
    "---"
   ]
  },
  {
   "cell_type": "markdown",
   "metadata": {},
   "source": [
    "### Random forest experiments"
   ]
  },
  {
   "cell_type": "code",
   "execution_count": 14,
   "metadata": {
    "collapsed": true
   },
   "outputs": [],
   "source": [
    "from sklearn import svm\n",
    "from sklearn.feature_selection import SelectFromModel\n",
    "from sklearn.pipeline import Pipeline\n",
    "from sklearn.ensemble import RandomForestClassifier\n",
    "from sklearn.model_selection import cross_val_score\n",
    "from sklearn.metrics import roc_curve, auc, precision_recall_curve, average_precision_score\n",
    "from sklearn.multiclass import OneVsRestClassifier\n",
    "from sklearn.preprocessing import LabelBinarizer"
   ]
  },
  {
   "cell_type": "code",
   "execution_count": 15,
   "metadata": {
    "collapsed": true
   },
   "outputs": [],
   "source": [
    "#### Split dataset\n",
    "X_train, X_test, y_train, y_test = train_test_split(X, y, test_size=.2) # 20% for the testing set"
   ]
  },
  {
   "cell_type": "code",
   "execution_count": 16,
   "metadata": {
    "collapsed": false,
    "scrolled": false
   },
   "outputs": [
    {
     "name": "stdout",
     "output_type": "stream",
     "text": [
      "CROSS VALIDATION:\n",
      "Accuracy: 0.83 (+/- 0.16) \t <- The mean score and the 95% confidence interval of the score estimate!\n",
      "\n",
      "CLASSIFICATION REPORT:\n",
      "                precision    recall  f1-score   support\n",
      "\n",
      "locally_moving       0.88      0.88      0.88        26\n",
      "  walk/dodging       0.75      0.75      0.75        24\n",
      "       running       0.88      0.88      0.88        24\n",
      "\n",
      "   avg / total       0.84      0.84      0.84        74\n",
      "\n",
      "Confusion matrix, without normalization\n"
     ]
    },
    {
     "data": {
      "image/png": "[encoded data removed]",
      "text/plain": [
       "<matplotlib.figure.Figure at 0x10f3a8750>"
      ]
     },
     "metadata": {},
     "output_type": "display_data"
    },
    {
     "data": {
      "image/png": "[encoded data removed]",
      "text/plain": [
       "<matplotlib.figure.Figure at 0x10f397dd0>"
      ]
     },
     "metadata": {},
     "output_type": "display_data"
    }
   ],
   "source": [
    "# Random forest classifier\n",
    "clf = RandomForestClassifier(n_estimators=10, max_depth=None,min_samples_split=2, random_state=0)\n",
    "clf.fit(X_train, y_train)            # fit classifier\n",
    "y_pred = clf.predict(X_test)         # one-hot predictions\n",
    "y_scores = clf.predict_proba(X_test) # probabilistic predictions\n",
    "\n",
    "# Cross validation\n",
    "scores = cross_val_score(clf, X_train, y_train, cv=10)\n",
    "print 'CROSS VALIDATION:'\n",
    "print(\"Accuracy: %0.2f (+/- %0.2f) \\t <- The mean score and the 95%% confidence interval of the score estimate!\" % (scores.mean(), scores.std() * 2))\n",
    "\n",
    "## One hot encoder for the multi-class target variable\n",
    "lb = LabelBinarizer()             # define encoder\n",
    "lb.fit(y_test)                    # fit enconder\n",
    "y_test_enc = lb.transform(y_test) # get transformation\n",
    "\n",
    "# define labels (for improved readability)\n",
    "labls = [labels[i] for i in set(y_pred)]\n",
    "\n",
    "print \"\\nCLASSIFICATION REPORT:\"\n",
    "print(classification_report(y_test, y_pred, target_names=labls))\n",
    "\n",
    "# generate confusion matrix\n",
    "cnf_matrix = confusion_matrix(y_test, y_pred)\n",
    "\n",
    "# Plot confusion matrix\n",
    "plt.figure(figsize=(8,6))\n",
    "plot_confusion_matrix(cnf_matrix, classes=labls,\n",
    "                      title='Confusion matrix', normalize=False, cmap=plt.cm.Blues)\n",
    "\n",
    "# Compute ROC curve and ROC area for each class\n",
    "plot_multi_ROC(y_test_enc, y_scores,\n",
    "               class_map={0: 'locally_moving', 1:'walk/dodging', 2:'running'},\n",
    "               figsize=(8,6)\n",
    "              )"
   ]
  },
  {
   "cell_type": "markdown",
   "metadata": {},
   "source": [
    "## Conclusion"
   ]
  },
  {
   "cell_type": "markdown",
   "metadata": {},
   "source": [
    "From the features we have and the classification method, we see that the result is pretty good. The ROC graph looks nice and definetly we are way better than a random guess. From the same graph, we see that detecting walk/strafe(dodging) is a litle bit hard. However, this is somewhat fine given the running/walk similarities. An interesting improvement study would be to use adaboost. "
   ]
  },
  {
   "cell_type": "markdown",
   "metadata": {},
   "source": [
    "## Fuzzy classification report\n",
    "---"
   ]
  },
  {
   "cell_type": "markdown",
   "metadata": {},
   "source": [
    "## Load data"
   ]
  },
  {
   "cell_type": "code",
   "execution_count": null,
   "metadata": {
    "collapsed": false
   },
   "outputs": [],
   "source": [
    "# load target variable\n",
    "data = sio.loadmat('../data/num_data.mat')['data']\n",
    "y_true = data[:,-1]\n",
    "labels = {0: 'ignored', 1: 'locally_moving', 2:'walk/strafe', 3:'running'}"
   ]
  },
  {
   "cell_type": "code",
   "execution_count": null,
   "metadata": {
    "collapsed": false
   },
   "outputs": [],
   "source": [
    "fuzzy_data = np.array([i[0] for i in list(sio.loadmat('../data/fuzzy_ref4.mat')['ref_vec'])])\n",
    "\n",
    "### Remove not tagged instances (e.g., Enrico's low frequency gameplay)\n",
    "### 0 is the code for not tagged data. \n",
    "ex = [] # list of rows to exlude\n",
    "for i in range(len(y_true)):\n",
    "    if y_true[i] == 0.0:\n",
    "        ex.append(i)\n",
    "fuzzy_data = np.delete(fuzzy_data,ex)                 # exclude rows\n",
    "y_true = np.array([int(i) for i in y_true if i != 0]) # clean target variable\n",
    "# Check dimensions\n",
    "print y_true.shape\n",
    "print fuzzy_data.shape"
   ]
  },
  {
   "cell_type": "code",
   "execution_count": null,
   "metadata": {
    "collapsed": false
   },
   "outputs": [],
   "source": [
    "def translate(value, leftMin, leftMax, rightMin, rightMax):\n",
    "    \"\"\"\n",
    "    Range remap fuction: remap a value from a given interval to another.\n",
    "    value   : the value to be remaped\n",
    "    leftMin : the lower original endpoint\n",
    "    leftMax : the higher original endpoint\n",
    "    rightMin: the lower modified endpoint\n",
    "    rightMax: the higher modified endpint\n",
    "    \"\"\"\n",
    "    # Figure out how 'wide' each range is\n",
    "    leftSpan = leftMax - leftMin\n",
    "    rightSpan = rightMax - rightMin\n",
    "\n",
    "    # Convert the left range into a 0-1 range (float)\n",
    "    valueScaled = float(value - leftMin) / float(leftSpan)\n",
    "\n",
    "    # Convert the 0-1 range into a value in the right range.\n",
    "    return rightMin + (valueScaled * rightSpan)"
   ]
  },
  {
   "cell_type": "code",
   "execution_count": null,
   "metadata": {
    "collapsed": false
   },
   "outputs": [],
   "source": [
    "## A simple deffuzification process considering the proportion of values: pick the \n",
    "# 'label' whose the output value is closest)!\n",
    "for i in range(len(fuzzy_data)):\n",
    "    if fuzzy_data[i] >= 0 and fuzzy_data[i] < 0.4:\n",
    "        value = translate(fuzzy_data[i], 0, 0.4, 0, 1)\n",
    "        if (value > .5):\n",
    "            fuzzy_data[i] = 1\n",
    "        else:\n",
    "            fuzzy_data[i] = 0\n",
    "    elif fuzzy_data[i] >= 0.4 and fuzzy_data[i] < 0.8:\n",
    "        value = translate(fuzzy_data[i], 0.4, 0.8, 0, 1)\n",
    "        if (value > .5):\n",
    "            fuzzy_data[i] = 2\n",
    "        else:\n",
    "            fuzzy_data[i] = 1\n",
    "    elif fuzzy_data[i] >= 0.8 and fuzzy_data[i] <= 1:\n",
    "        value = translate(fuzzy_data[i], 0.8, 0.1, 0, 1)\n",
    "        if (value > .5):\n",
    "            fuzzy_data[i] = 3\n",
    "        else:\n",
    "            fuzzy_data[i] = 2"
   ]
  },
  {
   "cell_type": "code",
   "execution_count": null,
   "metadata": {
    "collapsed": false
   },
   "outputs": [],
   "source": [
    "y_pred = np.array(fuzzy_data)\n",
    "labels = {0: 'ignored', 1: 'locally_moving', 2:'walk/strafe', 3:'running'}\n",
    "target_names = [labels[i] for i in list(set(fuzzy_data))]\n",
    "\n",
    "print \"CLASSIFICATION REPORT:\"\n",
    "print(classification_report(y_true, y_pred, target_names=target_names))\n",
    "# make confusion matrix\n",
    "cnf_matrix = confusion_matrix(y_true, y_pred)\n",
    "# Plot normalized confusion matrix\n",
    "plt.figure(figsize=(8,4))\n",
    "plot_confusion_matrix(cnf_matrix, classes=target_names,\n",
    "                      title='Normalized confusion matrix', cmap=plt.cm.Blues)"
   ]
  },
  {
   "cell_type": "markdown",
   "metadata": {},
   "source": [
    "## Conclusion\n",
    "---"
   ]
  },
  {
   "cell_type": "markdown",
   "metadata": {},
   "source": [
    "Current designed system is not as accurate as using Random Forest classifier! Needs to be redisigned. Naturally, we should not consider it anymore since we have better classification methods! In case we need a probabilistic prediction, we can just use that type of output from the random forest!"
   ]
  }
 ],
 "metadata": {
  "kernelspec": {
   "display_name": "Python 2",
   "language": "python",
   "name": "python2"
  },
  "language_info": {
   "codemirror_mode": {
    "name": "ipython",
    "version": 2
   },
   "file_extension": ".py",
   "mimetype": "text/x-python",
   "name": "python",
   "nbconvert_exporter": "python",
   "pygments_lexer": "ipython2",
   "version": "2.7.11"
  },
  "widgets": {
   "state": {},
   "version": "1.1.1"
  }
 },
 "nbformat": 4,
 "nbformat_minor": 0
}
