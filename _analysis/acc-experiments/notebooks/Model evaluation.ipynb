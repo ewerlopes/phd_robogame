{
 "cells": [
  {
   "cell_type": "code",
   "execution_count": 1,
   "metadata": {
    "collapsed": true
   },
   "outputs": [],
   "source": [
    "from __future__ import division\n",
    "%matplotlib inline\n",
    "import numpy as np\n",
    "import scipy.io as sio\n",
    "import itertools\n",
    "from matplotlib import pyplot as plt\n",
    "import meta_features as mf\n",
    "from scipy import interp\n",
    "from sklearn.metrics import classification_report, roc_curve,  confusion_matrix\n",
    "from sklearn.model_selection import cross_val_score, train_test_split\n",
    "from sklearn.externals import joblib\n",
    "from collections import Counter"
   ]
  },
  {
   "cell_type": "markdown",
   "metadata": {},
   "source": [
    "## Load data"
   ]
  },
  {
   "cell_type": "code",
   "execution_count": 5,
   "metadata": {
    "collapsed": false
   },
   "outputs": [
    {
     "name": "stdout",
     "output_type": "stream",
     "text": [
      "Lenght of dataset: (388, 7)\n",
      "Invalids: [189, 190, 191, 192, 193, 194, 195, 196, 197, 198, 199, 200, 201, 202, 203, 204, 205, 206, 207, 208, 209]\n",
      "\n",
      "Lenght of dataset (after invalid removal): (367, 7)\n",
      "[[ 0.31612362  0.51076294  1.         ...,  1.19060919  3.42123432  1.        ]\n",
      " [ 0.23859909  0.30645777  1.         ...,  0.63196545  3.77933016  1.        ]\n",
      " [ 0.49870963  2.14520436  4.         ...,  6.29437589  2.68336024  3.        ]\n",
      " ..., \n",
      " [ 0.49741322  3.27630447  6.         ...,  8.36395936  2.01679775  3.        ]\n",
      " [ 0.36464193  1.33099869  3.         ...,  3.3898593   2.84611253  2.        ]\n",
      " [ 0.57603441  2.45722835  4.         ...,  5.65549558  2.22981438  3.        ]]\n"
     ]
    }
   ],
   "source": [
    "data = sio.loadmat('../data/num_data_aug.mat')['data']\n",
    "# Remove not tagged instances (e.g., Enrico's low frequency gameplay)\n",
    "# 0 is the code for not tagged data. \n",
    "\n",
    "print 'Lenght of dataset: {}'.format(data.shape)\n",
    "invalid_mprimitives = [i for i,d in enumerate(data) if d[-1] == 0]\n",
    "print 'Invalids: {}'.format(invalid_mprimitives)\n",
    "print \n",
    "\n",
    "data = data[data[:,-1] != 0]\n",
    "print 'Lenght of dataset (after invalid removal): {}'.format(data.shape)\n",
    "print data"
   ]
  },
  {
   "cell_type": "code",
   "execution_count": 6,
   "metadata": {
    "collapsed": true
   },
   "outputs": [],
   "source": [
    "X = data[:,:-3]  # Load X.\n",
    "y = data[:,-1]   # Load y\n",
    "\n",
    "#label remap\n",
    "labels = {1: 'locally_moving', 2:'walk/dodging', 3:'running'}"
   ]
  },
  {
   "cell_type": "code",
   "execution_count": 7,
   "metadata": {
    "collapsed": false
   },
   "outputs": [],
   "source": [
    "res = joblib.load('matches.pkl') \n",
    "ci_prox = joblib.load('ci_proximity.pkl')\n",
    "clf = joblib.load('classifier.pkl') "
   ]
  },
  {
   "cell_type": "code",
   "execution_count": 8,
   "metadata": {
    "collapsed": false
   },
   "outputs": [],
   "source": [
    "proc_res = [(d['ci_means'],d['prox_means']) for i,d in enumerate(res) if i not in invalid_mprimitives]\n",
    "assert len(data) == len(proc_res)"
   ]
  },
  {
   "cell_type": "markdown",
   "metadata": {},
   "source": [
    "## Testing the activity formula"
   ]
  },
  {
   "cell_type": "code",
   "execution_count": 94,
   "metadata": {
    "collapsed": false
   },
   "outputs": [
    {
     "name": "stdout",
     "output_type": "stream",
     "text": [
      "Interval: [38, 39, 40, 41, 42, 43, 44, 45, 46, 47]\n",
      "10\n"
     ]
    }
   ],
   "source": [
    "start = 38#366-28\n",
    "end   = 47#366\n",
    "interval = range(start,end+1,1)\n",
    "print \"Interval: {}\".format(interval)\n",
    "print len(interval)\n",
    "\n",
    "X_test = X[start:end]\n",
    "y_test = y[start:end]"
   ]
  },
  {
   "cell_type": "code",
   "execution_count": 95,
   "metadata": {
    "collapsed": false
   },
   "outputs": [],
   "source": [
    "n_classes = 3\n",
    "omega = [1, 30, 60]\n",
    "#assert np.sum(omega) == 1"
   ]
  },
  {
   "cell_type": "code",
   "execution_count": 96,
   "metadata": {
    "collapsed": false,
    "scrolled": false
   },
   "outputs": [
    {
     "name": "stdout",
     "output_type": "stream",
     "text": [
      "Interval number: 38\n",
      "Starts at: 0.0\n",
      "Ends at: 0.827356321839\n",
      "Prediction [[ 0.1  0.9  0. ]]\n",
      "Energy: 0.20076740128\n",
      "Activity_level: 5.44\n",
      "\n",
      "Interval number: 39\n",
      "Starts at: 1.13761494253\n",
      "Ends at: 4.75729885057\n",
      "Prediction [[ 0.  0.  1.]]\n",
      "Energy: 0.425407799749\n",
      "Activity_level: 25.52\n",
      "\n",
      "Interval number: 40\n",
      "Starts at: 5.27439655172\n",
      "Ends at: 5.48123563218\n",
      "Prediction [[ 1.  0.  0.]]\n",
      "Energy: 0.061545207205\n",
      "Activity_level: 0.06\n",
      "\n",
      "Interval number: 41\n",
      "Starts at: 7.03252873563\n",
      "Ends at: 8.89408045977\n",
      "Prediction [[ 0.  0.  1.]]\n",
      "Energy: 0.651852433272\n",
      "Activity_level: 39.11\n",
      "\n",
      "Interval number: 42\n",
      "Starts at: 9.20433908046\n",
      "Ends at: 13.8582183908\n",
      "Prediction [[ 0.  0.  1.]]\n",
      "Energy: 0.364834251451\n",
      "Activity_level: 21.89\n",
      "\n",
      "Interval number: 43\n",
      "Starts at: 14.5821551724\n",
      "Ends at: 16.7539655172\n",
      "Prediction [[ 0.  0.  1.]]\n",
      "Energy: 0.44578884693\n",
      "Activity_level: 26.75\n",
      "\n",
      "Interval number: 44\n",
      "Starts at: 18.7189367816\n",
      "Ends at: 19.1326149425\n",
      "Prediction [[ 1.  0.  0.]]\n",
      "Energy: 0.0506992313728\n",
      "Activity_level: 0.05\n",
      "\n",
      "Interval number: 45\n",
      "Starts at: 19.7531321839\n",
      "Ends at: 22.028362069\n",
      "Prediction [[ 0.   0.8  0.2]]\n",
      "Energy: 0.288702649938\n",
      "Activity_level: 10.39\n",
      "\n",
      "Interval number: 46\n",
      "Starts at: 26.5788218391\n",
      "Ends at: 26.7856609195\n",
      "Prediction [[ 1.  0.  0.]]\n",
      "Energy: 0.0454361859303\n",
      "Activity_level: 0.05\n",
      "\n",
      "Interval number: 47\n",
      "Starts at: 27.8198563218\n",
      "Ends at: 30.1985057471\n",
      "Prediction [[ 0.   0.5  0.5]]\n",
      "Energy: 0.259573650282\n",
      "Activity_level: 11.68\n",
      "\n"
     ]
    },
    {
     "data": {
      "image/png": "[encoded data removed]",
      "text/plain": [
       "<matplotlib.figure.Figure at 0x10ad65f10>"
      ]
     },
     "metadata": {},
     "output_type": "display_data"
    }
   ],
   "source": [
    "import matplotlib.patches as patches\n",
    "preds = []\n",
    "act_level = []\n",
    "sums = []\n",
    "begins = []\n",
    "ends = []\n",
    "for i in interval:\n",
    "    print 'Interval number: {}'.format(i)\n",
    "    print 'Starts at: {}'.format(res[i]['dt_samples'][0])\n",
    "    begins.append(res[i]['dt_samples'][0])\n",
    "    print 'Ends at: {}'.format(res[i]['dt_samples'][-1])\n",
    "    ends.append(res[i]['dt_samples'][-1])\n",
    "    pred = clf.predict_proba(X[i].reshape(1,-1))\n",
    "    print 'Prediction {}'.format(pred)\n",
    "    preds.append(pred)\n",
    "    summation = 0\n",
    "    epsilon = mf.energy(res[i]['act'])\n",
    "    print 'Energy: {}'.format(epsilon)\n",
    "    for j in range(n_classes):\n",
    "        summation += omega[j]*pred[0][j]*epsilon\n",
    "    if len(sums) == 0:\n",
    "        sums.append(summation)\n",
    "    else:\n",
    "        sums.append(sums[-1]+summation)\n",
    "    act_level.append(summation)\n",
    "    print 'Activity_level: {:.2f}'.format(summation)\n",
    "    print\n",
    "\n",
    "fig = plt.figure(figsize=(8,4))\n",
    "ax = fig.add_subplot(121)\n",
    "ax.plot(sums)\n",
    "ax.set_yticks(range(0,200,25))\n",
    "ax.set_xticks(range(len(sums)))\n",
    "ax.grid()\n",
    "ax.set_title('Cumulative activity score')\n",
    "\n",
    "ax2 = fig.add_subplot(122)\n",
    "dev = np.diff(sums)\n",
    "ax2.plot(dev)\n",
    "ax2.set_xticks(range(len(sums)))\n",
    "ax2.grid()\n",
    "ax2.set_title('Activity score derivative')\n",
    "plt.show()\n"
   ]
  },
  {
   "cell_type": "markdown",
   "metadata": {},
   "source": [
    "## Fuzzy"
   ]
  },
  {
   "cell_type": "code",
   "execution_count": 101,
   "metadata": {
    "collapsed": false,
    "scrolled": false
   },
   "outputs": [
    {
     "name": "stderr",
     "output_type": "stream",
     "text": [
      "/usr/local/lib/python2.7/site-packages/matplotlib/figure.py:397: UserWarning: matplotlib is currently using a non-GUI backend, so cannot show the figure\n",
      "  \"matplotlib is currently using a non-GUI backend, \"\n"
     ]
    },
    {
     "name": "stdout",
     "output_type": "stream",
     "text": [
      "iteration: 0\n",
      "iteration: 100\n",
      "iteration: 200\n",
      "iteration: 300\n",
      "DONE!\n"
     ]
    },
    {
     "data": {
      "image/png": "[encoded data removed]",
      "text/plain": [
       "<matplotlib.figure.Figure at 0x109f175d0>"
      ]
     },
     "metadata": {},
     "output_type": "display_data"
    }
   ],
   "source": [
    "import numpy as np\n",
    "import  as fuzz\n",
    "from skfuzzy import control as ctrl\n",
    "\n",
    "# New Antecedent/Consequent objects hold universe variables and membership\n",
    "# functions\n",
    "ci = ctrl.Antecedent(np.arange(0, 1.1, .1), 'ci')\n",
    "proximity = ctrl.Antecedent(np.arange(0, 1.1, .1), 'proximity')\n",
    "interaction_level = ctrl.Consequent(np.arange(0, 1.1, .1), 'interaction_level')\n",
    "\n",
    "# membership function population\n",
    "ci['low'] = fuzz.trapmf(ci.universe, [0,0,.1,.5])\n",
    "ci['medium'] = fuzz.trimf(ci.universe, [.1, .5, .9])\n",
    "ci['high'] = fuzz.trapmf(ci.universe, [.5, .9, 1, 1])\n",
    "proximity['low'] = fuzz.trapmf(proximity.universe, [0,0,.1,.5])\n",
    "proximity['medium'] = fuzz.trimf(proximity.universe, [.1, .5, .9])\n",
    "proximity['high'] = fuzz.trapmf(proximity.universe, [.5, .9, 1, 1])\n",
    "\n",
    "ci.view()\n",
    "\n",
    "# Custom membership functions can be built interactively with a familiar,\n",
    "# Pythonic API\n",
    "interaction_level['low'] = fuzz.trapmf(interaction_level.universe, [0,0,0,0])\n",
    "interaction_level['medium'] = fuzz.trapmf(interaction_level.universe, [.5, .5, .5,.5])\n",
    "interaction_level['high'] = fuzz.trimf(interaction_level.universe, [1, 1, 1])\n",
    "\n",
    "rule1 = ctrl.Rule(ci['low'] & proximity['low'], interaction_level['low'])\n",
    "rule2 = ctrl.Rule(ci['medium'] & proximity['medium'], interaction_level['medium'])\n",
    "rule3 = ctrl.Rule(ci['high'] & proximity['high'], interaction_level['high'])\n",
    "rule4 = ctrl.Rule(ci['low'] & proximity['high'], interaction_level['medium'])\n",
    "rule5 = ctrl.Rule(ci['high'] & proximity['low'], interaction_level['medium'])\n",
    "rule6 = ctrl.Rule(ci['low'] & proximity['medium'], interaction_level['low'])\n",
    "rule7 = ctrl.Rule(ci['medium'] & proximity['low'], interaction_level['low'])\n",
    "rule8 = ctrl.Rule(ci['medium'] & proximity['high'], interaction_level['high'])\n",
    "rule9 = ctrl.Rule(ci['high'] & proximity['medium'], interaction_level['high'])\n",
    "\n",
    "\n",
    "interaction_ctrl = ctrl.ControlSystem([rule1, rule2, rule3, rule4, rule5, rule6, rule7, rule8, rule9])\n",
    "interaction_out = ctrl.ControlSystemSimulation(interaction_ctrl)\n",
    "\n",
    "# Pass inputs to the ControlSystem using Antecedent labels with Pythonic API\n",
    "# Note: if you like passing many inputs all at once, use .inputs(dict_of_data)\n",
    "kappa = []\n",
    "fuzzy_out = []\n",
    "\n",
    "for ind,i in enumerate(proc_res):\n",
    "    if ind % 100 == 0:\n",
    "        print 'iteration: {}'.format(ind)\n",
    "    \n",
    "    c = None\n",
    "    p = None\n",
    "\n",
    "    if np.isnan(i[0]):\n",
    "        c = 0\n",
    "    else:\n",
    "        c = i[0]\n",
    "    \n",
    "    if np.isnan(i[1]):\n",
    "        p = 0\n",
    "    else:\n",
    "        p = i[1]\n",
    "    \n",
    "    #print 'Ci={}, prox= {}'.format(c,p)\n",
    "    interaction_out.input['ci'] = c\n",
    "    interaction_out.input['proximity'] = p\n",
    "\n",
    "\n",
    "    \n",
    "    # Crunch the numbers\n",
    "    interaction_out.compute()\n",
    "\n",
    "\n",
    "    result = interaction_out.output['interaction_level']\n",
    "    fuzzy_out.append(result)\n",
    "    \n",
    "    #print 'interaction_level: {}'.format(result)\n",
    "    \n",
    "    k= None\n",
    "    if result < 0.3:\n",
    "        k = 1\n",
    "    elif (result >= 0.3) and (result < 0.6):\n",
    "        k = 2\n",
    "    elif (result >= 0.6) and (result < 1):\n",
    "        k = 3\n",
    "    \n",
    "    #print 'gain factor: {}'.format(k)\n",
    "    kappa.append(k)\n",
    "    \n",
    "    #interaction_level.view(sim=interaction_out)\n",
    "print 'DONE!'\n"
   ]
  },
  {
   "cell_type": "code",
   "execution_count": 98,
   "metadata": {
    "collapsed": false
   },
   "outputs": [
    {
     "name": "stdout",
     "output_type": "stream",
     "text": [
      "367\n",
      "367\n"
     ]
    }
   ],
   "source": [
    "print len(fuzzy_output)\n",
    "print len(proc_res)"
   ]
  },
  {
   "cell_type": "markdown",
   "metadata": {},
   "source": [
    "## Engagement computation"
   ]
  },
  {
   "cell_type": "code",
   "execution_count": 100,
   "metadata": {
    "collapsed": false,
    "scrolled": false
   },
   "outputs": [
    {
     "data": {
      "image/png": "[encoded data removed]",
      "text/plain": [
       "<matplotlib.figure.Figure at 0x10c701110>"
      ]
     },
     "metadata": {},
     "output_type": "display_data"
    },
    {
     "data": {
      "image/png": "[encoded data removed]",
      "text/plain": [
       "<matplotlib.figure.Figure at 0x10aafae50>"
      ]
     },
     "metadata": {},
     "output_type": "display_data"
    }
   ],
   "source": [
    "fig = plt.figure(figsize=(12,4))\n",
    "\n",
    "ax = fig.add_subplot(121)\n",
    "\n",
    "for i, (b,e) in enumerate(zip(begins,ends)):\n",
    "    xs = np.linspace(b,e,100)\n",
    "    ys = np.ones_like(xs) * act_level[i]\n",
    "    \n",
    "    p = patches.Rectangle(\n",
    "        (xs[0], 0), e-b, act_level[i], facecolor=\"red\", #fill=False,\n",
    "        linewidth=None,      # Default\n",
    "    )\n",
    "    ax.plot(xs,ys)\n",
    "    ax.add_patch(p)\n",
    "\n",
    "plt.xlabel('time (secs)')\n",
    "plt.ylabel('activity level')\n",
    "plt.grid()\n",
    "plt.draw()\n",
    "\n",
    "ax1 = fig.add_subplot(122)\n",
    "\n",
    "for i, (b,e) in enumerate(zip(begins,ends)):\n",
    "    xs = np.linspace(b,e,100)\n",
    "    ys = np.ones_like(xs) * fuzzy_out[start:end+1][i]\n",
    "    \n",
    "    p = patches.Rectangle(\n",
    "        (xs[0], 0), e-b, fuzzy_out[start:end+1][i], facecolor=\"yellow\", #fill=False,\n",
    "        linewidth=None,      # Default\n",
    "    )\n",
    "    ax1.plot(xs,ys)\n",
    "    ax1.add_patch(p)\n",
    "\n",
    "plt.xlabel('time (secs)')\n",
    "plt.ylabel('degree of interaction')\n",
    "plt.grid()\n",
    "plt.draw()\n",
    "\n",
    "fig = plt.figure(figsize=(12,4))\n",
    "\n",
    "ax2 = fig.add_subplot(121)\n",
    "inter_levs = kappa[start:end+1]\n",
    "\n",
    "for i, (b,e) in enumerate(zip(begins,ends)):\n",
    "    \n",
    "    xs = np.linspace(b,e,100)\n",
    "    ys = np.ones_like(xs) * inter_levs[i]\n",
    "    \n",
    "    p = patches.Rectangle(\n",
    "        (xs[0], 0), e-b, inter_levs[i], facecolor=\"green\", #fill=False,\n",
    "        linewidth=None,      # Default\n",
    "    )\n",
    "    ax2.plot(xs,ys)\n",
    "    ax2.add_patch(p)\n",
    "plt.xlabel('time (secs)')\n",
    "plt.ylabel('gain factor ($\\kappa$)')\n",
    "plt.grid()\n",
    "plt.draw()\n",
    "\n",
    "ax3 = fig.add_subplot(122)\n",
    "\n",
    "for i, (b,e) in enumerate(zip(begins,ends)):\n",
    "    engagement = act_level[i] * inter_levs[i]\n",
    "    \n",
    "    xs = np.linspace(b,e,100)\n",
    "    ys = np.ones_like(xs) * engagement\n",
    "    \n",
    "    p = patches.Rectangle(\n",
    "        (xs[0], 0), e-b, engagement, facecolor=\"blue\", #fill=False,\n",
    "        linewidth=None,      # Default\n",
    "    )\n",
    "    ax3.plot(xs,ys)\n",
    "    ax3.add_patch(p)\n",
    "plt.xlabel('time (secs)')\n",
    "plt.ylabel('engagement index')\n",
    "plt.grid()\n",
    "fig.subplots_adjust(hspace=0.5, wspace= 0.4)\n",
    "plt.show()"
   ]
  },
  {
   "cell_type": "code",
   "execution_count": null,
   "metadata": {
    "collapsed": true
   },
   "outputs": [],
   "source": []
  }
 ],
 "metadata": {
  "kernelspec": {
   "display_name": "Python 2",
   "language": "python",
   "name": "python2"
  },
  "language_info": {
   "codemirror_mode": {
    "name": "ipython",
    "version": 2
   },
   "file_extension": ".py",
   "mimetype": "text/x-python",
   "name": "python",
   "nbconvert_exporter": "python",
   "pygments_lexer": "ipython2",
   "version": "2.7.11"
  },
  "widgets": {
   "state": {},
   "version": "1.1.1"
  }
 },
 "nbformat": 4,
 "nbformat_minor": 0
}
