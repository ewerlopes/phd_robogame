{
 "cells": [
  {
   "cell_type": "code",
   "execution_count": 1,
   "metadata": {
    "collapsed": false
   },
   "outputs": [
    {
     "name": "stdout",
     "output_type": "stream",
     "text": [
      "Populating the interactive namespace from numpy and matplotlib\n"
     ]
    }
   ],
   "source": [
    "from __future__ import division\n",
    "%matplotlib inline\n",
    "%pylab inline\n",
    "import csv\n",
    "import sys\n",
    "import os\n",
    "import traceback\n",
    "import json\n",
    "import pickle\n",
    "import numpy as np\n",
    "import pandas as pd\n",
    "import scipy.io as sio\n",
    "import seaborn as sns\n",
    "import scipy.fftpack as fft\n",
    "from sklearn.externals import joblib\n",
    "from sklearn.feature_extraction.text import CountVectorizer\n",
    "from sklearn.manifold import TSNE\n",
    "from matplotlib import pyplot as plt\n",
    "from collections import defaultdict, Counter\n",
    "from helper_functions import getListOfFiles, getCSV, getStatistics, remap_interval"
   ]
  },
  {
   "cell_type": "code",
   "execution_count": 2,
   "metadata": {
    "collapsed": false
   },
   "outputs": [
    {
     "name": "stdout",
     "output_type": "stream",
     "text": [
      ">> 29 mat Files found:\n",
      "\n",
      "[\"_2016-11-23-18-49-13_exp1_Player.csv.mat\", \"_2016-11-23-18-49-13_exp2_Player.csv.mat\", \"_2016-11-23-18-49-13_exp3_Player.csv.mat\", \"_2016-11-23-18-49-13_exp4_Player.csv.mat\", \"_2016-11-23-18-49-13_exp5_Player.csv.mat\", \"_2016-11-24-15-43-37_exp1d_Player.csv.mat\", \"_2016-11-24-15-43-37_exp2d_Player.csv.mat\", \"_2016-11-24-15-43-37_exp4d_Player.csv.mat\", \"_2016-11-24-15-43-37_exp5d_Player.csv.mat\", \"_2016-11-24-15-43-37_exp6d_Player.csv.mat\", \"_2016-11-24-16-23-29_expa_Player.csv.mat\", \"_2016-11-24-16-23-29_expb_Player.csv.mat\", \"_2016-11-24-16-23-29_expc_Player.csv.mat\", \"_2016-11-24-16-23-29_expd_Player.csv.mat\", \"_2016-11-24-16-48-48_exp1d_Player.csv.mat\", \"_2016-11-24-16-48-48_exp3d_Player.csv.mat\", \"_2016-11-24-17-15-38_expa_Player.csv.mat\", \"_2016-11-24-17-15-38_expb_Player.csv.mat\", \"_2016-11-24-17-15-38_expc_Player.csv.mat\", \"_2016-11-24-17-40-06_expb_Player.csv.mat\", \"_2016-11-26-16-05-47_exp1d_Player.csv.mat\", \"_2016-11-26-16-35-21_exp1d_Player.csv.mat\", \"_2016-11-26-17-15-53_exp2_Player.csv.mat\", \"_2016-11-26-17-15-53_exp3_Player.csv.mat\", \"_2016-11-26-17-15-53_exp4_Player.csv.mat\", \"_2016-11-26-17-15-53_fixed_exp2d_Player.csv.mat\", \"_2016-11-26-17-38-21_fixed_exp1d_Player.csv.mat\", \"_2016-11-26-18-36-15_expa_Player.csv.mat\", \"_2016-11-26-18-36-15_expb_Player.csv.mat\"]\n",
      "\n",
      ">> 29 Original CSV Files:\n",
      "\n",
      "[\"_2016-11-23-18-49-13_exp1_Player.csv\", \"_2016-11-23-18-49-13_exp2_Player.csv\", \"_2016-11-23-18-49-13_exp3_Player.csv\", \"_2016-11-23-18-49-13_exp4_Player.csv\", \"_2016-11-23-18-49-13_exp5_Player.csv\", \"_2016-11-24-15-43-37_exp1d_Player.csv\", \"_2016-11-24-15-43-37_exp2d_Player.csv\", \"_2016-11-24-15-43-37_exp4d_Player.csv\", \"_2016-11-24-15-43-37_exp5d_Player.csv\", \"_2016-11-24-15-43-37_exp6d_Player.csv\", \"_2016-11-24-16-23-29_expa_Player.csv\", \"_2016-11-24-16-23-29_expb_Player.csv\", \"_2016-11-24-16-23-29_expc_Player.csv\", \"_2016-11-24-16-23-29_expd_Player.csv\", \"_2016-11-24-16-48-48_exp1d_Player.csv\", \"_2016-11-24-16-48-48_exp3d_Player.csv\", \"_2016-11-24-17-15-38_expa_Player.csv\", \"_2016-11-24-17-15-38_expb_Player.csv\", \"_2016-11-24-17-15-38_expc_Player.csv\", \"_2016-11-24-17-40-06_expb_Player.csv\", \"_2016-11-26-16-05-47_exp1d_Player.csv\", \"_2016-11-26-16-35-21_exp1d_Player.csv\", \"_2016-11-26-17-15-53_exp2_Player.csv\", \"_2016-11-26-17-15-53_exp3_Player.csv\", \"_2016-11-26-17-15-53_exp4_Player.csv\", \"_2016-11-26-17-15-53_fixed_exp2d_Player.csv\", \"_2016-11-26-17-38-21_fixed_exp1d_Player.csv\", \"_2016-11-26-18-36-15_expa_Player.csv\", \"_2016-11-26-18-36-15_expb_Player.csv\"]\n"
     ]
    }
   ],
   "source": [
    "mat_dir = \"./mat_jerk_files\"\n",
    "files = getListOfFiles(mat_dir, \".mat\")\n",
    "print \">> {} mat Files found:\\n\".format(len(files))\n",
    "print json.dumps(files)\n",
    "print\n",
    "original_files = []\n",
    "for f in files:\n",
    "    original_files.append('.'.join(f.split('.')[0:2]))\n",
    "\n",
    "print \">> {} Original CSV Files:\\n\".format(len(original_files))\n",
    "print json.dumps(original_files)"
   ]
  },
  {
   "cell_type": "code",
   "execution_count": 3,
   "metadata": {
    "collapsed": false
   },
   "outputs": [
    {
     "name": "stdout",
     "output_type": "stream",
     "text": [
      "N. recovered signals 29\n"
     ]
    }
   ],
   "source": [
    "orignal = []\n",
    "for f in files:\n",
    "    mat_content = sio.loadmat(os.path.join(mat_dir, f))\n",
    "    #print mat_content\n",
    "    orignal.append(mat_content['vect'].tolist()[0])\n",
    "\n",
    "print 'N. recovered signals {}'.format(len(orignal))"
   ]
  },
  {
   "cell_type": "code",
   "execution_count": 4,
   "metadata": {
    "collapsed": false
   },
   "outputs": [
    {
     "name": "stdout",
     "output_type": "stream",
     "text": [
      ">> 29 mat Files found:\n",
      "\n",
      "[\"_2016-11-23-18-49-13_exp1_Player.csv.mat\", \"_2016-11-23-18-49-13_exp2_Player.csv.mat\", \"_2016-11-23-18-49-13_exp3_Player.csv.mat\", \"_2016-11-23-18-49-13_exp4_Player.csv.mat\", \"_2016-11-23-18-49-13_exp5_Player.csv.mat\", \"_2016-11-24-15-43-37_exp1d_Player.csv.mat\", \"_2016-11-24-15-43-37_exp2d_Player.csv.mat\", \"_2016-11-24-15-43-37_exp4d_Player.csv.mat\", \"_2016-11-24-15-43-37_exp5d_Player.csv.mat\", \"_2016-11-24-15-43-37_exp6d_Player.csv.mat\", \"_2016-11-24-16-23-29_expa_Player.csv.mat\", \"_2016-11-24-16-23-29_expb_Player.csv.mat\", \"_2016-11-24-16-23-29_expc_Player.csv.mat\", \"_2016-11-24-16-23-29_expd_Player.csv.mat\", \"_2016-11-24-16-48-48_exp1d_Player.csv.mat\", \"_2016-11-24-16-48-48_exp3d_Player.csv.mat\", \"_2016-11-24-17-15-38_expa_Player.csv.mat\", \"_2016-11-24-17-15-38_expb_Player.csv.mat\", \"_2016-11-24-17-15-38_expc_Player.csv.mat\", \"_2016-11-24-17-40-06_expb_Player.csv.mat\", \"_2016-11-26-16-05-47_exp1d_Player.csv.mat\", \"_2016-11-26-16-35-21_exp1d_Player.csv.mat\", \"_2016-11-26-17-15-53_exp2_Player.csv.mat\", \"_2016-11-26-17-15-53_exp3_Player.csv.mat\", \"_2016-11-26-17-15-53_exp4_Player.csv.mat\", \"_2016-11-26-17-15-53_fixed_exp2d_Player.csv.mat\", \"_2016-11-26-17-38-21_fixed_exp1d_Player.csv.mat\", \"_2016-11-26-18-36-15_expa_Player.csv.mat\", \"_2016-11-26-18-36-15_expb_Player.csv.mat\"]\n",
      "\n",
      ">> 29 Original CSV Files:\n",
      "\n",
      "[\"_2016-11-23-18-49-13_exp1_Player.csv\", \"_2016-11-23-18-49-13_exp2_Player.csv\", \"_2016-11-23-18-49-13_exp3_Player.csv\", \"_2016-11-23-18-49-13_exp4_Player.csv\", \"_2016-11-23-18-49-13_exp5_Player.csv\", \"_2016-11-24-15-43-37_exp1d_Player.csv\", \"_2016-11-24-15-43-37_exp2d_Player.csv\", \"_2016-11-24-15-43-37_exp4d_Player.csv\", \"_2016-11-24-15-43-37_exp5d_Player.csv\", \"_2016-11-24-15-43-37_exp6d_Player.csv\", \"_2016-11-24-16-23-29_expa_Player.csv\", \"_2016-11-24-16-23-29_expb_Player.csv\", \"_2016-11-24-16-23-29_expc_Player.csv\", \"_2016-11-24-16-23-29_expd_Player.csv\", \"_2016-11-24-16-48-48_exp1d_Player.csv\", \"_2016-11-24-16-48-48_exp3d_Player.csv\", \"_2016-11-24-17-15-38_expa_Player.csv\", \"_2016-11-24-17-15-38_expb_Player.csv\", \"_2016-11-24-17-15-38_expc_Player.csv\", \"_2016-11-24-17-40-06_expb_Player.csv\", \"_2016-11-26-16-05-47_exp1d_Player.csv\", \"_2016-11-26-16-35-21_exp1d_Player.csv\", \"_2016-11-26-17-15-53_exp2_Player.csv\", \"_2016-11-26-17-15-53_exp3_Player.csv\", \"_2016-11-26-17-15-53_exp4_Player.csv\", \"_2016-11-26-17-15-53_fixed_exp2d_Player.csv\", \"_2016-11-26-17-38-21_fixed_exp1d_Player.csv\", \"_2016-11-26-18-36-15_expa_Player.csv\", \"_2016-11-26-18-36-15_expb_Player.csv\"]\n"
     ]
    }
   ],
   "source": [
    "mat_seg_dir = \"./segments_chunks\"\n",
    "seg_files = getListOfFiles(mat_seg_dir, \".mat\")\n",
    "print \">> {} mat Files found:\\n\".format(len(seg_files))\n",
    "print json.dumps(seg_files)\n",
    "print\n",
    "seg_data = []\n",
    "for f in files:\n",
    "    seg_data.append('.'.join(f.split('.')[0:2]))\n",
    "\n",
    "print \">> {} Original CSV Files:\\n\".format(len(seg_data))\n",
    "print json.dumps(seg_data)"
   ]
  },
  {
   "cell_type": "code",
   "execution_count": 5,
   "metadata": {
    "collapsed": false
   },
   "outputs": [
    {
     "name": "stdout",
     "output_type": "stream",
     "text": [
      "Files list number: 29\n",
      "Min. sample size of 50\n"
     ]
    }
   ],
   "source": [
    "sig_segments = []\n",
    "min_length = float('inf')\n",
    "for f in files:\n",
    "    mat_content = sio.loadmat(os.path.join(mat_seg_dir, f))\n",
    "    data = mat_content['C']\n",
    "    file_segments = []\n",
    "    for d in data.tolist()[0]:\n",
    "        if d[0].size == 0:\n",
    "            pass\n",
    "        else:\n",
    "            sample = [i[0] for i in d.tolist()]\n",
    "            file_segments.append(sample)\n",
    "            if len(sample) < min_length:\n",
    "                min_length = len(sample)\n",
    "    sig_segments.append(file_segments)\n",
    "\n",
    "print 'Files list number: {}'.format(len(sig_segments))\n",
    "print 'Min. sample size of {}'.format(min_length)"
   ]
  },
  {
   "cell_type": "code",
   "execution_count": 10,
   "metadata": {
    "collapsed": false
   },
   "outputs": [
    {
     "name": "stdout",
     "output_type": "stream",
     "text": [
      "they are not equal\n",
      "Now they are equal!\n"
     ]
    },
    {
     "data": {
      "text/plain": [
       "<matplotlib.legend.Legend at 0x1121ace50>"
      ]
     },
     "execution_count": 10,
     "metadata": {},
     "output_type": "execute_result"
    },
    {
     "data": {
      "image/png": "[encoded data removed]",
      "text/plain": [
       "<matplotlib.figure.Figure at 0x111f5ee90>"
      ]
     },
     "metadata": {},
     "output_type": "display_data"
    }
   ],
   "source": [
    "import itertools\n",
    "from operator import itemgetter\n",
    "\n",
    "def find_subsequence(seq, subseq):\n",
    "    target = np.dot(subseq, subseq)\n",
    "    candidates = np.where(np.correlate(seq,\n",
    "                                       subseq, mode='valid') == target)[0]\n",
    "    # some of the candidates entries may be false positives, double check\n",
    "    check = candidates[:, np.newaxis] + np.arange(len(subseq))\n",
    "    mask = np.all((np.take(seq, check) == subseq), axis=-1)\n",
    "    return candidates[mask]\n",
    "\n",
    "try:\n",
    "    assert original[3] == list(itertools.chain(*sig_segments[3]))\n",
    "except:\n",
    "    print 'they are not equal'\n",
    "    \n",
    "alignment = []\n",
    "for i,s in enumerate(sig_segments[3]):\n",
    "    alignment.append((i,find_subsequence(orignal[3],s)[0]))\n",
    "\n",
    "alignment.sort(key=lambda tup: tup[1])\n",
    "plt.plot(orignal[3], label='original')\n",
    "restored = [] \n",
    "for l,i in alignment:\n",
    "    restored += sig_segments[3][l]\n",
    "plt.plot(restored, label='restored')\n",
    "\n",
    "try:\n",
    "    assert orignal[3] == restored\n",
    "    print 'Now they are equal!'\n",
    "except:\n",
    "    print 'Still not equal!'\n",
    "plt.legend()"
   ]
  },
  {
   "cell_type": "code",
   "execution_count": null,
   "metadata": {
    "collapsed": true
   },
   "outputs": [],
   "source": []
  },
  {
   "cell_type": "code",
   "execution_count": null,
   "metadata": {
    "collapsed": true
   },
   "outputs": [],
   "source": []
  }
 ],
 "metadata": {
  "kernelspec": {
   "display_name": "Python 2",
   "language": "python",
   "name": "python2"
  },
  "language_info": {
   "codemirror_mode": {
    "name": "ipython",
    "version": 2
   },
   "file_extension": ".py",
   "mimetype": "text/x-python",
   "name": "python",
   "nbconvert_exporter": "python",
   "pygments_lexer": "ipython2",
   "version": "2.7.11"
  }
 },
 "nbformat": 4,
 "nbformat_minor": 0
}
