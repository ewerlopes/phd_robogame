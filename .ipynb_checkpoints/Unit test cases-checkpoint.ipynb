{
 "cells": [
  {
   "cell_type": "markdown",
   "metadata": {},
   "source": [
    "# UNITTEST"
   ]
  },
  {
   "cell_type": "code",
   "execution_count": 2,
   "metadata": {
    "collapsed": true
   },
   "outputs": [],
   "source": [
    "import unittest\n",
    "from helper_functions import getListOfFiles, getCSV, getStatistics"
   ]
  },
  {
   "cell_type": "code",
   "execution_count": 3,
   "metadata": {
    "collapsed": false
   },
   "outputs": [],
   "source": [
    "class RetrievalTestCase(unittest.TestCase):\n",
    "    \"\"\"Tests the data retrieval for `data_summary.py`\"\"\"\n",
    "\n",
    "    def loadCSV(self, filename):\n",
    "        \"\"\"\n",
    "        Opens csv and return the data as a dictionary\n",
    "        :param filename: the csv file to be open\n",
    "        :return: the dictionary whose key is the column name in the csv and\n",
    "                 the value is a list with the data for the column.\n",
    "        \"\"\"\n",
    "        reader = csv.DictReader(open(filename))\n",
    "        csv_data = {}\n",
    "        for row in reader:\n",
    "            for col, value in row.iteritems():\n",
    "                csv_data.setdefault(col, []).append(value)\n",
    "        return csv_data\n",
    "\n",
    "    def test_retrieval(self):\n",
    "        \"\"\"Is the list of windows successfully retrieved?\"\"\"\n",
    "        for f in files:\n",
    "            filename = f\n",
    "            loaded_csv = self.loadCSV(os.path.join(csv_dir, filename))\n",
    "            nWin, data = getCSV(os.path.join(csv_dir, filename))\n",
    "            csv_windows_separator = \"\"\n",
    "\n",
    "            ## Checks whether the getCSV return is the same\n",
    "            # as the original data. That is, checks weather\n",
    "            # the windows retrieval is correct.\n",
    "            for key in data.keys():\n",
    "                restored = []\n",
    "                print key\n",
    "                for l in data[key]:\n",
    "                    restored += l + [csv_windows_separator]\n",
    "                self.assertEquals(restored, loaded_csv[key])\n",
    "\n",
    "            # Check whether we get consistency on number \n",
    "            # of windows and actual size of windows data.\n",
    "            for k in data.keys():\n",
    "                self.assertEquals(nWin,len(data[k]))\n",
    "            \n",
    "    def test_reference_error(self):\n",
    "        \"\"\"Does it throws a ValueError when the referenceColumn is not in the csv?\"\"\"\n",
    "        filename = files[0]   # test only for the fist csv file. Not needed for all.\n",
    "        reference_column = \"ThisFails\"\n",
    "\n",
    "        with self.assertRaises(ValueError):\n",
    "            _ = getCSV(os.path.join(csv_dir, filename), reference_column=reference_column)\n",
    "\n",
    "    def test_separator_error(self):\n",
    "        \"\"\"Does it throws a ValueError when the windows separator is not in the csv?\"\"\"\n",
    "        filename = files[0]   # test only for the fist csv file. Not needed for all.\n",
    "\n",
    "        with self.assertRaises(ValueError):\n",
    "            _ = getCSV(os.path.join(csv_dir, filename), windows_separator=\"???\")"
   ]
  },
  {
   "cell_type": "code",
   "execution_count": null,
   "metadata": {
    "collapsed": true
   },
   "outputs": [],
   "source": [
    "# Begin the test.\n",
    "suite = unittest.TestLoader().loadTestsFromTestCase( RetrievalTestCase )\n",
    "unittest.TextTestRunner(verbosity=1,stream=sys.stderr).run( suite )"
   ]
  }
 ],
 "metadata": {
  "kernelspec": {
   "display_name": "Python 2",
   "language": "python",
   "name": "python2"
  },
  "language_info": {
   "codemirror_mode": {
    "name": "ipython",
    "version": 2
   },
   "file_extension": ".py",
   "mimetype": "text/x-python",
   "name": "python",
   "nbconvert_exporter": "python",
   "pygments_lexer": "ipython2",
   "version": "2.7.11"
  }
 },
 "nbformat": 4,
 "nbformat_minor": 0
}
