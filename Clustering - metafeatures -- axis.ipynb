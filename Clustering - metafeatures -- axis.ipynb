{
 "cells": [
  {
   "cell_type": "markdown",
   "metadata": {},
   "source": [
    "## Clustering each segment using metafeatures in VSM"
   ]
  },
  {
   "cell_type": "code",
   "execution_count": 1,
   "metadata": {
    "collapsed": false
   },
   "outputs": [
    {
     "name": "stdout",
     "output_type": "stream",
     "text": [
      "Populating the interactive namespace from numpy and matplotlib\n"
     ]
    }
   ],
   "source": [
    "from __future__ import division\n",
    "%matplotlib inline\n",
    "%pylab inline\n",
    "import csv\n",
    "import sys\n",
    "import os\n",
    "import traceback\n",
    "import json\n",
    "import pickle\n",
    "import numpy as np\n",
    "import pandas as pd\n",
    "import scipy.io as sio\n",
    "import seaborn as sns\n",
    "import itertools\n",
    "import scipy.fftpack as fft\n",
    "from scipy.stats import norm, skew, kurtosis\n",
    "from scipy.signal import butter, lfilter, filtfilt\n",
    "from sklearn.externals import joblib\n",
    "from sklearn.feature_extraction.text import CountVectorizer\n",
    "from sklearn.manifold import TSNE\n",
    "from matplotlib import pyplot as plt\n",
    "from collections import defaultdict, Counter, OrderedDict\n",
    "from helper_functions import getListOfFiles, getCSV, getStatistics, remap_interval\n",
    "from operator import itemgetter\n",
    "from detect_peaks import detect_peaks"
   ]
  },
  {
   "cell_type": "markdown",
   "metadata": {},
   "source": [
    "## Auxiliary functions"
   ]
  },
  {
   "cell_type": "code",
   "execution_count": 2,
   "metadata": {
    "collapsed": true
   },
   "outputs": [],
   "source": [
    "class MetafeatureVector():\n",
    "    \"\"\"Upon call to store, organize the data in \n",
    "    a dictionary. Convenient for using with csv.DictWriter.\"\"\"\n",
    "    def __init__(self):\n",
    "        self.rows = defaultdict(dict)\n",
    "\n",
    "    def store(self,d,func):\n",
    "        \"\"\"Each new value of a function is stored in a list\n",
    "        for the given attibute.\"\"\"\n",
    "        for k,v in d.items():\n",
    "            self.rows[k][func] = float(\"{:.2f}\".format(v))\n",
    "        \n",
    "    def getData(self):\n",
    "        \"\"\"Return dictionary where each key is the atribute\n",
    "        and its value a dictionary containing the metafeatures\n",
    "        calculated\"\"\"\n",
    "        return self.rows"
   ]
  },
  {
   "cell_type": "code",
   "execution_count": 3,
   "metadata": {
    "collapsed": true
   },
   "outputs": [],
   "source": [
    "def flatten_dict(dd, separator='.', prefix=''):\n",
    "    \"\"\"This function collapses a dictionary into a list, by appending\n",
    "    the keys' values to themselves. That is, parents(keys) are joined together\n",
    "    with children (values) by the separator variable.\n",
    "    dd  :   dictionary to be flattened\n",
    "    separator   :   the character used to join values to their keys.\n",
    "    prefix      :   the character used in place of the value.\n",
    "    \"\"\"\n",
    "    return {prefix + separator + k if prefix else k: v\n",
    "            for kk, vv in dd.items()\n",
    "            for k, v in flatten_dict(vv, separator, kk).items()\n",
    "            } if isinstance(dd, dict) else {prefix: dd}"
   ]
  },
  {
   "cell_type": "code",
   "execution_count": 4,
   "metadata": {
    "collapsed": true
   },
   "outputs": [],
   "source": [
    "def find_subsequence(seq, subseq):\n",
    "    target = np.dot(subseq, subseq)\n",
    "    candidates = np.where(np.correlate(seq,\n",
    "                                       subseq, mode='valid') == target)[0]\n",
    "    # some of the candidates entries may be false positives, double check\n",
    "    check = candidates[:, np.newaxis] + np.arange(len(subseq))\n",
    "    mask = np.all((np.take(seq, check) == subseq), axis=-1)\n",
    "    return candidates[mask]"
   ]
  },
  {
   "cell_type": "code",
   "execution_count": 5,
   "metadata": {
    "collapsed": true
   },
   "outputs": [],
   "source": [
    "def gridOfPlots(data, suptitle=\"Grid of plot\"):\n",
    "    \"\"\"Plots the data in a grid of plots.\n",
    "    Args:\n",
    "        data (list): the list of data to be used.\n",
    "        title (str): grid title.\n",
    "        columnToPlot: the column in the data to be plotted.\n",
    "    \"\"\"\n",
    "    \n",
    "    grid_side_size = int(round(np.sqrt(len(data))))\n",
    "    fig, axes = plt.subplots(grid_side_size, grid_side_size, figsize=(18,12))\n",
    "\n",
    "    count = 0\n",
    "    for i, row in enumerate(axes):\n",
    "        for j in range(grid_side_size):\n",
    "            if count >= len(data):\n",
    "                fig.delaxes(row[j])\n",
    "            else:\n",
    "                row[j].set_title(\"Plot {}\".format(count), fontsize=8, fontweight=\"bold\")\n",
    "                row[j].set_ylabel('g\\'s (9.8 m/s^2)')\n",
    "                row[j].plot(data[count])\n",
    "                row[j].grid()\n",
    "                count += 1\n",
    "\n",
    "    fig.suptitle(suptitle, fontsize=21)\n",
    "    fig.subplots_adjust(hspace=0.5, wspace= 0.4)\n",
    "    plt.draw()"
   ]
  },
  {
   "cell_type": "markdown",
   "metadata": {},
   "source": [
    "## Meta-features function definition"
   ]
  },
  {
   "cell_type": "code",
   "execution_count": 6,
   "metadata": {
    "collapsed": false
   },
   "outputs": [],
   "source": [
    "def mean(data):\n",
    "    \"\"\"Calculates mean of the data\"\"\"\n",
    "    return np.mean(data)\n",
    "\n",
    "def std(data):\n",
    "    \"\"\"Calculates the standard deviation\"\"\"\n",
    "    return np.std(data)\n",
    "\n",
    "def max_min(data):\n",
    "    \"\"\"Calculate the max - min.\"\"\"\n",
    "    return np.max(data) - np.min(data)\n",
    "\n",
    "def max_value(data):\n",
    "    \"\"\" Calculates Largest value in array\"\"\"\n",
    "    return np.max(data)\n",
    "    \n",
    "def min_value(data):\n",
    "    \"\"\"Calculates smallest value in array\"\"\"\n",
    "    return np.min(data)\n",
    "\n",
    "def mad(data, axis=None):\n",
    "    \"\"\" \n",
    "    Calculates the median absolute deviation: a \"Robust\" version of standard deviation.\n",
    "        Indices variabililty of the sample.\n",
    "        https://en.wikipedia.org/wiki/Median_absolute_deviation \n",
    "    \"\"\"\n",
    "    return np.median(np.absolute(data - np.median(data, axis)), axis)\n",
    "\n",
    "\n",
    "def sma(data):\n",
    "    \"\"\"Computes Signal magnitude area.\n",
    "    http://dsp.stackexchange.com/questions/18649/signal-magnitude-area\n",
    "    \"\"\"\n",
    "    accumulator = np.sum([np.abs(x) for x in data])\n",
    "    return accumulator / float(len(data))\n",
    "\n",
    "\n",
    "def energy(data):\n",
    "    \"\"\"Energy measure. Sum of the squares divided by the number of values.\"\"\"\n",
    "    return np.sum([x**2 for x in data]) / float(len(data))\n",
    "\n",
    "\n",
    "def iqr(data):\n",
    "    \"\"\"Calculates the interquartile range\n",
    "    http://stackoverflow.com/questions/23228244/how-do-you-find-the-iqr-in-numpy\n",
    "    \"\"\"\n",
    "    return np.subtract(*np.percentile(data, [75, 25]))\n",
    "\n",
    "def maxInds(data, n_bins=200):\n",
    "    \"\"\"Returns the index of the frequency component with largest magnitude\"\"\"\n",
    "    \n",
    "    mean_sig = np.ones_like(data)*np.mean(data)\n",
    "    # remove mean of the signal, for better results.\n",
    "    sig = data - mean_sig\n",
    "    freqsig = fft.fft(sig,n=n_bins) \n",
    "    half_freq_domain = freqsig[:int(n_bins/2)]\n",
    "    #get max index in the freq domain\n",
    "    return np.where(np.abs(half_freq_domain)==(max(np.abs(half_freq_domain))))[0][0]\n",
    "\n",
    "def meanFreq(data, n_bins=200):\n",
    "    \"\"\"\n",
    "    Weighted average of the frequency components to obtain a mean frequency\n",
    "    http://luscinia.sourceforge.net/page26/page35/page35.html\n",
    "    \"\"\"\n",
    "    mean_sig = np.ones_like(data)*np.mean(data)\n",
    "    # remove mean of the signal, for better results.\n",
    "    sig = data - mean_sig\n",
    "    freqsig = fft.fft(sig,n=n_bins) \n",
    "    half_freq_domain = freqsig[:int(n_bins/2)]\n",
    "    return np.sum(np.abs(half_freq_domain) * range(len(half_freq_domain))) / sum(np.abs(half_freq_domain))\n",
    "\n",
    "def skewness(data):\n",
    "    return skew(data)\n",
    "\n",
    "def kurtos(data):\n",
    "    return kurtosis(data)\n",
    "\n",
    "def freq_skewness(data, n_bins=200): \n",
    "    \"\"\"skewness of the frequency domain signal\"\"\"\n",
    "    mean_sig = np.ones_like(data)*np.mean(data)\n",
    "    # remove mean of the signal, for better results.\n",
    "    sig = data - mean_sig\n",
    "    freqsig = fft.fft(sig,n=n_bins) \n",
    "    half_freq_domain = freqsig[:int(n_bins/2)]\n",
    "    return skew(np.abs(half_freq_domain))\n",
    "\n",
    "def freq_kurtos(data, n_bins=200):\n",
    "    \"\"\"kurtosis of the frequency domain signal\"\"\"\n",
    "    mean_sig = np.ones_like(data)*np.mean(data)\n",
    "    # remove mean of the signal, for better results.\n",
    "    sig = data - mean_sig\n",
    "    freqsig = fft.fft(sig,n=n_bins) \n",
    "    half_freq_domain = freqsig[:int(n_bins/2)]\n",
    "    return kurtosis(np.abs(half_freq_domain))\n",
    "\n",
    "def num_peaks(data):\n",
    "    \"\"\"Return the number of peaks found on the data\"\"\"\n",
    "    return len(detect_peaks(data, mpd=10, show=False))\n",
    "\n",
    "def moving_rmsV1(x, window):\n",
    "    \"\"\"Moving RMS of 'x' with window size 'window'.\"\"\"\n",
    "    window = 2*window + 1\n",
    "    return np.sqrt(np.convolve(x*x, np.ones(window)/window, 'same'))\n",
    "\n",
    "def rms(data):\n",
    "    \"\"\"Return the root mean square of the sequence\"\"\"\n",
    "    return np.sum(np.square(data))/len(data)\n",
    "\n",
    "def correlation(t1,t2): \n",
    "    \"\"\"correlation coefficient between two accelerometer signals\"\"\"\n",
    "    data = {'data1':t1,'data2':t2}\n",
    "    cor = pd.DataFrame.from_dict(data).corr().to_dict()['data1']['data2']\n",
    "    return cor"
   ]
  },
  {
   "cell_type": "code",
   "execution_count": 7,
   "metadata": {
    "collapsed": false
   },
   "outputs": [],
   "source": [
    "function_dispatcher = {\n",
    "    \"mean\"     : mean,\n",
    "    \"std\"      : std,\n",
    "    \"max\"      : max_value,\n",
    "    \"min\"      : min_value,\n",
    "    \"mad\"      : mad,\n",
    "    \"sma\"      : sma,\n",
    "    \"iqr\"      : iqr,\n",
    "    \"energy\"   : energy,\n",
    "    \"maxInds\"  : maxInds,\n",
    "    \"meanFreq\" : meanFreq,\n",
    "    \"skewness\" : skewness,\n",
    "    \"kurtosis\" : kurtos,\n",
    "    \"freq_skewness\" : freq_skewness,\n",
    "    \"freq_kurtosis\" : freq_kurtos,\n",
    "    \"num_peaks\"     : num_peaks,\n",
    "    \"moving_rmsV1\"  : moving_rmsV1,\n",
    "    \"rms\"           : rms,\n",
    "    \"max_min\"       : max_min\n",
    "}"
   ]
  },
  {
   "cell_type": "code",
   "execution_count": 8,
   "metadata": {
    "collapsed": true
   },
   "outputs": [],
   "source": [
    "def get_metafeat_vector(segment, mf=[\"mean\",\"std\",\"max\",\"min\",\"mad\",\"sma\",\n",
    "                                        \"iqr\",\"energy\",\"maxInds\",\"meanFreq\",\"skewness\",\"kurtosis\"]):\n",
    "    \"\"\"\n",
    "        Compute metafeatures from segment data.\n",
    "    \n",
    "        segment : the time series segment\n",
    "        mf      : list of metafeatures functions to be computed on the segment data.\n",
    "    \"\"\"\n",
    "    \n",
    "    meta_vector = OrderedDict()\n",
    "\n",
    "    for f in mf:\n",
    "        try:\n",
    "            func = function_dispatcher[f]          # retrieve function\n",
    "            meta_vector[f] = func(segment)    # compute function on segment.\n",
    "        except KeyError:\n",
    "            raise ValueError('Invalid function: {}'.format(f))\n",
    "\n",
    "    return meta_vector\n",
    "    "
   ]
  },
  {
   "cell_type": "markdown",
   "metadata": {},
   "source": [
    "## Load CSV files"
   ]
  },
  {
   "cell_type": "code",
   "execution_count": 9,
   "metadata": {
    "collapsed": false
   },
   "outputs": [
    {
     "name": "stdout",
     "output_type": "stream",
     "text": [
      "List of ignored topics: []\n"
     ]
    }
   ],
   "source": [
    "# variable for storing the loaded feature names.\n",
    "feature_name_map = {\n",
    "  \"time\" : \"time\",\n",
    "  \"Control\": \"control\",\n",
    "  \"High_level\": \"high_level\",\n",
    "  \"Expectation\": \"expectation\",\n",
    "  \"Activity\": \"activity\",\n",
    "  \"/kinect_features/.ci\": \"ci\",\n",
    "  \"/kinect_features/.distance\": \"distance\",\n",
    "  \"/kinect_features/.proximity\": \"proximity\",\n",
    "  \"robogame/imu_state.gyro.x\": \"gyroX\",\n",
    "  \"robogame/imu_state.gyro.y\": \"gyroY\",\n",
    "  \"robogame/imu_state.gyro.z\": \"gyroZ\",\n",
    "  \"robogame/imu_state.linear_acc.x\": \"accX\",\n",
    "  \"robogame/imu_state.linear_acc.y\": \"accY\",\n",
    "  \"robogame/imu_state.linear_acc.z\": \"accZ\"\n",
    "}\n",
    "\n",
    "ignore_col_list = [k for k,v in feature_name_map.items() if v is \"\"]\n",
    "print \"List of ignored topics: {}\".format(ignore_col_list)"
   ]
  },
  {
   "cell_type": "code",
   "execution_count": 10,
   "metadata": {
    "collapsed": true
   },
   "outputs": [],
   "source": [
    "def loadFile(file_name, verbose=False):\n",
    "    ##NOTE: IF \"TOO MANY VALUES TO UNPACK\" ERROR IN THE getCSV METHOD, RESTART THE KERNEL. SOMETHING MUST BE WRONG WITH\n",
    "    # THE KERNEL INITIALIZATION. MUST BE CHECKED! (LOW-PRIORITY)\n",
    "\n",
    "    csv_data = None          # the variable where the loaded csv data is stored.\n",
    "    num_windows = 0          # the number of windows loaded.\n",
    "    windows = []             # the list of windows data. Each element is a pandas dataframe \n",
    "                             #  corresponding to the windows. The list is of size 'num_windows'.\n",
    "\n",
    "    print '-- Processing: \"{}\"'.format(file_name)\n",
    "\n",
    "    # load the data, abort in case of error.\n",
    "    try:\n",
    "        num_windows, csv_data = getCSV(os.path.join(csv_dir, file_name))\n",
    "    except ValueError as e:\n",
    "        print traceback.format_exc()\n",
    "        sys.exit(-1)\n",
    "\n",
    "    for w in range(num_windows):\n",
    "        win_data = {}\n",
    "        for k in csv_data.keys():\n",
    "            # consider the data only if it is not in the ignore list.\n",
    "            if k not in ignore_col_list:\n",
    "                if  csv_data[k][w] == []:\n",
    "                    raise ValueError(\"\\tFile has empty tagged windows. Skipping...\")\n",
    "                win_data[feature_name_map[k]] = csv_data[k][w]\n",
    "                \n",
    "        # convert dictionary to dataframe and save it to list of all windows data for the file.\n",
    "        windows.append(pd.DataFrame.from_dict(win_data))\n",
    "    \n",
    "    print '-- Retrieved {} windows in {}'.format(num_windows, file_name)\n",
    "    \n",
    "    if verbose:\n",
    "        overlap_reference = 50\n",
    "        try:\n",
    "            _, n_windows, sample_info, avg_overlap, avg_diff = getStatistics(csv_data, compareWith=overlap_reference)\n",
    "            print \"LOAD SUMMARY:\"\n",
    "            print tabulate([[n_windows,\"{:.2f}\".format(avg_overlap),\"{:.2f}\".format(avg_diff)]],\n",
    "                               headers=[\"#Win\", \"Avg. Overlap\", \"Avg. dev. from ref.\"])\n",
    "        except ValueError as e:\n",
    "            print traceback.format_exc()\n",
    "            return None\n",
    "    return windows"
   ]
  },
  {
   "cell_type": "code",
   "execution_count": 11,
   "metadata": {
    "collapsed": false
   },
   "outputs": [
    {
     "name": "stdout",
     "output_type": "stream",
     "text": [
      ">> 34 CSV Files found:\n",
      "\n"
     ]
    }
   ],
   "source": [
    "csv_dir = \"./data\"\n",
    "files = getListOfFiles(csv_dir, \".csv\")\n",
    "print \">> {} CSV Files found:\\n\".format(len(files))"
   ]
  },
  {
   "cell_type": "code",
   "execution_count": 12,
   "metadata": {
    "collapsed": false,
    "scrolled": true
   },
   "outputs": [
    {
     "name": "stdout",
     "output_type": "stream",
     "text": [
      "-- Processing: \"_2016-11-23-18-49-13_exp1_Player.csv\"\n",
      "-- Retrieved 24 windows in _2016-11-23-18-49-13_exp1_Player.csv\n",
      "-- Time interval: 37.49\n",
      "-- Processing: \"_2016-11-23-18-49-13_exp2_Player.csv\"\n",
      "-- Retrieved 28 windows in _2016-11-23-18-49-13_exp2_Player.csv\n",
      "-- Time interval: 43.5\n",
      "-- Processing: \"_2016-11-23-18-49-13_exp3_Player.csv\"\n",
      "-- Retrieved 12 windows in _2016-11-23-18-49-13_exp3_Player.csv\n",
      "-- Time interval: 19.48\n",
      "-- Processing: \"_2016-11-23-18-49-13_exp4_Player.csv\"\n",
      "-- Retrieved 23 windows in _2016-11-23-18-49-13_exp4_Player.csv\n",
      "-- Time interval: 35.99\n",
      "-- Processing: \"_2016-11-23-18-49-13_exp5_Player.csv\"\n",
      "-- Retrieved 27 windows in _2016-11-23-18-49-13_exp5_Player.csv\n",
      "-- Time interval: 42.0\n",
      "-- Processing: \"_2016-11-24-15-43-37_exp1d_Player.csv\"\n",
      "-- Retrieved 31 windows in _2016-11-24-15-43-37_exp1d_Player.csv\n",
      "-- Time interval: 47.99\n",
      "-- Processing: \"_2016-11-24-15-43-37_exp2d_Player.csv\"\n",
      "-- Retrieved 48 windows in _2016-11-24-15-43-37_exp2d_Player.csv\n",
      "-- Time interval: 73.48\n",
      "-- Processing: \"_2016-11-24-15-43-37_exp3d_Player.csv\"\n",
      "Traceback (most recent call last):\n",
      "  File \"<ipython-input-12-7c68307e34c8>\", line 12, in <module>\n",
      "    file_data = loadFile(csv_filename)\n",
      "  File \"<ipython-input-10-be9ddeed8f5a>\", line 25, in loadFile\n",
      "    raise ValueError(\"\\tFile has empty tagged windows. Skipping...\")\n",
      "ValueError: \tFile has empty tagged windows. Skipping...\n",
      "\n",
      "-- Processing: \"_2016-11-24-15-43-37_exp4d_Player.csv\"\n",
      "-- Retrieved 18 windows in _2016-11-24-15-43-37_exp4d_Player.csv\n",
      "-- Time interval: 28.5\n",
      "-- Processing: \"_2016-11-24-15-43-37_exp5d_Player.csv\"\n",
      "-- Retrieved 18 windows in _2016-11-24-15-43-37_exp5d_Player.csv\n",
      "-- Time interval: 28.48\n",
      "-- Processing: \"_2016-11-24-15-43-37_exp6d_Player.csv\"\n",
      "-- Retrieved 30 windows in _2016-11-24-15-43-37_exp6d_Player.csv\n",
      "-- Time interval: 46.5\n",
      "-- Processing: \"_2016-11-24-16-23-29_expa_Player.csv\"\n",
      "-- Retrieved 16 windows in _2016-11-24-16-23-29_expa_Player.csv\n",
      "-- Time interval: 25.49\n",
      "-- Processing: \"_2016-11-24-16-23-29_expb_Player.csv\"\n",
      "-- Retrieved 26 windows in _2016-11-24-16-23-29_expb_Player.csv\n",
      "-- Time interval: 40.49\n",
      "-- Processing: \"_2016-11-24-16-23-29_expc_Player.csv\"\n",
      "-- Retrieved 32 windows in _2016-11-24-16-23-29_expc_Player.csv\n",
      "-- Time interval: 49.48\n",
      "-- Processing: \"_2016-11-24-16-23-29_expd_Player.csv\"\n",
      "-- Retrieved 29 windows in _2016-11-24-16-23-29_expd_Player.csv\n",
      "-- Time interval: 44.99\n",
      "-- Processing: \"_2016-11-24-16-48-48_exp1d_Player.csv\"\n",
      "-- Retrieved 46 windows in _2016-11-24-16-48-48_exp1d_Player.csv\n",
      "-- Time interval: 70.5\n",
      "-- Processing: \"_2016-11-24-16-48-48_exp2d_Player.csv\"\n",
      "Traceback (most recent call last):\n",
      "  File \"<ipython-input-12-7c68307e34c8>\", line 12, in <module>\n",
      "    file_data = loadFile(csv_filename)\n",
      "  File \"<ipython-input-10-be9ddeed8f5a>\", line 25, in loadFile\n",
      "    raise ValueError(\"\\tFile has empty tagged windows. Skipping...\")\n",
      "ValueError: \tFile has empty tagged windows. Skipping...\n",
      "\n",
      "-- Processing: \"_2016-11-24-16-48-48_exp3d_Player.csv\"\n",
      "-- Retrieved 24 windows in _2016-11-24-16-48-48_exp3d_Player.csv\n",
      "-- Time interval: 37.5\n",
      "-- Processing: \"_2016-11-24-17-15-38_expa_Player.csv\"\n",
      "-- Retrieved 22 windows in _2016-11-24-17-15-38_expa_Player.csv\n",
      "-- Time interval: 34.49\n",
      "-- Processing: \"_2016-11-24-17-15-38_expb_Player.csv\"\n",
      "-- Retrieved 15 windows in _2016-11-24-17-15-38_expb_Player.csv\n",
      "-- Time interval: 23.99\n",
      "-- Processing: \"_2016-11-24-17-15-38_expc_Player.csv\"\n",
      "-- Retrieved 18 windows in _2016-11-24-17-15-38_expc_Player.csv\n",
      "-- Time interval: 28.48\n",
      "-- Processing: \"_2016-11-24-17-40-06_expb_Player.csv\"\n",
      "-- Retrieved 54 windows in _2016-11-24-17-40-06_expb_Player.csv\n",
      "-- Time interval: 82.49\n",
      "-- Processing: \"_2016-11-26-15-42-51_exp1d_Player.csv\"\n",
      "Traceback (most recent call last):\n",
      "  File \"<ipython-input-12-7c68307e34c8>\", line 12, in <module>\n",
      "    file_data = loadFile(csv_filename)\n",
      "  File \"<ipython-input-10-be9ddeed8f5a>\", line 25, in loadFile\n",
      "    raise ValueError(\"\\tFile has empty tagged windows. Skipping...\")\n",
      "ValueError: \tFile has empty tagged windows. Skipping...\n",
      "\n",
      "-- Processing: \"_2016-11-26-16-05-47_exp1d_Player.csv\"\n",
      "-- Retrieved 46 windows in _2016-11-26-16-05-47_exp1d_Player.csv\n",
      "-- Time interval: 70.48\n",
      "-- Processing: \"_2016-11-26-16-35-21_exp1d_Player.csv\"\n",
      "-- Retrieved 61 windows in _2016-11-26-16-35-21_exp1d_Player.csv\n",
      "-- Time interval: 92.99\n",
      "-- Processing: \"_2016-11-26-16-49-44_exp1d_Player.csv\"\n",
      "Traceback (most recent call last):\n",
      "  File \"<ipython-input-12-7c68307e34c8>\", line 12, in <module>\n",
      "    file_data = loadFile(csv_filename)\n",
      "  File \"<ipython-input-10-be9ddeed8f5a>\", line 25, in loadFile\n",
      "    raise ValueError(\"\\tFile has empty tagged windows. Skipping...\")\n",
      "ValueError: \tFile has empty tagged windows. Skipping...\n",
      "\n",
      "-- Processing: \"_2016-11-26-17-15-53_exp2_Player.csv\"\n",
      "-- Retrieved 32 windows in _2016-11-26-17-15-53_exp2_Player.csv\n",
      "-- Time interval: 49.49\n",
      "-- Processing: \"_2016-11-26-17-15-53_exp3_Player.csv\"\n",
      "-- Retrieved 28 windows in _2016-11-26-17-15-53_exp3_Player.csv\n",
      "-- Time interval: 43.49\n",
      "-- Processing: \"_2016-11-26-17-15-53_exp4_Player.csv\"\n",
      "-- Retrieved 32 windows in _2016-11-26-17-15-53_exp4_Player.csv\n",
      "-- Time interval: 49.5\n",
      "-- Processing: \"_2016-11-26-17-15-53_fixed_exp1d_Player.csv\"\n",
      "Traceback (most recent call last):\n",
      "  File \"<ipython-input-12-7c68307e34c8>\", line 12, in <module>\n",
      "    file_data = loadFile(csv_filename)\n",
      "  File \"<ipython-input-10-be9ddeed8f5a>\", line 25, in loadFile\n",
      "    raise ValueError(\"\\tFile has empty tagged windows. Skipping...\")\n",
      "ValueError: \tFile has empty tagged windows. Skipping...\n",
      "\n",
      "-- Processing: \"_2016-11-26-17-15-53_fixed_exp2d_Player.csv\"\n",
      "-- Retrieved 25 windows in _2016-11-26-17-15-53_fixed_exp2d_Player.csv\n",
      "-- Time interval: 38.99\n",
      "-- Processing: \"_2016-11-26-17-38-21_fixed_exp1d_Player.csv\"\n",
      "-- Retrieved 45 windows in _2016-11-26-17-38-21_fixed_exp1d_Player.csv\n",
      "-- Time interval: 68.99\n",
      "-- Processing: \"_2016-11-26-18-36-15_expa_Player.csv\"\n",
      "-- Retrieved 19 windows in _2016-11-26-18-36-15_expa_Player.csv\n",
      "-- Time interval: 29.98\n",
      "-- Processing: \"_2016-11-26-18-36-15_expb_Player.csv\"\n",
      "-- Retrieved 72 windows in _2016-11-26-18-36-15_expb_Player.csv\n",
      "-- Time interval: 109.49\n",
      "DONE!\n"
     ]
    }
   ],
   "source": [
    "##NOTE: IF \"TOO MANY VALUES TO UNPACK\" ERROR IN THE getCSV METHOD, RESTART THE KERNEL. SOMETHING MUST BE WRONG WITH\n",
    "# THE KERNEL INITIALIZATION. MUST BE CHECKED! (LOW-PRIORITY)\n",
    "failed_files = []\n",
    "time_intervals = {}     ## where we keep the time information.\n",
    "for f in files:\n",
    "    csv_filename = f\n",
    "    file_data = []             # the list of windows data. Each element is a pandas dataframe \n",
    "                             #  corresponding to the windows. The list is of size 'num_windows'.\n",
    "\n",
    "    # load the data, abort in case of error.\n",
    "    try:\n",
    "        file_data = loadFile(csv_filename)\n",
    "    except ValueError as e:\n",
    "        print traceback.format_exc()\n",
    "        failed_files.append(csv_filename)\n",
    "        continue\n",
    "\n",
    "    for i, w in enumerate(file_data):\n",
    "        values = list(set(w['time']) - set(file_data[i-1]['time']))\n",
    "        time_interval = w['time'].iloc[-1]\n",
    "    time_intervals[f] = time_interval\n",
    "    print '-- Time interval: {}'.format(time_interval)\n",
    "\n",
    "print 'DONE!'"
   ]
  },
  {
   "cell_type": "markdown",
   "metadata": {},
   "source": [
    "### Load symbolized segments"
   ]
  },
  {
   "cell_type": "code",
   "execution_count": 14,
   "metadata": {
    "collapsed": true
   },
   "outputs": [],
   "source": [
    "mat_dir = './z'"
   ]
  },
  {
   "cell_type": "code",
   "execution_count": 15,
   "metadata": {
    "collapsed": false
   },
   "outputs": [
    {
     "name": "stdout",
     "output_type": "stream",
     "text": [
      ">> 29 mat Files found!\n"
     ]
    }
   ],
   "source": [
    "sym_dir = os.path.join(mat_dir, 'symbolization')\n",
    "files = getListOfFiles(sym_dir, \".mat\")\n",
    "print \">> {} mat Files found!\".format(len(files))"
   ]
  },
  {
   "cell_type": "code",
   "execution_count": 16,
   "metadata": {
    "collapsed": false
   },
   "outputs": [
    {
     "name": "stdout",
     "output_type": "stream",
     "text": [
      "N. of segments 623\n",
      "Min. sample size of 50\n"
     ]
    }
   ],
   "source": [
    "sym_segments = []\n",
    "sym_file_map = []\n",
    "count = 0\n",
    "min_length = float('inf')\n",
    "for f in files:\n",
    "    mat_content = sio.loadmat(os.path.join(sym_dir, f))\n",
    "    #print mat_content\n",
    "    data = mat_content['sym']\n",
    "    #print data.tolist()[0]\n",
    "    for d in data.tolist()[0]:\n",
    "        if d[0].size == 0:\n",
    "            pass\n",
    "        else:\n",
    "            count += 1\n",
    "            sample = [str(i[0]) for i in d.tolist()]\n",
    "            if len(sample) < min_length:\n",
    "                min_length = len(sample)\n",
    "            sample = ' '.join(map(str, sample)) # separate caracters by space\n",
    "            sym_segments.append(sample)\n",
    "            sym_file_map.append('.'.join(f.split('.')[0:2]))\n",
    "            \n",
    "\n",
    "assert (len(sym_segments) == count)\n",
    "print 'N. of segments {}'.format(count)\n",
    "print 'Min. sample size of {}'.format(min_length)"
   ]
  },
  {
   "cell_type": "markdown",
   "metadata": {},
   "source": [
    "## Load original recomposed signal"
   ]
  },
  {
   "cell_type": "code",
   "execution_count": 17,
   "metadata": {
    "collapsed": false
   },
   "outputs": [
    {
     "name": "stdout",
     "output_type": "stream",
     "text": [
      ">> 29 mat Files found!\n",
      ">> N. recovered signals 29\n"
     ]
    }
   ],
   "source": [
    "original_files = getListOfFiles(mat_dir, \".mat\")\n",
    "print \">> {} mat Files found!\".format(len(files))\n",
    "originalX = {}\n",
    "originalY = {}\n",
    "originalZ = {}\n",
    "file_frequences = {}\n",
    "for f in original_files:\n",
    "    mat_content = sio.loadmat(os.path.join(mat_dir, f))\n",
    "    originalX[f] = mat_content['x_axis'].tolist()[0]\n",
    "    originalY[f] = mat_content['y_axis'].tolist()[0]\n",
    "    originalZ[f] = mat_content['z_axis'].tolist()[0]\n",
    "    N_samps = len(originalX[f])\n",
    "    Fs = N_samps/time_intervals['.'.join(f.split('.')[0:2])]\n",
    "    file_frequences[f] = Fs\n",
    "original = originalZ \n",
    "print '>> N. recovered signals {}'.format(len(originalX))"
   ]
  },
  {
   "cell_type": "markdown",
   "metadata": {},
   "source": [
    "## Load signal segments files"
   ]
  },
  {
   "cell_type": "code",
   "execution_count": 18,
   "metadata": {
    "collapsed": false
   },
   "outputs": [
    {
     "name": "stdout",
     "output_type": "stream",
     "text": [
      ">> 29 mat Files found!\n"
     ]
    }
   ],
   "source": [
    "seg_dir = os.path.join(mat_dir, 'segments')\n",
    "signal_files = getListOfFiles(seg_dir, \".mat\")\n",
    "print \">> {} mat Files found!\".format(len(files))\n",
    "original_files = []\n",
    "for f in files:\n",
    "    original_files.append('.'.join(f.split('.')[0:2]))"
   ]
  },
  {
   "cell_type": "markdown",
   "metadata": {},
   "source": [
    "## Realign segments"
   ]
  },
  {
   "cell_type": "code",
   "execution_count": 19,
   "metadata": {
    "collapsed": false
   },
   "outputs": [
    {
     "name": "stderr",
     "output_type": "stream",
     "text": [
      "/usr/local/lib/python2.7/site-packages/ipykernel/__main__.py:34: VisibleDeprecationWarning: using a non-integer number instead of an integer will result in an error in the future\n",
      "/usr/local/lib/python2.7/site-packages/ipykernel/__main__.py:77: VisibleDeprecationWarning: using a non-integer number instead of an integer will result in an error in the future\n",
      "/usr/local/lib/python2.7/site-packages/ipykernel/__main__.py:79: VisibleDeprecationWarning: using a non-integer number instead of an integer will result in an error in the future\n"
     ]
    },
    {
     "name": "stdout",
     "output_type": "stream",
     "text": [
      "Aligments performed 29/29\n",
      "Number of segments: 623\n",
      "Min. sample size of 50\n"
     ]
    }
   ],
   "source": [
    "z_sig_segments = []\n",
    "x_sig_segments = []\n",
    "y_sig_segments = []\n",
    "sig_file_map = []\n",
    "succ_alignments = []\n",
    "x_segment_fft = []\n",
    "y_segment_fft = []\n",
    "z_segment_fft = []\n",
    "sig_time_intervals = []\n",
    "sig_frequences = []\n",
    "\n",
    "min_length = float('inf')\n",
    "N_fft = 50\n",
    "alignment_counter = 0\n",
    "x_restored_list = []\n",
    "y_restored_list = []\n",
    "z_restored_list = []\n",
    "for f in files:\n",
    "    mat_content = sio.loadmat(os.path.join(seg_dir, f))\n",
    "    data = mat_content['seg']\n",
    "    data = data.tolist()[0]\n",
    "    file_segments = []\n",
    "    x_file_segments = []\n",
    "    y_file_segments = []\n",
    "    for d in data:\n",
    "        if d[0].size == 0:\n",
    "            pass\n",
    "        else:\n",
    "            sample = [i[0] for i in d.tolist()]\n",
    "            file_segments.append(sample)\n",
    "            sig_time_intervals.append(time_intervals['.'.join(f.split('.')[0:2])])\n",
    "            sig_frequences.append(time_intervals['.'.join(f.split('.')[0:2])])\n",
    "            sample_fft = fft.fft(sample, n=N_fft)\n",
    "            z_segment_fft.append(np.abs(sample_fft[:len(sample_fft)/2]))\n",
    "            if len(sample) < min_length:\n",
    "                min_length = len(sample)\n",
    "    \n",
    "    ### aligning ###\n",
    "    alignment = []\n",
    "    x_alignment = []\n",
    "    y_alignment = []\n",
    "    for i,s in enumerate(file_segments):\n",
    "        ref_alig = find_subsequence(original[f],s)[0]   # aligment for the sequence used as reference (x, y or z)\n",
    "        alignment.append((i,ref_alig))\n",
    "        x_alignment.append((i,ref_alig))\n",
    "        y_alignment.append((i,ref_alig))\n",
    "    \n",
    "    seq_align_indexes = [x[1] for x in alignment]\n",
    "    x_seq_align_indexes = [x[1] for x in x_alignment]\n",
    "    y_seq_align_indexes = [y[1] for y in y_alignment]\n",
    "    \n",
    "    alignment.sort(key=lambda tup: tup[1])\n",
    "    x_alignment.sort(key=lambda tup: tup[1])\n",
    "    y_alignment.sort(key=lambda tup: tup[1])\n",
    "   \n",
    "    ### testing the alignment ###\n",
    "    restored = [] \n",
    "    for l,i in alignment:\n",
    "        restored += file_segments[l]\n",
    "    try:\n",
    "        assert original[f] == restored\n",
    "        z_restored_list.append(restored)\n",
    "        alignment_counter +=1\n",
    "    except AssertionError:\n",
    "        print '%%%%% File {} FAILED to assert equality for aligned sequence %%%%%'.format(f)\n",
    "        break\n",
    "    \n",
    "    ### saving ###\n",
    "    for s in range(len(file_segments)):\n",
    "        z_sig_segments.append(file_segments[s])\n",
    "        sig_file_map.append('.'.join(f.split('.')[0:2]))\n",
    "        succ_alignments.append(seq_align_indexes[s])\n",
    "        size_of_segment = len(file_segments[s])\n",
    "        x_seg = originalX[f][seq_align_indexes[s]:seq_align_indexes[s]+size_of_segment]\n",
    "        y_seg = originalY[f][seq_align_indexes[s]:seq_align_indexes[s]+size_of_segment]\n",
    "        sample_fft = fft.fft(x_seg, n=N_fft)\n",
    "        x_segment_fft.append(np.abs(sample_fft[:len(sample_fft)/2]))\n",
    "        sample_fft = fft.fft(y_seg, n=N_fft)\n",
    "        y_segment_fft.append(np.abs(sample_fft[:len(sample_fft)/2]))\n",
    "        x_file_segments.append(x_seg)\n",
    "        y_file_segments.append(y_seg)\n",
    "    \n",
    "    x_restored = [] \n",
    "    for l,i in x_alignment:\n",
    "        x_restored += x_file_segments[l]\n",
    "    assert originalX[f] == x_restored\n",
    "    x_restored_list.append(x_restored)\n",
    "    \n",
    "    y_restored = [] \n",
    "    for l,i in y_alignment:\n",
    "        y_restored += y_file_segments[l]\n",
    "    assert originalY[f] == y_restored\n",
    "    y_restored_list.append(y_restored)\n",
    "    \n",
    "    for s in range(len(x_file_segments)):\n",
    "        x_sig_segments.append(x_file_segments[s])\n",
    "        y_sig_segments.append(y_file_segments[s])\n",
    "    \n",
    "    assert len(z_sig_segments) == len(sig_file_map) == len(succ_alignments)\n",
    "\n",
    "print 'Aligments performed {}/{}'.format(alignment_counter,len(files))\n",
    "print 'Number of segments: {}'.format(len(z_sig_segments))\n",
    "print 'Min. sample size of {}'.format(min_length)"
   ]
  },
  {
   "cell_type": "code",
   "execution_count": 20,
   "metadata": {
    "collapsed": false
   },
   "outputs": [
    {
     "data": {
      "text/plain": [
       "True"
      ]
     },
     "execution_count": 20,
     "metadata": {},
     "output_type": "execute_result"
    },
    {
     "data": {
      "image/png": "[encoded data removed]",
      "text/plain": [
       "<matplotlib.figure.Figure at 0x114f19bd0>"
      ]
     },
     "metadata": {},
     "output_type": "display_data"
    }
   ],
   "source": [
    "#plt.plot(x_restored_list[0])\n",
    "#plt.plot(y_restored_list[0])\n",
    "#plt.plot(z_restored_list[0])\n",
    "#plt.plot(originalX[files[0]])\n",
    "#plt.plot(originalY[files[0]])\n",
    "m = np.mean(originalZ[files[0]])\n",
    "plt.plot(originalZ[files[0]], label='original')\n",
    "plt.plot(np.array(originalZ[files[0]])-m, label='AC component')\n",
    "\n",
    "plt.legend()\n",
    "z_restored_list[0] == originalZ[files[0]]"
   ]
  },
  {
   "cell_type": "markdown",
   "metadata": {},
   "source": [
    "## Preprocessing"
   ]
  },
  {
   "cell_type": "code",
   "execution_count": 21,
   "metadata": {
    "collapsed": false
   },
   "outputs": [],
   "source": [
    "x_sig_segments_AC = []\n",
    "y_sig_segments_AC = []\n",
    "z_sig_segments_AC = []\n",
    "#mag_segments_AC = []\n",
    "\n",
    "x_sig_segments_AC_BWFILTER = []\n",
    "y_sig_segments_AC_BWFILTER = []\n",
    "z_sig_segments_AC_BWFILTER = []\n",
    "mag_segments_AC_BWFILTER = []\n",
    "\n",
    "\n",
    "### COMPUTE AC COMPONENT FOR X, Y, Z AS WELL AS MAG VECTOR OF THE SEGMENT.\n",
    "for i in range(len(z_sig_segments)): ## the number of segments are the same for all axes.\n",
    "\n",
    "    # Butterworth filter properties\n",
    "    # Correct the cutoff frequency for the number of passes in the filter\n",
    "    C = 0.802\n",
    "    freq = sig_frequences[i]   # file segment frequency\n",
    "    b, a = butter(3, (5/C)/(freq/2), btype = 'low') # order 3\n",
    "    \n",
    "    ## for x axis\n",
    "    m = np.mean(x_sig_segments[i])\n",
    "    acx = np.array(x_sig_segments[i]) - m\n",
    "    x_sig_segments_AC.append(acx)\n",
    "    # applying butterworth filter for x axis\n",
    "    x_sig_segments_AC_BWFILTER.append(filtfilt(b, a, acx))  # filter with phase shift correction\n",
    "    \n",
    "    ## for y axis\n",
    "    m = np.mean(y_sig_segments[i])\n",
    "    acy = np.array(y_sig_segments[i]) - m\n",
    "    y_sig_segments_AC.append(acy)\n",
    "    # applying butterworth filter for y axis\n",
    "    y_sig_segments_AC_BWFILTER.append(filtfilt(b, a, acy))  # filter with phase shift correction\n",
    "    \n",
    "    ## for z axis\n",
    "    m = np.mean(z_sig_segments[i])\n",
    "    acz = np.array(z_sig_segments[i]) - m\n",
    "    z_sig_segments_AC.append(acz)\n",
    "    # applying butterworth filter for z axis\n",
    "    z_sig_segments_AC_BWFILTER.append(filtfilt(b, a, acz))  # filter with phase shift correction\n",
    "    \n",
    "    assert len(acx) == len(acy) == len(acz)\n",
    "    seg_mag = []\n",
    "    for e in range(len(acx)):\n",
    "        seg_mag.append(np.sqrt(acx[e]**2 + acy[e]**2 + acz[e]**2))\n",
    "    mag_segments_AC_BWFILTER.append(seg_mag)\n",
    "    \n",
    "    \n",
    "    "
   ]
  },
  {
   "cell_type": "code",
   "execution_count": 22,
   "metadata": {
    "collapsed": false
   },
   "outputs": [
    {
     "data": {
      "image/png": "[encoded data removed]",
      "text/plain": [
       "<matplotlib.figure.Figure at 0x1156d8b10>"
      ]
     },
     "metadata": {},
     "output_type": "display_data"
    }
   ],
   "source": [
    "plt.plot(z_sig_segments[0], label = 'z')\n",
    "plt.plot(z_sig_segments_AC[0], label = 'z-AC')\n",
    "plt.legend()\n",
    "plt.show()"
   ]
  },
  {
   "cell_type": "code",
   "execution_count": 24,
   "metadata": {
    "collapsed": false
   },
   "outputs": [
    {
     "data": {
      "image/png": "[encoded data removed]",
      "text/plain": [
       "<matplotlib.figure.Figure at 0x114af5a10>"
      ]
     },
     "metadata": {},
     "output_type": "display_data"
    }
   ],
   "source": [
    "# plot\n",
    "fig, ax1 = plt.subplots(1, 1, figsize=(9, 4))\n",
    "ax1.plot(z_sig_segments_AC[600], 'r.-', linewidth=2, label = 'raw data')\n",
    "ax1.plot(z_sig_segments_AC_BWFILTER[600], 'g.-', linewidth=2, label = 'filtfilt @ 5 Hz')\n",
    "ax1.legend(frameon=False, fontsize=14)\n",
    "ax1.set_xlabel(\"Time [s]\")\n",
    "ax1.set_ylabel(\"Amplitude\")\n",
    "plt.show()"
   ]
  },
  {
   "cell_type": "code",
   "execution_count": 25,
   "metadata": {
    "collapsed": false
   },
   "outputs": [
    {
     "data": {
      "text/plain": [
       "-0.66628035282414166"
      ]
     },
     "execution_count": 25,
     "metadata": {},
     "output_type": "execute_result"
    }
   ],
   "source": [
    "correlation(z_sig_segments_AC_BWFILTER[6],x_sig_segments_AC_BWFILTER[6])"
   ]
  },
  {
   "cell_type": "markdown",
   "metadata": {},
   "source": [
    "## Testing butterworth"
   ]
  },
  {
   "cell_type": "code",
   "execution_count": 26,
   "metadata": {
    "collapsed": false
   },
   "outputs": [
    {
     "data": {
      "image/png": "[encoded data removed]",
      "text/plain": [
       "<matplotlib.figure.Figure at 0x114d06e50>"
      ]
     },
     "metadata": {},
     "output_type": "display_data"
    }
   ],
   "source": [
    "\n",
    "seg_number = 400\n",
    "window = 10\n",
    "freq = sig_frequences[seg_number]\n",
    "y = z_sig_segments_AC[seg_number]\n",
    "\n",
    "# Butterworth filter\n",
    "b, a = butter(3, 5/(freq/2), btype = 'low')\n",
    "y2 = lfilter(b, a, y)  # standard filter\n",
    "# Correct the cutoff frequency for the number of passes in the filter\n",
    "C = 0.802\n",
    "b, a = butter(3, (5/C)/(freq/2), btype = 'low')\n",
    "y3 = filtfilt(b, a, y)  # filter with phase shift correction\n",
    "\n",
    "y1 = moving_rmsV1(y3, window)\n",
    "\n",
    "# plot\n",
    "fig, ax1 = plt.subplots(1, 1, figsize=(9, 4))\n",
    "ax1.plot(y, 'r.-', linewidth=2, label = 'raw data')\n",
    "ax1.plot(y1, 'm-',  linewidth=2, label = 'moving RMS V1')\n",
    "ax1.plot(y2, 'b--', linewidth=2, label = 'filter  @ 5 Hz')\n",
    "ax1.plot(y3, 'g.-', linewidth=2, label = 'filtfilt @ 5 Hz')\n",
    "ax1.legend(frameon=False, fontsize=12)\n",
    "ax1.set_xlabel(\"Time [s]\")\n",
    "ax1.set_ylabel(\"Amplitude\")\n",
    "plt.show()"
   ]
  },
  {
   "cell_type": "markdown",
   "metadata": {},
   "source": [
    "## Find peaks"
   ]
  },
  {
   "cell_type": "code",
   "execution_count": 25,
   "metadata": {
    "collapsed": false
   },
   "outputs": [
    {
     "name": "stdout",
     "output_type": "stream",
     "text": [
      "avg: 0.00080214933903\n"
     ]
    },
    {
     "data": {
      "image/png": "[encoded data removed]",
      "text/plain": [
       "<matplotlib.figure.Figure at 0x10c778250>"
      ]
     },
     "metadata": {},
     "output_type": "display_data"
    },
    {
     "name": "stdout",
     "output_type": "stream",
     "text": [
      "avg ind: 0.156002547013\n"
     ]
    },
    {
     "data": {
      "text/plain": [
       "[<matplotlib.lines.Line2D at 0x10cae4bd0>]"
      ]
     },
     "execution_count": 25,
     "metadata": {},
     "output_type": "execute_result"
    },
    {
     "data": {
      "image/png": "[encoded data removed]",
      "text/plain": [
       "<matplotlib.figure.Figure at 0x10bfabf10>"
      ]
     },
     "metadata": {},
     "output_type": "display_data"
    }
   ],
   "source": [
    "seg_number = 50\n",
    "m = np.mean(z_sig_segments_AC_BWFILTER[seg_number])\n",
    "print 'avg: {}'.format(m)\n",
    "ind = detect_peaks(z_sig_segments_AC_BWFILTER[seg_number], mpd=10, show=True)\n",
    "print 'avg ind: {}'.format(np.mean([z_sig_segments_AC_BWFILTER[seg_number][i] for i in ind]))\n",
    "plt.plot(z_sig_segments_AC[seg_number])"
   ]
  },
  {
   "cell_type": "code",
   "execution_count": 26,
   "metadata": {
    "collapsed": false
   },
   "outputs": [],
   "source": [
    "#gridOfPlots(sig_segments[:50])\n",
    "#gridOfFFT(sig_segments[:50], 50)"
   ]
  },
  {
   "cell_type": "markdown",
   "metadata": {},
   "source": [
    "## Vectorize segments using metafeatures"
   ]
  },
  {
   "cell_type": "code",
   "execution_count": 27,
   "metadata": {
    "collapsed": false
   },
   "outputs": [
    {
     "name": "stdout",
     "output_type": "stream",
     "text": [
      "(623, 7)\n"
     ]
    }
   ],
   "source": [
    "## metafeatures list to be computed\n",
    "#to_compute = [\"mean\",\"std\",\"max\",\"min\",\"mad\",\"sma\",\"iqr\",\"rms\",\"num_peaks\",\"maxInds\",\"skewness\",\"kurtosis\",\"freq_skewness\",\"freq_kurtosis\"]\n",
    "#to_compute = [\"mean\",\"std\",\"mad\",\"sma\",\"iqr\",\"max_min\",\"skewness\",\"kurtosis\"]\n",
    "to_compute = [\"num_peaks\", \"rms\"]#, \"max_min\"]\n",
    "x_meta_vectors = []\n",
    "y_meta_vectors = []\n",
    "z_meta_vectors = []\n",
    "\n",
    "#### CALCULATE A CORRELATION ###\n",
    "correlationxy =[]\n",
    "correlationxz =[]\n",
    "correlationyz =[]\n",
    "\n",
    "lengths = []\n",
    "\n",
    "for s in range(len(z_sig_segments_AC_BWFILTER)):\n",
    "    correlationxy.append(correlation(x_sig_segments_AC_BWFILTER[s], y_sig_segments_AC_BWFILTER[s]))\n",
    "    correlationxz.append(correlation(x_sig_segments_AC_BWFILTER[s], z_sig_segments_AC_BWFILTER[s]))\n",
    "    correlationyz.append(correlation(y_sig_segments_AC_BWFILTER[s], z_sig_segments_AC_BWFILTER[s]))\n",
    "    lengths.append(len(z_sig_segments_AC_BWFILTER[s]))\n",
    "    \n",
    "for s in x_sig_segments:\n",
    "    x_meta_vectors.append(get_metafeat_vector(s, mf=to_compute).values())\n",
    "for s in y_sig_segments:\n",
    "    y_meta_vectors.append(get_metafeat_vector(s, mf=to_compute).values())\n",
    "for s in z_sig_segments_AC_BWFILTER:\n",
    "    z_meta_vectors.append(get_metafeat_vector(s, mf=to_compute).values())\n",
    "#X = np.matrix(meta_vectors)\n",
    "#X = np.matrix([i + [j] for i,j in zip(segment_fft,[max_value(x)-min_value(x) for x in sig_segments])])\n",
    "#max_min = np.array([max_value(x)-min_value(x) for x in sig_segments])\n",
    "#A = np.column_stack((np.array(segment_fft), max_min))\n",
    "#A = np.column_stack((np.array(A), meta_vectors))\n",
    "#A = np.column_stack((np.array(segment_fft), meta_vectors))\n",
    "#X = np.column_stack((np.array(x_meta_vectors), np.array(y_meta_vectors),np.array(z_meta_vectors)))\n",
    "#X = np.column_stack((np.array(x_segment_fft), np.array(y_segment_fft),np.array(z_segment_fft)))\n",
    "#print np.array(mag_segments_AC_BWFILTER).shape\n",
    "#X = np.column_stack((np.array(x_meta_vectors), np.array(y_meta_vectors),np.array(z_meta_vectors), lengths, correlationxy, correlationxz, correlationyz))\n",
    "X = np.column_stack((x_meta_vectors, y_meta_vectors, z_meta_vectors,lengths))\n",
    "#X = np.matrix(A)\n",
    "#X = np.matrix(y_meta_vectors)\n",
    "print X.shape"
   ]
  },
  {
   "cell_type": "markdown",
   "metadata": {},
   "source": [
    "#### Standard score normalization or Z-normalization:"
   ]
  },
  {
   "cell_type": "code",
   "execution_count": 28,
   "metadata": {
    "collapsed": false
   },
   "outputs": [],
   "source": [
    "X_normed = (X - X.mean(axis=0)) / X.std(axis=0)\n",
    "#print X_normed\n",
    "X = X_normed"
   ]
  },
  {
   "cell_type": "markdown",
   "metadata": {},
   "source": [
    "## Perform the Hierarchical Clustering"
   ]
  },
  {
   "cell_type": "code",
   "execution_count": 29,
   "metadata": {
    "collapsed": false
   },
   "outputs": [
    {
     "name": "stdout",
     "output_type": "stream",
     "text": [
      "Linkage ward has a Cophenetic Correlation Coefficient of 0.628497214342\n",
      "Linkage single has a Cophenetic Correlation Coefficient of 0.764876154819\n",
      "Linkage complete has a Cophenetic Correlation Coefficient of 0.696402463346\n",
      "Linkage average has a Cophenetic Correlation Coefficient of 0.815621907623\n"
     ]
    }
   ],
   "source": [
    "from scipy.cluster.hierarchy import dendrogram, linkage\n",
    "from scipy.cluster.hierarchy import cophenet\n",
    "from scipy.spatial.distance import pdist\n",
    "\n",
    "Z = None\n",
    "# Check the Cophenetic Correlation Coefficient of the clustering \n",
    "# with help of the cophenet() function. This (very very briefly)\n",
    "# compares (correlates) the actual pairwise distances of all samples \n",
    "# to those implied by the hierarchical clustering. The closer the value\n",
    "# is to 1, the better the clustering preserves the original distances.\n",
    "for t in ['ward','single', 'complete', 'average']:\n",
    "    # generate the linkage matrix\n",
    "    Z = linkage(X, t)\n",
    "    c, coph_dists = cophenet(Z, pdist(X))#, 'cosine'))\n",
    "    print 'Linkage {} has a Cophenetic Correlation Coefficient of {}'.format(t,c)\n",
    "Z = linkage(X,'average')"
   ]
  },
  {
   "cell_type": "code",
   "execution_count": 30,
   "metadata": {
    "collapsed": true
   },
   "outputs": [],
   "source": [
    "def fancy_dendrogram(*args, **kwargs):\n",
    "    max_d = kwargs.pop('max_d', None)\n",
    "    if max_d and 'color_threshold' not in kwargs:\n",
    "        kwargs['color_threshold'] = max_d\n",
    "    annotate_above = kwargs.pop('annotate_above', 0)\n",
    "\n",
    "    ddata = dendrogram(*args, **kwargs)\n",
    "\n",
    "    if not kwargs.get('no_plot', False):\n",
    "        plt.title('Hierarchical Clustering Dendrogram (truncated')\n",
    "        plt.xlabel('sample index or (cluster size)')\n",
    "        plt.ylabel('distance')\n",
    "        for i, d, c in zip(ddata['icoord'], ddata['dcoord'], ddata['color_list']):\n",
    "            x = 0.5 * sum(i[1:3])\n",
    "            y = d[1]\n",
    "            if y > annotate_above:\n",
    "                plt.plot(x, y, 'o', c=c)\n",
    "                plt.annotate(\"%.3g\" % y, (x, y), xytext=(0, -5),\n",
    "                             textcoords='offset points',\n",
    "                             va='top', ha='center')\n",
    "        if max_d:\n",
    "            plt.axhline(y=max_d, c='k')\n",
    "    return ddata"
   ]
  },
  {
   "cell_type": "code",
   "execution_count": 31,
   "metadata": {
    "collapsed": false,
    "scrolled": true
   },
   "outputs": [
    {
     "data": {
      "image/png": "[encoded data removed]",
      "text/plain": [
       "<matplotlib.figure.Figure at 0x10caa8290>"
      ]
     },
     "metadata": {},
     "output_type": "display_data"
    }
   ],
   "source": [
    "fancy_dendrogram(\n",
    "    Z,\n",
    "    truncate_mode='lastp',\n",
    "    p=12,\n",
    "    leaf_rotation=90.,\n",
    "    leaf_font_size=12.,\n",
    "    show_contracted=True,\n",
    "    annotate_above=10,  # useful in small plots so annotations don't overlap\n",
    ")\n",
    "plt.show()"
   ]
  },
  {
   "cell_type": "markdown",
   "metadata": {},
   "source": [
    "## Get clusters by distance"
   ]
  },
  {
   "cell_type": "code",
   "execution_count": 32,
   "metadata": {
    "collapsed": false
   },
   "outputs": [
    {
     "name": "stdout",
     "output_type": "stream",
     "text": [
      "Counter({4: 479, 3: 93, 5: 39, 2: 7, 1: 4, 6: 1})\n"
     ]
    }
   ],
   "source": [
    "from scipy.cluster.hierarchy import fcluster\n",
    "max_d = 4\n",
    "clusters = fcluster(Z, max_d, criterion='distance')\n",
    "print Counter(clusters)"
   ]
  },
  {
   "cell_type": "code",
   "execution_count": 34,
   "metadata": {
    "collapsed": false
   },
   "outputs": [
    {
     "data": {
      "application/javascript": [
       "/* Put everything inside the global mpl namespace */\n",
       "window.mpl = {};\n",
       "\n",
       "mpl.get_websocket_type = function() {\n",
       "    if (typeof(WebSocket) !== 'undefined') {\n",
       "        return WebSocket;\n",
       "    } else if (typeof(MozWebSocket) !== 'undefined') {\n",
       "        return MozWebSocket;\n",
       "    } else {\n",
       "        alert('Your browser does not have WebSocket support.' +\n",
       "              'Please try Chrome, Safari or Firefox ≥ 6. ' +\n",
       "              'Firefox 4 and 5 are also supported but you ' +\n",
       "              'have to enable WebSockets in about:config.');\n",
       "    };\n",
       "}\n",
       "\n",
       "mpl.figure = function(figure_id, websocket, ondownload, parent_element) {\n",
       "    this.id = figure_id;\n",
       "\n",
       "    this.ws = websocket;\n",
       "\n",
       "    this.supports_binary = (this.ws.binaryType != undefined);\n",
       "\n",
       "    if (!this.supports_binary) {\n",
       "        var warnings = document.getElementById(\"mpl-warnings\");\n",
       "        if (warnings) {\n",
       "            warnings.style.display = 'block';\n",
       "            warnings.textContent = (\n",
       "                \"This browser does not support binary websocket messages. \" +\n",
       "                    \"Performance may be slow.\");\n",
       "        }\n",
       "    }\n",
       "\n",
       "    this.imageObj = new Image();\n",
       "\n",
       "    this.context = undefined;\n",
       "    this.message = undefined;\n",
       "    this.canvas = undefined;\n",
       "    this.rubberband_canvas = undefined;\n",
       "    this.rubberband_context = undefined;\n",
       "    this.format_dropdown = undefined;\n",
       "\n",
       "    this.image_mode = 'full';\n",
       "\n",
       "    this.root = $('<div/>');\n",
       "    this._root_extra_style(this.root)\n",
       "    this.root.attr('style', 'display: inline-block');\n",
       "\n",
       "    $(parent_element).append(this.root);\n",
       "\n",
       "    this._init_header(this);\n",
       "    this._init_canvas(this);\n",
       "    this._init_toolbar(this);\n",
       "\n",
       "    var fig = this;\n",
       "\n",
       "    this.waiting = false;\n",
       "\n",
       "    this.ws.onopen =  function () {\n",
       "            fig.send_message(\"supports_binary\", {value: fig.supports_binary});\n",
       "            fig.send_message(\"send_image_mode\", {});\n",
       "            fig.send_message(\"refresh\", {});\n",
       "        }\n",
       "\n",
       "    this.imageObj.onload = function() {\n",
       "            if (fig.image_mode == 'full') {\n",
       "                // Full images could contain transparency (where diff images\n",
       "                // almost always do), so we need to clear the canvas so that\n",
       "                // there is no ghosting.\n",
       "                fig.context.clearRect(0, 0, fig.canvas.width, fig.canvas.height);\n",
       "            }\n",
       "            fig.context.drawImage(fig.imageObj, 0, 0);\n",
       "        };\n",
       "\n",
       "    this.imageObj.onunload = function() {\n",
       "        this.ws.close();\n",
       "    }\n",
       "\n",
       "    this.ws.onmessage = this._make_on_message_function(this);\n",
       "\n",
       "    this.ondownload = ondownload;\n",
       "}\n",
       "\n",
       "mpl.figure.prototype._init_header = function() {\n",
       "    var titlebar = $(\n",
       "        '<div class=\"ui-dialog-titlebar ui-widget-header ui-corner-all ' +\n",
       "        'ui-helper-clearfix\"/>');\n",
       "    var titletext = $(\n",
       "        '<div class=\"ui-dialog-title\" style=\"width: 100%; ' +\n",
       "        'text-align: center; padding: 3px;\"/>');\n",
       "    titlebar.append(titletext)\n",
       "    this.root.append(titlebar);\n",
       "    this.header = titletext[0];\n",
       "}\n",
       "\n",
       "\n",
       "\n",
       "mpl.figure.prototype._canvas_extra_style = function(canvas_div) {\n",
       "\n",
       "}\n",
       "\n",
       "\n",
       "mpl.figure.prototype._root_extra_style = function(canvas_div) {\n",
       "\n",
       "}\n",
       "\n",
       "mpl.figure.prototype._init_canvas = function() {\n",
       "    var fig = this;\n",
       "\n",
       "    var canvas_div = $('<div/>');\n",
       "\n",
       "    canvas_div.attr('style', 'position: relative; clear: both; outline: 0');\n",
       "\n",
       "    function canvas_keyboard_event(event) {\n",
       "        return fig.key_event(event, event['data']);\n",
       "    }\n",
       "\n",
       "    canvas_div.keydown('key_press', canvas_keyboard_event);\n",
       "    canvas_div.keyup('key_release', canvas_keyboard_event);\n",
       "    this.canvas_div = canvas_div\n",
       "    this._canvas_extra_style(canvas_div)\n",
       "    this.root.append(canvas_div);\n",
       "\n",
       "    var canvas = $('<canvas/>');\n",
       "    canvas.addClass('mpl-canvas');\n",
       "    canvas.attr('style', \"left: 0; top: 0; z-index: 0; outline: 0\")\n",
       "\n",
       "    this.canvas = canvas[0];\n",
       "    this.context = canvas[0].getContext(\"2d\");\n",
       "\n",
       "    var rubberband = $('<canvas/>');\n",
       "    rubberband.attr('style', \"position: absolute; left: 0; top: 0; z-index: 1;\")\n",
       "\n",
       "    var pass_mouse_events = true;\n",
       "\n",
       "    canvas_div.resizable({\n",
       "        start: function(event, ui) {\n",
       "            pass_mouse_events = false;\n",
       "        },\n",
       "        resize: function(event, ui) {\n",
       "            fig.request_resize(ui.size.width, ui.size.height);\n",
       "        },\n",
       "        stop: function(event, ui) {\n",
       "            pass_mouse_events = true;\n",
       "            fig.request_resize(ui.size.width, ui.size.height);\n",
       "        },\n",
       "    });\n",
       "\n",
       "    function mouse_event_fn(event) {\n",
       "        if (pass_mouse_events)\n",
       "            return fig.mouse_event(event, event['data']);\n",
       "    }\n",
       "\n",
       "    rubberband.mousedown('button_press', mouse_event_fn);\n",
       "    rubberband.mouseup('button_release', mouse_event_fn);\n",
       "    // Throttle sequential mouse events to 1 every 20ms.\n",
       "    rubberband.mousemove('motion_notify', mouse_event_fn);\n",
       "\n",
       "    rubberband.mouseenter('figure_enter', mouse_event_fn);\n",
       "    rubberband.mouseleave('figure_leave', mouse_event_fn);\n",
       "\n",
       "    canvas_div.on(\"wheel\", function (event) {\n",
       "        event = event.originalEvent;\n",
       "        event['data'] = 'scroll'\n",
       "        if (event.deltaY < 0) {\n",
       "            event.step = 1;\n",
       "        } else {\n",
       "            event.step = -1;\n",
       "        }\n",
       "        mouse_event_fn(event);\n",
       "    });\n",
       "\n",
       "    canvas_div.append(canvas);\n",
       "    canvas_div.append(rubberband);\n",
       "\n",
       "    this.rubberband = rubberband;\n",
       "    this.rubberband_canvas = rubberband[0];\n",
       "    this.rubberband_context = rubberband[0].getContext(\"2d\");\n",
       "    this.rubberband_context.strokeStyle = \"#000000\";\n",
       "\n",
       "    this._resize_canvas = function(width, height) {\n",
       "        // Keep the size of the canvas, canvas container, and rubber band\n",
       "        // canvas in synch.\n",
       "        canvas_div.css('width', width)\n",
       "        canvas_div.css('height', height)\n",
       "\n",
       "        canvas.attr('width', width);\n",
       "        canvas.attr('height', height);\n",
       "\n",
       "        rubberband.attr('width', width);\n",
       "        rubberband.attr('height', height);\n",
       "    }\n",
       "\n",
       "    // Set the figure to an initial 600x600px, this will subsequently be updated\n",
       "    // upon first draw.\n",
       "    this._resize_canvas(600, 600);\n",
       "\n",
       "    // Disable right mouse context menu.\n",
       "    $(this.rubberband_canvas).bind(\"contextmenu\",function(e){\n",
       "        return false;\n",
       "    });\n",
       "\n",
       "    function set_focus () {\n",
       "        canvas.focus();\n",
       "        canvas_div.focus();\n",
       "    }\n",
       "\n",
       "    window.setTimeout(set_focus, 100);\n",
       "}\n",
       "\n",
       "mpl.figure.prototype._init_toolbar = function() {\n",
       "    var fig = this;\n",
       "\n",
       "    var nav_element = $('<div/>')\n",
       "    nav_element.attr('style', 'width: 100%');\n",
       "    this.root.append(nav_element);\n",
       "\n",
       "    // Define a callback function for later on.\n",
       "    function toolbar_event(event) {\n",
       "        return fig.toolbar_button_onclick(event['data']);\n",
       "    }\n",
       "    function toolbar_mouse_event(event) {\n",
       "        return fig.toolbar_button_onmouseover(event['data']);\n",
       "    }\n",
       "\n",
       "    for(var toolbar_ind in mpl.toolbar_items) {\n",
       "        var name = mpl.toolbar_items[toolbar_ind][0];\n",
       "        var tooltip = mpl.toolbar_items[toolbar_ind][1];\n",
       "        var image = mpl.toolbar_items[toolbar_ind][2];\n",
       "        var method_name = mpl.toolbar_items[toolbar_ind][3];\n",
       "\n",
       "        if (!name) {\n",
       "            // put a spacer in here.\n",
       "            continue;\n",
       "        }\n",
       "        var button = $('<button/>');\n",
       "        button.addClass('ui-button ui-widget ui-state-default ui-corner-all ' +\n",
       "                        'ui-button-icon-only');\n",
       "        button.attr('role', 'button');\n",
       "        button.attr('aria-disabled', 'false');\n",
       "        button.click(method_name, toolbar_event);\n",
       "        button.mouseover(tooltip, toolbar_mouse_event);\n",
       "\n",
       "        var icon_img = $('<span/>');\n",
       "        icon_img.addClass('ui-button-icon-primary ui-icon');\n",
       "        icon_img.addClass(image);\n",
       "        icon_img.addClass('ui-corner-all');\n",
       "\n",
       "        var tooltip_span = $('<span/>');\n",
       "        tooltip_span.addClass('ui-button-text');\n",
       "        tooltip_span.html(tooltip);\n",
       "\n",
       "        button.append(icon_img);\n",
       "        button.append(tooltip_span);\n",
       "\n",
       "        nav_element.append(button);\n",
       "    }\n",
       "\n",
       "    var fmt_picker_span = $('<span/>');\n",
       "\n",
       "    var fmt_picker = $('<select/>');\n",
       "    fmt_picker.addClass('mpl-toolbar-option ui-widget ui-widget-content');\n",
       "    fmt_picker_span.append(fmt_picker);\n",
       "    nav_element.append(fmt_picker_span);\n",
       "    this.format_dropdown = fmt_picker[0];\n",
       "\n",
       "    for (var ind in mpl.extensions) {\n",
       "        var fmt = mpl.extensions[ind];\n",
       "        var option = $(\n",
       "            '<option/>', {selected: fmt === mpl.default_extension}).html(fmt);\n",
       "        fmt_picker.append(option)\n",
       "    }\n",
       "\n",
       "    // Add hover states to the ui-buttons\n",
       "    $( \".ui-button\" ).hover(\n",
       "        function() { $(this).addClass(\"ui-state-hover\");},\n",
       "        function() { $(this).removeClass(\"ui-state-hover\");}\n",
       "    );\n",
       "\n",
       "    var status_bar = $('<span class=\"mpl-message\"/>');\n",
       "    nav_element.append(status_bar);\n",
       "    this.message = status_bar[0];\n",
       "}\n",
       "\n",
       "mpl.figure.prototype.request_resize = function(x_pixels, y_pixels) {\n",
       "    // Request matplotlib to resize the figure. Matplotlib will then trigger a resize in the client,\n",
       "    // which will in turn request a refresh of the image.\n",
       "    this.send_message('resize', {'width': x_pixels, 'height': y_pixels});\n",
       "}\n",
       "\n",
       "mpl.figure.prototype.send_message = function(type, properties) {\n",
       "    properties['type'] = type;\n",
       "    properties['figure_id'] = this.id;\n",
       "    this.ws.send(JSON.stringify(properties));\n",
       "}\n",
       "\n",
       "mpl.figure.prototype.send_draw_message = function() {\n",
       "    if (!this.waiting) {\n",
       "        this.waiting = true;\n",
       "        this.ws.send(JSON.stringify({type: \"draw\", figure_id: this.id}));\n",
       "    }\n",
       "}\n",
       "\n",
       "\n",
       "mpl.figure.prototype.handle_save = function(fig, msg) {\n",
       "    var format_dropdown = fig.format_dropdown;\n",
       "    var format = format_dropdown.options[format_dropdown.selectedIndex].value;\n",
       "    fig.ondownload(fig, format);\n",
       "}\n",
       "\n",
       "\n",
       "mpl.figure.prototype.handle_resize = function(fig, msg) {\n",
       "    var size = msg['size'];\n",
       "    if (size[0] != fig.canvas.width || size[1] != fig.canvas.height) {\n",
       "        fig._resize_canvas(size[0], size[1]);\n",
       "        fig.send_message(\"refresh\", {});\n",
       "    };\n",
       "}\n",
       "\n",
       "mpl.figure.prototype.handle_rubberband = function(fig, msg) {\n",
       "    var x0 = msg['x0'];\n",
       "    var y0 = fig.canvas.height - msg['y0'];\n",
       "    var x1 = msg['x1'];\n",
       "    var y1 = fig.canvas.height - msg['y1'];\n",
       "    x0 = Math.floor(x0) + 0.5;\n",
       "    y0 = Math.floor(y0) + 0.5;\n",
       "    x1 = Math.floor(x1) + 0.5;\n",
       "    y1 = Math.floor(y1) + 0.5;\n",
       "    var min_x = Math.min(x0, x1);\n",
       "    var min_y = Math.min(y0, y1);\n",
       "    var width = Math.abs(x1 - x0);\n",
       "    var height = Math.abs(y1 - y0);\n",
       "\n",
       "    fig.rubberband_context.clearRect(\n",
       "        0, 0, fig.canvas.width, fig.canvas.height);\n",
       "\n",
       "    fig.rubberband_context.strokeRect(min_x, min_y, width, height);\n",
       "}\n",
       "\n",
       "mpl.figure.prototype.handle_figure_label = function(fig, msg) {\n",
       "    // Updates the figure title.\n",
       "    fig.header.textContent = msg['label'];\n",
       "}\n",
       "\n",
       "mpl.figure.prototype.handle_cursor = function(fig, msg) {\n",
       "    var cursor = msg['cursor'];\n",
       "    switch(cursor)\n",
       "    {\n",
       "    case 0:\n",
       "        cursor = 'pointer';\n",
       "        break;\n",
       "    case 1:\n",
       "        cursor = 'default';\n",
       "        break;\n",
       "    case 2:\n",
       "        cursor = 'crosshair';\n",
       "        break;\n",
       "    case 3:\n",
       "        cursor = 'move';\n",
       "        break;\n",
       "    }\n",
       "    fig.rubberband_canvas.style.cursor = cursor;\n",
       "}\n",
       "\n",
       "mpl.figure.prototype.handle_message = function(fig, msg) {\n",
       "    fig.message.textContent = msg['message'];\n",
       "}\n",
       "\n",
       "mpl.figure.prototype.handle_draw = function(fig, msg) {\n",
       "    // Request the server to send over a new figure.\n",
       "    fig.send_draw_message();\n",
       "}\n",
       "\n",
       "mpl.figure.prototype.handle_image_mode = function(fig, msg) {\n",
       "    fig.image_mode = msg['mode'];\n",
       "}\n",
       "\n",
       "mpl.figure.prototype.updated_canvas_event = function() {\n",
       "    // Called whenever the canvas gets updated.\n",
       "    this.send_message(\"ack\", {});\n",
       "}\n",
       "\n",
       "// A function to construct a web socket function for onmessage handling.\n",
       "// Called in the figure constructor.\n",
       "mpl.figure.prototype._make_on_message_function = function(fig) {\n",
       "    return function socket_on_message(evt) {\n",
       "        if (evt.data instanceof Blob) {\n",
       "            /* FIXME: We get \"Resource interpreted as Image but\n",
       "             * transferred with MIME type text/plain:\" errors on\n",
       "             * Chrome.  But how to set the MIME type?  It doesn't seem\n",
       "             * to be part of the websocket stream */\n",
       "            evt.data.type = \"image/png\";\n",
       "\n",
       "            /* Free the memory for the previous frames */\n",
       "            if (fig.imageObj.src) {\n",
       "                (window.URL || window.webkitURL).revokeObjectURL(\n",
       "                    fig.imageObj.src);\n",
       "            }\n",
       "\n",
       "            fig.imageObj.src = (window.URL || window.webkitURL).createObjectURL(\n",
       "                evt.data);\n",
       "            fig.updated_canvas_event();\n",
       "            fig.waiting = false;\n",
       "            return;\n",
       "        }\n",
       "        else if (typeof evt.data === 'string' && evt.data.slice(0, 21) == \"data:image/png;base64\") {\n",
       "            fig.imageObj.src = evt.data;\n",
       "            fig.updated_canvas_event();\n",
       "            fig.waiting = false;\n",
       "            return;\n",
       "        }\n",
       "\n",
       "        var msg = JSON.parse(evt.data);\n",
       "        var msg_type = msg['type'];\n",
       "\n",
       "        // Call the  \"handle_{type}\" callback, which takes\n",
       "        // the figure and JSON message as its only arguments.\n",
       "        try {\n",
       "            var callback = fig[\"handle_\" + msg_type];\n",
       "        } catch (e) {\n",
       "            console.log(\"No handler for the '\" + msg_type + \"' message type: \", msg);\n",
       "            return;\n",
       "        }\n",
       "\n",
       "        if (callback) {\n",
       "            try {\n",
       "                // console.log(\"Handling '\" + msg_type + \"' message: \", msg);\n",
       "                callback(fig, msg);\n",
       "            } catch (e) {\n",
       "                console.log(\"Exception inside the 'handler_\" + msg_type + \"' callback:\", e, e.stack, msg);\n",
       "            }\n",
       "        }\n",
       "    };\n",
       "}\n",
       "\n",
       "// from http://stackoverflow.com/questions/1114465/getting-mouse-location-in-canvas\n",
       "mpl.findpos = function(e) {\n",
       "    //this section is from http://www.quirksmode.org/js/events_properties.html\n",
       "    var targ;\n",
       "    if (!e)\n",
       "        e = window.event;\n",
       "    if (e.target)\n",
       "        targ = e.target;\n",
       "    else if (e.srcElement)\n",
       "        targ = e.srcElement;\n",
       "    if (targ.nodeType == 3) // defeat Safari bug\n",
       "        targ = targ.parentNode;\n",
       "\n",
       "    // jQuery normalizes the pageX and pageY\n",
       "    // pageX,Y are the mouse positions relative to the document\n",
       "    // offset() returns the position of the element relative to the document\n",
       "    var x = e.pageX - $(targ).offset().left;\n",
       "    var y = e.pageY - $(targ).offset().top;\n",
       "\n",
       "    return {\"x\": x, \"y\": y};\n",
       "};\n",
       "\n",
       "/*\n",
       " * return a copy of an object with only non-object keys\n",
       " * we need this to avoid circular references\n",
       " * http://stackoverflow.com/a/24161582/3208463\n",
       " */\n",
       "function simpleKeys (original) {\n",
       "  return Object.keys(original).reduce(function (obj, key) {\n",
       "    if (typeof original[key] !== 'object')\n",
       "        obj[key] = original[key]\n",
       "    return obj;\n",
       "  }, {});\n",
       "}\n",
       "\n",
       "mpl.figure.prototype.mouse_event = function(event, name) {\n",
       "    var canvas_pos = mpl.findpos(event)\n",
       "\n",
       "    if (name === 'button_press')\n",
       "    {\n",
       "        this.canvas.focus();\n",
       "        this.canvas_div.focus();\n",
       "    }\n",
       "\n",
       "    var x = canvas_pos.x;\n",
       "    var y = canvas_pos.y;\n",
       "\n",
       "    this.send_message(name, {x: x, y: y, button: event.button,\n",
       "                             step: event.step,\n",
       "                             guiEvent: simpleKeys(event)});\n",
       "\n",
       "    /* This prevents the web browser from automatically changing to\n",
       "     * the text insertion cursor when the button is pressed.  We want\n",
       "     * to control all of the cursor setting manually through the\n",
       "     * 'cursor' event from matplotlib */\n",
       "    event.preventDefault();\n",
       "    return false;\n",
       "}\n",
       "\n",
       "mpl.figure.prototype._key_event_extra = function(event, name) {\n",
       "    // Handle any extra behaviour associated with a key event\n",
       "}\n",
       "\n",
       "mpl.figure.prototype.key_event = function(event, name) {\n",
       "\n",
       "    // Prevent repeat events\n",
       "    if (name == 'key_press')\n",
       "    {\n",
       "        if (event.which === this._key)\n",
       "            return;\n",
       "        else\n",
       "            this._key = event.which;\n",
       "    }\n",
       "    if (name == 'key_release')\n",
       "        this._key = null;\n",
       "\n",
       "    var value = '';\n",
       "    if (event.ctrlKey && event.which != 17)\n",
       "        value += \"ctrl+\";\n",
       "    if (event.altKey && event.which != 18)\n",
       "        value += \"alt+\";\n",
       "    if (event.shiftKey && event.which != 16)\n",
       "        value += \"shift+\";\n",
       "\n",
       "    value += 'k';\n",
       "    value += event.which.toString();\n",
       "\n",
       "    this._key_event_extra(event, name);\n",
       "\n",
       "    this.send_message(name, {key: value,\n",
       "                             guiEvent: simpleKeys(event)});\n",
       "    return false;\n",
       "}\n",
       "\n",
       "mpl.figure.prototype.toolbar_button_onclick = function(name) {\n",
       "    if (name == 'download') {\n",
       "        this.handle_save(this, null);\n",
       "    } else {\n",
       "        this.send_message(\"toolbar_button\", {name: name});\n",
       "    }\n",
       "};\n",
       "\n",
       "mpl.figure.prototype.toolbar_button_onmouseover = function(tooltip) {\n",
       "    this.message.textContent = tooltip;\n",
       "};\n",
       "mpl.toolbar_items = [[\"Home\", \"Reset original view\", \"fa fa-home icon-home\", \"home\"], [\"Back\", \"Back to  previous view\", \"fa fa-arrow-left icon-arrow-left\", \"back\"], [\"Forward\", \"Forward to next view\", \"fa fa-arrow-right icon-arrow-right\", \"forward\"], [\"\", \"\", \"\", \"\"], [\"Pan\", \"Pan axes with left mouse, zoom with right\", \"fa fa-arrows icon-move\", \"pan\"], [\"Zoom\", \"Zoom to rectangle\", \"fa fa-square-o icon-check-empty\", \"zoom\"], [\"\", \"\", \"\", \"\"], [\"Download\", \"Download plot\", \"fa fa-floppy-o icon-save\", \"download\"]];\n",
       "\n",
       "mpl.extensions = [\"eps\", \"jpeg\", \"pdf\", \"png\", \"ps\", \"raw\", \"svg\", \"tif\"];\n",
       "\n",
       "mpl.default_extension = \"png\";var comm_websocket_adapter = function(comm) {\n",
       "    // Create a \"websocket\"-like object which calls the given IPython comm\n",
       "    // object with the appropriate methods. Currently this is a non binary\n",
       "    // socket, so there is still some room for performance tuning.\n",
       "    var ws = {};\n",
       "\n",
       "    ws.close = function() {\n",
       "        comm.close()\n",
       "    };\n",
       "    ws.send = function(m) {\n",
       "        //console.log('sending', m);\n",
       "        comm.send(m);\n",
       "    };\n",
       "    // Register the callback with on_msg.\n",
       "    comm.on_msg(function(msg) {\n",
       "        //console.log('receiving', msg['content']['data'], msg);\n",
       "        // Pass the mpl event to the overriden (by mpl) onmessage function.\n",
       "        ws.onmessage(msg['content']['data'])\n",
       "    });\n",
       "    return ws;\n",
       "}\n",
       "\n",
       "mpl.mpl_figure_comm = function(comm, msg) {\n",
       "    // This is the function which gets called when the mpl process\n",
       "    // starts-up an IPython Comm through the \"matplotlib\" channel.\n",
       "\n",
       "    var id = msg.content.data.id;\n",
       "    // Get hold of the div created by the display call when the Comm\n",
       "    // socket was opened in Python.\n",
       "    var element = $(\"#\" + id);\n",
       "    var ws_proxy = comm_websocket_adapter(comm)\n",
       "\n",
       "    function ondownload(figure, format) {\n",
       "        window.open(figure.imageObj.src);\n",
       "    }\n",
       "\n",
       "    var fig = new mpl.figure(id, ws_proxy,\n",
       "                           ondownload,\n",
       "                           element.get(0));\n",
       "\n",
       "    // Call onopen now - mpl needs it, as it is assuming we've passed it a real\n",
       "    // web socket which is closed, not our websocket->open comm proxy.\n",
       "    ws_proxy.onopen();\n",
       "\n",
       "    fig.parent_element = element.get(0);\n",
       "    fig.cell_info = mpl.find_output_cell(\"<div id='\" + id + \"'></div>\");\n",
       "    if (!fig.cell_info) {\n",
       "        console.error(\"Failed to find cell for figure\", id, fig);\n",
       "        return;\n",
       "    }\n",
       "\n",
       "    var output_index = fig.cell_info[2]\n",
       "    var cell = fig.cell_info[0];\n",
       "\n",
       "};\n",
       "\n",
       "mpl.figure.prototype.handle_close = function(fig, msg) {\n",
       "    fig.root.unbind('remove')\n",
       "\n",
       "    // Update the output cell to use the data from the current canvas.\n",
       "    fig.push_to_output();\n",
       "    var dataURL = fig.canvas.toDataURL();\n",
       "    // Re-enable the keyboard manager in IPython - without this line, in FF,\n",
       "    // the notebook keyboard shortcuts fail.\n",
       "    IPython.keyboard_manager.enable()\n",
       "    $(fig.parent_element).html('<img src=\"' + dataURL + '\">');\n",
       "    fig.close_ws(fig, msg);\n",
       "}\n",
       "\n",
       "mpl.figure.prototype.close_ws = function(fig, msg){\n",
       "    fig.send_message('closing', msg);\n",
       "    // fig.ws.close()\n",
       "}\n",
       "\n",
       "mpl.figure.prototype.push_to_output = function(remove_interactive) {\n",
       "    // Turn the data on the canvas into data in the output cell.\n",
       "    var dataURL = this.canvas.toDataURL();\n",
       "    this.cell_info[1]['text/html'] = '<img src=\"' + dataURL + '\">';\n",
       "}\n",
       "\n",
       "mpl.figure.prototype.updated_canvas_event = function() {\n",
       "    // Tell IPython that the notebook contents must change.\n",
       "    IPython.notebook.set_dirty(true);\n",
       "    this.send_message(\"ack\", {});\n",
       "    var fig = this;\n",
       "    // Wait a second, then push the new image to the DOM so\n",
       "    // that it is saved nicely (might be nice to debounce this).\n",
       "    setTimeout(function () { fig.push_to_output() }, 1000);\n",
       "}\n",
       "\n",
       "mpl.figure.prototype._init_toolbar = function() {\n",
       "    var fig = this;\n",
       "\n",
       "    var nav_element = $('<div/>')\n",
       "    nav_element.attr('style', 'width: 100%');\n",
       "    this.root.append(nav_element);\n",
       "\n",
       "    // Define a callback function for later on.\n",
       "    function toolbar_event(event) {\n",
       "        return fig.toolbar_button_onclick(event['data']);\n",
       "    }\n",
       "    function toolbar_mouse_event(event) {\n",
       "        return fig.toolbar_button_onmouseover(event['data']);\n",
       "    }\n",
       "\n",
       "    for(var toolbar_ind in mpl.toolbar_items){\n",
       "        var name = mpl.toolbar_items[toolbar_ind][0];\n",
       "        var tooltip = mpl.toolbar_items[toolbar_ind][1];\n",
       "        var image = mpl.toolbar_items[toolbar_ind][2];\n",
       "        var method_name = mpl.toolbar_items[toolbar_ind][3];\n",
       "\n",
       "        if (!name) { continue; };\n",
       "\n",
       "        var button = $('<button class=\"btn btn-default\" href=\"#\" title=\"' + name + '\"><i class=\"fa ' + image + ' fa-lg\"></i></button>');\n",
       "        button.click(method_name, toolbar_event);\n",
       "        button.mouseover(tooltip, toolbar_mouse_event);\n",
       "        nav_element.append(button);\n",
       "    }\n",
       "\n",
       "    // Add the status bar.\n",
       "    var status_bar = $('<span class=\"mpl-message\" style=\"text-align:right; float: right;\"/>');\n",
       "    nav_element.append(status_bar);\n",
       "    this.message = status_bar[0];\n",
       "\n",
       "    // Add the close button to the window.\n",
       "    var buttongrp = $('<div class=\"btn-group inline pull-right\"></div>');\n",
       "    var button = $('<button class=\"btn btn-mini btn-primary\" href=\"#\" title=\"Stop Interaction\"><i class=\"fa fa-power-off icon-remove icon-large\"></i></button>');\n",
       "    button.click(function (evt) { fig.handle_close(fig, {}); } );\n",
       "    button.mouseover('Stop Interaction', toolbar_mouse_event);\n",
       "    buttongrp.append(button);\n",
       "    var titlebar = this.root.find($('.ui-dialog-titlebar'));\n",
       "    titlebar.prepend(buttongrp);\n",
       "}\n",
       "\n",
       "mpl.figure.prototype._root_extra_style = function(el){\n",
       "    var fig = this\n",
       "    el.on(\"remove\", function(){\n",
       "\tfig.close_ws(fig, {});\n",
       "    });\n",
       "}\n",
       "\n",
       "mpl.figure.prototype._canvas_extra_style = function(el){\n",
       "    // this is important to make the div 'focusable\n",
       "    el.attr('tabindex', 0)\n",
       "    // reach out to IPython and tell the keyboard manager to turn it's self\n",
       "    // off when our div gets focus\n",
       "\n",
       "    // location in version 3\n",
       "    if (IPython.notebook.keyboard_manager) {\n",
       "        IPython.notebook.keyboard_manager.register_events(el);\n",
       "    }\n",
       "    else {\n",
       "        // location in version 2\n",
       "        IPython.keyboard_manager.register_events(el);\n",
       "    }\n",
       "\n",
       "}\n",
       "\n",
       "mpl.figure.prototype._key_event_extra = function(event, name) {\n",
       "    var manager = IPython.notebook.keyboard_manager;\n",
       "    if (!manager)\n",
       "        manager = IPython.keyboard_manager;\n",
       "\n",
       "    // Check for shift+enter\n",
       "    if (event.shiftKey && event.which == 13) {\n",
       "        this.canvas_div.blur();\n",
       "        // select the cell after this one\n",
       "        var index = IPython.notebook.find_cell_index(this.cell_info[0]);\n",
       "        IPython.notebook.select(index + 1);\n",
       "    }\n",
       "}\n",
       "\n",
       "mpl.figure.prototype.handle_save = function(fig, msg) {\n",
       "    fig.ondownload(fig, null);\n",
       "}\n",
       "\n",
       "\n",
       "mpl.find_output_cell = function(html_output) {\n",
       "    // Return the cell and output element which can be found *uniquely* in the notebook.\n",
       "    // Note - this is a bit hacky, but it is done because the \"notebook_saving.Notebook\"\n",
       "    // IPython event is triggered only after the cells have been serialised, which for\n",
       "    // our purposes (turning an active figure into a static one), is too late.\n",
       "    var cells = IPython.notebook.get_cells();\n",
       "    var ncells = cells.length;\n",
       "    for (var i=0; i<ncells; i++) {\n",
       "        var cell = cells[i];\n",
       "        if (cell.cell_type === 'code'){\n",
       "            for (var j=0; j<cell.output_area.outputs.length; j++) {\n",
       "                var data = cell.output_area.outputs[j];\n",
       "                if (data.data) {\n",
       "                    // IPython >= 3 moved mimebundle to data attribute of output\n",
       "                    data = data.data;\n",
       "                }\n",
       "                if (data['text/html'] == html_output) {\n",
       "                    return [cell, data, j];\n",
       "                }\n",
       "            }\n",
       "        }\n",
       "    }\n",
       "}\n",
       "\n",
       "// Register the function which deals with the matplotlib target/channel.\n",
       "// The kernel may be null if the page has been refreshed.\n",
       "if (IPython.notebook.kernel != null) {\n",
       "    IPython.notebook.kernel.comm_manager.register_target('matplotlib', mpl.mpl_figure_comm);\n",
       "}\n"
      ],
      "text/plain": [
       "<IPython.core.display.Javascript object>"
      ]
     },
     "metadata": {},
     "output_type": "display_data"
    },
    {
     "data": {
      "text/html": [
       "<img src=\"data:image/png;base64,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\">"
      ],
      "text/plain": [
       "<IPython.core.display.HTML object>"
      ]
     },
     "metadata": {},
     "output_type": "display_data"
    }
   ],
   "source": [
    "%matplotlib notebook\n",
    "from mpl_toolkits.mplot3d import Axes3D\n",
    "\n",
    "fig = plt.figure()\n",
    "ax = Axes3D(fig)\n",
    "\n",
    "ax.scatter(X[:,0].tolist(), X[:,1].tolist(), X[:,2].tolist(), c=clusters, cmap='prism')  # plot points with cluster dependent colors\n",
    "plt.show()"
   ]
  },
  {
   "cell_type": "markdown",
   "metadata": {},
   "source": [
    "## Get clusters by max number"
   ]
  },
  {
   "cell_type": "code",
   "execution_count": null,
   "metadata": {
    "collapsed": false
   },
   "outputs": [],
   "source": [
    "from scipy.cluster.hierarchy import fcluster\n",
    "k=11\n",
    "result = fcluster(Z, k, criterion='maxclust')\n",
    "print Counter(result)"
   ]
  },
  {
   "cell_type": "markdown",
   "metadata": {},
   "source": [
    "## Framming corpus"
   ]
  },
  {
   "cell_type": "code",
   "execution_count": 35,
   "metadata": {
    "collapsed": false
   },
   "outputs": [
    {
     "name": "stdout",
     "output_type": "stream",
     "text": [
      "Cluster counts: \n"
     ]
    },
    {
     "data": {
      "text/plain": [
       "4    479\n",
       "3     93\n",
       "5     39\n",
       "2      7\n",
       "1      4\n",
       "6      1\n",
       "Name: cluster, dtype: int64"
      ]
     },
     "execution_count": 35,
     "metadata": {},
     "output_type": "execute_result"
    }
   ],
   "source": [
    "ranks = [i for i in range(len(z_sig_segments))]\n",
    "\n",
    "df = {'sym_segments':sym_segments,\n",
    "      'cluster':clusters,\n",
    "      'rank':ranks,\n",
    "      'x_sig_segments':x_sig_segments,\n",
    "      'y_sig_segments':y_sig_segments,\n",
    "      'z_sig_segments':z_sig_segments,\n",
    "      'sig_file_map':sig_file_map,\n",
    "      'sym_file_map':sym_file_map,\n",
    "      'alignment': succ_alignments\n",
    "     }\n",
    "\n",
    "frame = pd.DataFrame(df, index = [clusters] , columns = ['sym_segments','cluster','rank','x_sig_segments',\n",
    "                                                         'y_sig_segments','z_sig_segments',\n",
    "                                                         'sig_file_map','sym_file_map', 'alignment'])\n",
    "assert frame['sig_file_map'].equals(frame['sym_file_map'])\n",
    "print 'Cluster counts: '\n",
    "frame['cluster'].value_counts()"
   ]
  },
  {
   "cell_type": "markdown",
   "metadata": {},
   "source": [
    "## Save to pickle"
   ]
  },
  {
   "cell_type": "code",
   "execution_count": 36,
   "metadata": {
    "collapsed": false
   },
   "outputs": [
    {
     "name": "stdout",
     "output_type": "stream",
     "text": [
      "pickle DONE!\n"
     ]
    }
   ],
   "source": [
    "# open the file for writing\n",
    "file_name = 'cluster_info_matrix.pkl'\n",
    "file_object = open(file_name,'wb')\n",
    "pickle.dump(frame,file_object)\n",
    "file_object.close()\n",
    "print 'pickle DONE!'"
   ]
  },
  {
   "cell_type": "code",
   "execution_count": null,
   "metadata": {
    "collapsed": false
   },
   "outputs": [],
   "source": [
    "grouped = frame['rank'].groupby(frame['cluster'])\n",
    "grouped.mean()"
   ]
  },
  {
   "cell_type": "markdown",
   "metadata": {},
   "source": [
    "## Multidimensional scaling"
   ]
  },
  {
   "cell_type": "code",
   "execution_count": null,
   "metadata": {
    "collapsed": false
   },
   "outputs": [],
   "source": [
    "from sklearn.manifold import MDS\n",
    "\n",
    "MDS()\n",
    "# two components as we're plotting points in a two-dimensional plane\n",
    "# \"precomputed\" because we provide a distance matrix\n",
    "# we will also specify `random_state` so the plot is reproducible.\n",
    "mds = MDS(n_components=2, dissimilarity=\"precomputed\", random_state=1)\n",
    "pos = mds.fit_transform(dist)  # shape (n_components, n_samples)\n",
    "xs, ys = pos[:, 0], pos[:, 1]"
   ]
  },
  {
   "cell_type": "markdown",
   "metadata": {},
   "source": [
    "## Visualizing document clusters"
   ]
  },
  {
   "cell_type": "code",
   "execution_count": null,
   "metadata": {
    "collapsed": true
   },
   "outputs": [],
   "source": [
    "#set up colors per clusters using a dict\n",
    "cluster_colors = {0: '#1b9e77', 1: '#d95f02', 2: '#7570b3', 3: '#e7298a', 4: '#66a61e'}\n",
    "\n",
    "#set up cluster names using a dict\n",
    "cluster_names = {0: 'Cluster 1', \n",
    "                 1: 'Cluster 2', \n",
    "                 2: 'Cluster 3', \n",
    "                 3: 'Cluster 4', \n",
    "                 4: 'Cluster 5'}"
   ]
  },
  {
   "cell_type": "code",
   "execution_count": null,
   "metadata": {
    "collapsed": false
   },
   "outputs": [],
   "source": [
    "#create data frame that has the result of the MDS plus the cluster numbers and titles\n",
    "df = pd.DataFrame(dict(x=xs, y=ys, label=clusters, title=range(len(sym_segments)))) \n",
    "\n",
    "#group by cluster\n",
    "groups = df.groupby('label')\n",
    "\n",
    "\n",
    "# set up plot\n",
    "fig, ax = plt.subplots(figsize=(17, 9)) # set size\n",
    "ax.margins(0.05) # Optional, just adds 5% padding to the autoscaling\n",
    "\n",
    "#iterate through groups to layer the plot\n",
    "#note that I use the cluster_name and cluster_color dicts with the 'name' lookup to return the appropriate color/label\n",
    "for name, group in groups:\n",
    "    ax.plot(group.x, group.y, marker='o', linestyle='', ms=12, label=cluster_names[name], color=cluster_colors[name], mec='none')\n",
    "    ax.set_aspect('auto')\n",
    "    ax.tick_params(\\\n",
    "        axis= 'x',          # changes apply to the x-axis\n",
    "        which='both',      # both major and minor ticks are affected\n",
    "        bottom='off',      # ticks along the bottom edge are off\n",
    "        top='off',         # ticks along the top edge are off\n",
    "        labelbottom='off')\n",
    "    ax.tick_params(\\\n",
    "        axis= 'y',         # changes apply to the y-axis\n",
    "        which='both',      # both major and minor ticks are affected\n",
    "        left='off',      # ticks along the bottom edge are off\n",
    "        top='off',         # ticks along the top edge are off\n",
    "        labelleft='off')\n",
    "    \n",
    "ax.legend(numpoints=1)  #show legend with only 1 point\n",
    "\n",
    "#add label in x,y position with the label as the film title\n",
    "for i in range(len(df)):\n",
    "    ax.text(df.ix[i]['x'], df.ix[i]['y'], df.ix[i]['title'], size=8)  \n",
    "\n",
    "    \n",
    "    \n",
    "plt.show() #show the plot\n",
    "\n",
    "#uncomment the below to save the plot if need be\n",
    "#plt.savefig('clusters_small_noaxes.png', dpi=200)"
   ]
  },
  {
   "cell_type": "markdown",
   "metadata": {},
   "source": [
    "## Save to pickle"
   ]
  },
  {
   "cell_type": "code",
   "execution_count": null,
   "metadata": {
    "collapsed": false
   },
   "outputs": [],
   "source": [
    "# open the file for writing\n",
    "file_name = 'cluster_info_matrix.pkl'\n",
    "file_object = open(file_name,'wb')\n",
    "pickle.dump(frame,file_object)\n",
    "file_object.close()\n",
    "print 'pickle DONE!'"
   ]
  },
  {
   "cell_type": "markdown",
   "metadata": {},
   "source": [
    "## Cluster's members"
   ]
  },
  {
   "cell_type": "code",
   "execution_count": null,
   "metadata": {
    "collapsed": false
   },
   "outputs": [],
   "source": [
    "grid_side_size = 5\n",
    "fig, axes = plt.subplots(4, grid_side_size, figsize=(20,9))\n",
    "\n",
    "first_50 = defaultdict(list)\n",
    "for ind,c in enumerate(clusters):\n",
    "    axes[0][c].plot(sig_segments[ind])\n",
    "    axes[0][c].set_title('Cluster {}'.format(c))\n",
    "    first_50[c].append(sig_segments[ind][:50])\n",
    "    \n",
    "for c,l in first_50.iteritems():\n",
    "    sig = np.matrix(l)\n",
    "    mean_of_sig = np.mean(sig,axis=0).tolist()[0]\n",
    "    std_of_sig  = np.std(sig,axis=0).tolist()[0]\n",
    "    axes[1][c].errorbar(range(len(mean_of_sig)),mean_of_sig,yerr=std_of_sig, fmt='-o', ecolor='r')\n",
    "    axes[1][c].set_title('Mean of first 50 pts - Cluster {}'.format(c))\n",
    "    axes[1][c].plot(mean_of_sig, c='m')\n",
    "    \n",
    "N_fft = 100 # FFT number of bins\n",
    "Fs = 100 # Frequence range we are interested\n",
    "\n",
    "for c,l in first_50.iteritems():\n",
    "    # getting the signal (the mean value of each 50-length segment in the cluster). Assumed to be the\n",
    "    # mean of the cluster.\n",
    "    sig = np.mean(np.matrix(l),axis=0).tolist()[0]\n",
    "    mean_sig = np.ones_like(sig)*np.mean(sig)\n",
    "    # remove mean of the signal, for better results.\n",
    "    sig = sig - mean_sig\n",
    "    ### FFT\n",
    "    freqsig = fft.fft(sig, n=N_fft)\n",
    "    freq_axis = np.arange(0, Fs, Fs / N_fft)\n",
    "    axes[2][c].plot(freq_axis, np.abs(freqsig), lw=2.0, c='b')\n",
    "    p = plt.Rectangle((Fs/2, 0), Fs/2, ax.get_ylim()[1], facecolor=\"grey\", fill=True, alpha=0.75, hatch=\"/\", zorder=3)\n",
    "    axes[2][c].add_patch(p)\n",
    "    axes[2][c].set_xlim((-2,Fs))\n",
    "    axes[2][c].set_xlim((-2,Fs))\n",
    "    axes[2][c].set_title(\"FFT - Cluster{}\".format(c), fontsize=10)\n",
    "    axes[2][c].set_ylabel('Power')\n",
    "    axes[2][c].set_xlabel('Frequency (Hz)')\n",
    "    axes[2][c].legend((p,), ('excluded',))\n",
    "    axes[2][c].grid()\n",
    "\n",
    "for cc in range(len(cluster_centers)):\n",
    "    axes[3][cc].plot(cluster_centers[cc])\n",
    "    axes[3][cc].set_title('Centroid of cluster {}'.format(cc))\n",
    "    \n",
    "fig.tight_layout()\n",
    "fig.subplots_adjust(hspace=0.8, wspace=0.5)\n",
    "plt.draw()"
   ]
  },
  {
   "cell_type": "markdown",
   "metadata": {},
   "source": [
    "## Hierarchical document clustering"
   ]
  },
  {
   "cell_type": "markdown",
   "metadata": {},
   "source": [
    "Now that I was successfuly able to cluster and plot the documents using k-means, I wanted to try another clustering algorithm. I chose the [Ward clustering algorithm](http://en.wikipedia.org/wiki/Ward%27s_method) because it offers hierarchical clustering. Ward clustering is an agglomerative clustering method, meaning that at each stage, the pair of clusters with minimum between-cluster distance are merged. I used the precomputed cosine distance matrix (*dist*) to calculate a linkage_matrix, which I then plot as a dendrogram. "
   ]
  },
  {
   "cell_type": "code",
   "execution_count": null,
   "metadata": {
    "collapsed": false
   },
   "outputs": [],
   "source": [
    "from scipy.cluster.hierarchy import ward, dendrogram\n",
    "\n",
    "linkage_matrix = ward(dist) #define the linkage_matrix using ward clustering pre-computed distances\n",
    "\n",
    "fig, ax = plt.subplots(figsize=(12, 20)) # set size\n",
    "ax = dendrogram(linkage_matrix, orientation=\"right\", labels=range(len(segments)))\n",
    "\n",
    "plt.tick_params(\\\n",
    "    axis= 'x',          # changes apply to the x-axis\n",
    "    which='both',      # both major and minor ticks are affected\n",
    "    bottom='off',      # ticks along the bottom edge are off\n",
    "    top='off',         # ticks along the top edge are off\n",
    "    labelbottom='off')\n",
    "\n",
    "plt.tight_layout() #show plot with tight layout\n",
    "\n",
    "#uncomment below to save figure\n",
    "plt.savefig('ward_clusters.png', dpi=200) #save figure as ward_clusters"
   ]
  },
  {
   "cell_type": "markdown",
   "metadata": {},
   "source": [
    "## T-sne"
   ]
  },
  {
   "cell_type": "code",
   "execution_count": null,
   "metadata": {
    "collapsed": false
   },
   "outputs": [],
   "source": [
    "%%time\n",
    "\n",
    "from sklearn.decomposition import TruncatedSVD \n",
    "from sklearn.preprocessing import normalize \n",
    "\n",
    "ncomps = 10\n",
    "svd = TruncatedSVD(n_components=ncomps)\n",
    "svd_fit = svd.fit(smatrix.todense())\n",
    "Y = svd.fit_transform(smatrix.todense()) \n",
    "ax = pd.Series(svd_fit.explained_variance_ratio_.cumsum()).plot(kind='line', figsize=(10,3)).set_ylim([0,1.1])\n",
    "print('Variance preserved by first 50 components == {:.2%}'.format(\n",
    "        svd_fit.explained_variance_ratio_.cumsum()[-1]))"
   ]
  },
  {
   "cell_type": "code",
   "execution_count": null,
   "metadata": {
    "collapsed": false
   },
   "outputs": [],
   "source": [
    "dfsvd = pd.DataFrame(Y, columns=['c{}'.format(c) for c in range(ncomps)], index=frame.index)\n",
    "print(dfsvd.shape)\n",
    "dfsvd.head()"
   ]
  },
  {
   "cell_type": "code",
   "execution_count": null,
   "metadata": {
    "collapsed": false
   },
   "outputs": [],
   "source": [
    "plotdims = 5\n",
    "ploteorows = 1\n",
    "svdcols = [c for c in dfsvd.columns if c[0] == 'c']\n",
    "dfsvdplot = dfsvd[svdcols].iloc[:,:plotdims]\n",
    "dfsvdplot['cluster'] = frame['cluster']\n",
    "ax = sns.pairplot(dfsvdplot.iloc[::ploteorows,:], hue='cluster', size=2.5)\n"
   ]
  },
  {
   "cell_type": "code",
   "execution_count": null,
   "metadata": {
    "collapsed": false
   },
   "outputs": [],
   "source": [
    "Z = TSNE().fit_transform(dfsvd[svdcols])\n",
    "dftsne = pd.DataFrame(Z, columns=['x','y'], index=dfsvd.index)\n",
    "ax = sns.lmplot('x', 'y', dftsne, fit_reg=False, size=8\n",
    "                ,scatter_kws={'alpha':0.7,'s':60})"
   ]
  },
  {
   "cell_type": "code",
   "execution_count": null,
   "metadata": {
    "collapsed": false
   },
   "outputs": [],
   "source": [
    "dftsne['cluster'] = frame['cluster']\n",
    "g = sns.lmplot('x', 'y', dftsne, hue='cluster', fit_reg=False, size=8\n",
    "                ,scatter_kws={'alpha':0.7,'s':60})\n",
    "g.axes.flat[0].set_title('Scatterplot of a 20D dataset reduced to 2D using t-SNE')"
   ]
  },
  {
   "cell_type": "markdown",
   "metadata": {},
   "source": [
    "## With DBSCAN"
   ]
  },
  {
   "cell_type": "code",
   "execution_count": null,
   "metadata": {
    "collapsed": false
   },
   "outputs": [],
   "source": [
    "from sklearn.cluster import dbscan\n",
    "db_a = dbscan(tfidf_matrix,eps=0.60, min_samples=3)\n",
    "clusters = db_a[1].tolist()\n",
    "ranks = [i for i in range(len(segments))]\n",
    "ndf = {'indexes' : range(len(segments)), 'segments': segments,'cluster': clusters, 'rank': ranks}\n",
    "nframe = pd.DataFrame(ndf, index = [clusters] , columns = ['indexes','segments','cluster','rank'])\n",
    "nframe['cluster'].value_counts()"
   ]
  },
  {
   "cell_type": "code",
   "execution_count": null,
   "metadata": {
    "collapsed": false
   },
   "outputs": [],
   "source": [
    "ncomps = 10\n",
    "svd = TruncatedSVD(n_components=ncomps)\n",
    "svd_fit = svd.fit(smatrix.todense())\n",
    "Y = svd.fit_transform(smatrix.todense()) \n",
    "ax = pd.Series(svd_fit.explained_variance_ratio_.cumsum()).plot(kind='line', figsize=(10,3)).set_ylim([0,1.1])\n",
    "print('Variance preserved by first 50 components == {:.2%}'.format(\n",
    "        svd_fit.explained_variance_ratio_.cumsum()[-1]))"
   ]
  },
  {
   "cell_type": "code",
   "execution_count": null,
   "metadata": {
    "collapsed": false
   },
   "outputs": [],
   "source": [
    "dfsvd = pd.DataFrame(Y, columns=['c{}'.format(c) for c in range(ncomps)], index=nframe.index)\n",
    "print(dfsvd.shape)\n",
    "dfsvd.head()"
   ]
  },
  {
   "cell_type": "code",
   "execution_count": null,
   "metadata": {
    "collapsed": false,
    "scrolled": true
   },
   "outputs": [],
   "source": [
    "plotdims = 5\n",
    "ploteorows = 1\n",
    "dfsvdplot = dfsvd[svdcols].iloc[:,:plotdims]\n",
    "dfsvdplot['cluster'] = nframe['cluster']\n",
    "ax = sns.pairplot(dfsvdplot.iloc[::ploteorows,:], hue='cluster', size=2.5)"
   ]
  },
  {
   "cell_type": "code",
   "execution_count": null,
   "metadata": {
    "collapsed": false
   },
   "outputs": [],
   "source": [
    "svdcols = [c for c in dfsvd.columns if c[0] == 'c']\n",
    "Z = TSNE().fit_transform(dfsvd[svdcols])\n",
    "dftsne = pd.DataFrame(Z, columns=['x','y'], index=dfsvd.index)\n",
    "ax = sns.lmplot('x', 'y', dftsne, fit_reg=False, size=8\n",
    "                ,scatter_kws={'alpha':0.7,'s':60})"
   ]
  },
  {
   "cell_type": "code",
   "execution_count": null,
   "metadata": {
    "collapsed": false
   },
   "outputs": [],
   "source": [
    "dftsne['cluster'] = nframe['cluster']\n",
    "g = sns.lmplot('x', 'y', dftsne, hue='cluster', fit_reg=False, size=8\n",
    "                ,scatter_kws={'alpha':0.7,'s':60})\n",
    "g.axes.flat[0].set_title('Scatterplot of a 20D dataset reduced to 2D using t-SNE')"
   ]
  },
  {
   "cell_type": "code",
   "execution_count": null,
   "metadata": {
    "collapsed": true
   },
   "outputs": [],
   "source": []
  }
 ],
 "metadata": {
  "kernelspec": {
   "display_name": "Python 2",
   "language": "python",
   "name": "python2"
  },
  "language_info": {
   "codemirror_mode": {
    "name": "ipython",
    "version": 2
   },
   "file_extension": ".py",
   "mimetype": "text/x-python",
   "name": "python",
   "nbconvert_exporter": "python",
   "pygments_lexer": "ipython2",
   "version": "2.7.11"
  },
  "widgets": {
   "state": {},
   "version": "1.1.1"
  }
 },
 "nbformat": 4,
 "nbformat_minor": 0
}
